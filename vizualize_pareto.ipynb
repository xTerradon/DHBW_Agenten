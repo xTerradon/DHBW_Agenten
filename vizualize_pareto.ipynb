{
 "cells": [
  {
   "cell_type": "markdown",
   "metadata": {},
   "source": [
    "### IMPORTS"
   ]
  },
  {
   "cell_type": "code",
   "execution_count": 142,
   "metadata": {},
   "outputs": [
    {
     "data": {
      "text/plain": [
       "'c:\\\\Users\\\\luisb\\\\AppData\\\\Local\\\\Programs\\\\Python\\\\Python312\\\\python.exe'"
      ]
     },
     "execution_count": 142,
     "metadata": {},
     "output_type": "execute_result"
    }
   ],
   "source": [
    "import sys\n",
    "import os\n",
    "sys.executable"
   ]
  },
  {
   "cell_type": "code",
   "execution_count": 143,
   "metadata": {},
   "outputs": [],
   "source": [
    "import pandas as pd\n",
    "import matplotlib.pyplot as plt\n",
    "import seaborn as sns\n",
    "import numpy as np"
   ]
  },
  {
   "cell_type": "code",
   "execution_count": 144,
   "metadata": {},
   "outputs": [],
   "source": [
    "def get_pareto(arr):\n",
    "    # Convert the array to a numpy array\n",
    "    arr_np = np.array(arr)\n",
    "\n",
    "    # Initialize a boolean mask to keep track of pareto-efficient elements\n",
    "    is_pareto_efficient = np.ones(arr_np.shape[0], dtype=bool)\n",
    "\n",
    "    for i in range(arr_np.shape[0]):\n",
    "        if is_pareto_efficient[i]:\n",
    "            for j in range(arr_np.shape[0]):\n",
    "                if j != i and is_pareto_efficient[j]:\n",
    "                    # Check if arr[i] dominates arr[j] in all dimensions\n",
    "                    if np.all(arr_np[i] <= arr_np[j]) and np.any(arr_np[i] < arr_np[j]):\n",
    "                        is_pareto_efficient[j] = False\n",
    "\n",
    "    # Return the pareto-efficient elements\n",
    "    return is_pareto_efficient\n",
    "    "
   ]
  },
  {
   "cell_type": "code",
   "execution_count": 145,
   "metadata": {},
   "outputs": [
    {
     "data": {
      "text/plain": [
       "['saves_1710424156961.csv',\n",
       " 'saves_1710424454746.csv',\n",
       " 'saves_1710424515049.csv',\n",
       " 'saves_1710424637019.csv']"
      ]
     },
     "execution_count": 145,
     "metadata": {},
     "output_type": "execute_result"
    }
   ],
   "source": [
    "savefiles = [file for file in os.listdir(\"saves\") if file != \"pareto.csv\"] \n",
    "savefiles"
   ]
  },
  {
   "cell_type": "markdown",
   "metadata": {},
   "source": [
    "### VISUALIZATION"
   ]
  },
  {
   "cell_type": "code",
   "execution_count": 146,
   "metadata": {},
   "outputs": [
    {
     "data": {
      "text/html": [
       "<div>\n",
       "<style scoped>\n",
       "    .dataframe tbody tr th:only-of-type {\n",
       "        vertical-align: middle;\n",
       "    }\n",
       "\n",
       "    .dataframe tbody tr th {\n",
       "        vertical-align: top;\n",
       "    }\n",
       "\n",
       "    .dataframe thead th {\n",
       "        text-align: right;\n",
       "    }\n",
       "</style>\n",
       "<table border=\"1\" class=\"dataframe\">\n",
       "  <thead>\n",
       "    <tr style=\"text-align: right;\">\n",
       "      <th></th>\n",
       "      <th>utilA</th>\n",
       "      <th>utilB</th>\n",
       "      <th>utilSum</th>\n",
       "      <th>contract</th>\n",
       "      <th>pareto</th>\n",
       "    </tr>\n",
       "  </thead>\n",
       "  <tbody>\n",
       "    <tr>\n",
       "      <th>0</th>\n",
       "      <td>2844</td>\n",
       "      <td>8428</td>\n",
       "      <td>11272</td>\n",
       "      <td>[174,1,41,3,4,70,190,17,8,173,112,71,66,13,193...</td>\n",
       "      <td>True</td>\n",
       "    </tr>\n",
       "    <tr>\n",
       "      <th>1</th>\n",
       "      <td>2758</td>\n",
       "      <td>8492</td>\n",
       "      <td>11250</td>\n",
       "      <td>[174,1,41,3,4,70,190,17,8,173,112,71,66,13,193...</td>\n",
       "      <td>True</td>\n",
       "    </tr>\n",
       "    <tr>\n",
       "      <th>2</th>\n",
       "      <td>2817</td>\n",
       "      <td>8431</td>\n",
       "      <td>11248</td>\n",
       "      <td>[174,1,41,3,4,70,190,17,8,173,112,71,66,13,193...</td>\n",
       "      <td>True</td>\n",
       "    </tr>\n",
       "    <tr>\n",
       "      <th>3</th>\n",
       "      <td>2795</td>\n",
       "      <td>8448</td>\n",
       "      <td>11243</td>\n",
       "      <td>[174,1,41,3,4,70,190,17,8,173,112,71,66,13,193...</td>\n",
       "      <td>True</td>\n",
       "    </tr>\n",
       "    <tr>\n",
       "      <th>4</th>\n",
       "      <td>2726</td>\n",
       "      <td>8515</td>\n",
       "      <td>11241</td>\n",
       "      <td>[174,1,41,3,4,70,190,17,8,173,112,71,66,13,193...</td>\n",
       "      <td>True</td>\n",
       "    </tr>\n",
       "    <tr>\n",
       "      <th>5</th>\n",
       "      <td>2764</td>\n",
       "      <td>8461</td>\n",
       "      <td>11225</td>\n",
       "      <td>[174,1,41,3,4,70,190,17,8,173,112,71,66,13,193...</td>\n",
       "      <td>True</td>\n",
       "    </tr>\n",
       "  </tbody>\n",
       "</table>\n",
       "</div>"
      ],
      "text/plain": [
       "   utilA  utilB  utilSum                                           contract  \\\n",
       "0   2844   8428    11272  [174,1,41,3,4,70,190,17,8,173,112,71,66,13,193...   \n",
       "1   2758   8492    11250  [174,1,41,3,4,70,190,17,8,173,112,71,66,13,193...   \n",
       "2   2817   8431    11248  [174,1,41,3,4,70,190,17,8,173,112,71,66,13,193...   \n",
       "3   2795   8448    11243  [174,1,41,3,4,70,190,17,8,173,112,71,66,13,193...   \n",
       "4   2726   8515    11241  [174,1,41,3,4,70,190,17,8,173,112,71,66,13,193...   \n",
       "5   2764   8461    11225  [174,1,41,3,4,70,190,17,8,173,112,71,66,13,193...   \n",
       "\n",
       "   pareto  \n",
       "0    True  \n",
       "1    True  \n",
       "2    True  \n",
       "3    True  \n",
       "4    True  \n",
       "5    True  "
      ]
     },
     "execution_count": 146,
     "metadata": {},
     "output_type": "execute_result"
    }
   ],
   "source": [
    "pareto = pd.read_csv('saves/pareto.csv', sep=';')\n",
    "pareto"
   ]
  },
  {
   "cell_type": "code",
   "execution_count": 161,
   "metadata": {},
   "outputs": [
    {
     "data": {
      "text/html": [
       "<div>\n",
       "<style scoped>\n",
       "    .dataframe tbody tr th:only-of-type {\n",
       "        vertical-align: middle;\n",
       "    }\n",
       "\n",
       "    .dataframe tbody tr th {\n",
       "        vertical-align: top;\n",
       "    }\n",
       "\n",
       "    .dataframe thead th {\n",
       "        text-align: right;\n",
       "    }\n",
       "</style>\n",
       "<table border=\"1\" class=\"dataframe\">\n",
       "  <thead>\n",
       "    <tr style=\"text-align: right;\">\n",
       "      <th></th>\n",
       "      <th>utilA</th>\n",
       "      <th>utilB</th>\n",
       "      <th>utilSum</th>\n",
       "      <th>contract</th>\n",
       "      <th>pareto</th>\n",
       "    </tr>\n",
       "  </thead>\n",
       "  <tbody>\n",
       "    <tr>\n",
       "      <th>9998</th>\n",
       "      <td>2764</td>\n",
       "      <td>8461</td>\n",
       "      <td>11225</td>\n",
       "      <td>[174,1,41,3,4,70,190,17,8,173,112,71,66,13,193...</td>\n",
       "      <td>True</td>\n",
       "    </tr>\n",
       "    <tr>\n",
       "      <th>9997</th>\n",
       "      <td>2726</td>\n",
       "      <td>8515</td>\n",
       "      <td>11241</td>\n",
       "      <td>[174,1,41,3,4,70,190,17,8,173,112,71,66,13,193...</td>\n",
       "      <td>True</td>\n",
       "    </tr>\n",
       "    <tr>\n",
       "      <th>9996</th>\n",
       "      <td>2795</td>\n",
       "      <td>8448</td>\n",
       "      <td>11243</td>\n",
       "      <td>[174,1,41,3,4,70,190,17,8,173,112,71,66,13,193...</td>\n",
       "      <td>True</td>\n",
       "    </tr>\n",
       "    <tr>\n",
       "      <th>9994</th>\n",
       "      <td>2817</td>\n",
       "      <td>8431</td>\n",
       "      <td>11248</td>\n",
       "      <td>[174,1,41,3,4,70,190,17,8,173,112,71,66,13,193...</td>\n",
       "      <td>True</td>\n",
       "    </tr>\n",
       "    <tr>\n",
       "      <th>9993</th>\n",
       "      <td>2758</td>\n",
       "      <td>8492</td>\n",
       "      <td>11250</td>\n",
       "      <td>[174,1,41,3,4,70,190,17,8,173,112,71,66,13,193...</td>\n",
       "      <td>True</td>\n",
       "    </tr>\n",
       "    <tr>\n",
       "      <th>9987</th>\n",
       "      <td>2844</td>\n",
       "      <td>8428</td>\n",
       "      <td>11272</td>\n",
       "      <td>[174,1,41,3,4,70,190,17,8,173,112,71,66,13,193...</td>\n",
       "      <td>True</td>\n",
       "    </tr>\n",
       "  </tbody>\n",
       "</table>\n",
       "</div>"
      ],
      "text/plain": [
       "      utilA  utilB  utilSum  \\\n",
       "9998   2764   8461    11225   \n",
       "9997   2726   8515    11241   \n",
       "9996   2795   8448    11243   \n",
       "9994   2817   8431    11248   \n",
       "9993   2758   8492    11250   \n",
       "9987   2844   8428    11272   \n",
       "\n",
       "                                               contract  pareto  \n",
       "9998  [174,1,41,3,4,70,190,17,8,173,112,71,66,13,193...    True  \n",
       "9997  [174,1,41,3,4,70,190,17,8,173,112,71,66,13,193...    True  \n",
       "9996  [174,1,41,3,4,70,190,17,8,173,112,71,66,13,193...    True  \n",
       "9994  [174,1,41,3,4,70,190,17,8,173,112,71,66,13,193...    True  \n",
       "9993  [174,1,41,3,4,70,190,17,8,173,112,71,66,13,193...    True  \n",
       "9987  [174,1,41,3,4,70,190,17,8,173,112,71,66,13,193...    True  "
      ]
     },
     "execution_count": 161,
     "metadata": {},
     "output_type": "execute_result"
    }
   ],
   "source": [
    "for savefile in savefiles:\n",
    "    contracts = pd.read_csv(f'saves/{savefile}', sep=';')\n",
    "    if \"pareto\" not in contracts.columns:\n",
    "        contracts[\"pareto\"] = get_pareto(contracts[[\"utilA\",\"utilB\"]])\n",
    "        contracts = contracts.sort_values(by=\"utilSum\", ascending=False).drop_duplicates()\n",
    "        contracts.to_csv('saves/'+savefile, sep=';', index=False)\n",
    "    pareto = pd.concat([pareto, contracts[contracts[\"pareto\"]]])\n",
    "pareto = pareto.sort_values(by=\"utilSum\", ascending=False).drop_duplicates()\n",
    "pareto[\"pareto\"] = get_pareto(pareto[[\"utilA\",\"utilB\"]])\n",
    "pareto = pareto[pareto[\"pareto\"]].sort_values(by=\"utilSum\", ascending=True)\n",
    "pareto.to_csv('saves/pareto.csv', sep=';', index=False)\n",
    "pareto"
   ]
  },
  {
   "cell_type": "code",
   "execution_count": 163,
   "metadata": {},
   "outputs": [
    {
     "data": {
      "text/plain": [
       "<matplotlib.collections.PathCollection at 0x22bb756bfe0>"
      ]
     },
     "execution_count": 163,
     "metadata": {},
     "output_type": "execute_result"
    },
    {
     "data": {
      "image/png": "[encoded data removed]",
      "text/plain": [
       "<Figure size 640x480 with 1 Axes>"
      ]
     },
     "metadata": {},
     "output_type": "display_data"
    }
   ],
   "source": [
    "pareto = pareto.sort_values(by=\"utilA\", ascending=True)\n",
    "plt.title(\"Pareto frontier\")\n",
    "plt.plot(pareto[\"utilA\"], pareto[\"utilB\"], color='blue', linestyle=':', linewidth=2)\n",
    "plt.scatter(pareto[\"utilA\"], pareto[\"utilB\"], color='blue')"
   ]
  }
 ],
 "metadata": {
  "kernelspec": {
   "display_name": "Python 3",
   "language": "python",
   "name": "python3"
  },
  "language_info": {
   "codemirror_mode": {
    "name": "ipython",
    "version": 3
   },
   "file_extension": ".py",
   "mimetype": "text/x-python",
   "name": "python",
   "nbconvert_exporter": "python",
   "pygments_lexer": "ipython3",
   "version": "3.12.0"
  }
 },
 "nbformat": 4,
 "nbformat_minor": 2
}
