{
 "cells": [
  {
   "cell_type": "markdown",
   "metadata": {},
   "source": [
    "### IMPORTS"
   ]
  },
  {
   "cell_type": "code",
   "execution_count": 19,
   "metadata": {},
   "outputs": [
    {
     "data": {
      "text/plain": [
       "'c:\\\\Users\\\\luisb\\\\AppData\\\\Local\\\\Programs\\\\Python\\\\Python312\\\\python.exe'"
      ]
     },
     "execution_count": 19,
     "metadata": {},
     "output_type": "execute_result"
    }
   ],
   "source": [
    "import sys\n",
    "import os\n",
    "sys.executable"
   ]
  },
  {
   "cell_type": "code",
   "execution_count": 20,
   "metadata": {},
   "outputs": [],
   "source": [
    "import pandas as pd\n",
    "import matplotlib.pyplot as plt\n",
    "import seaborn as sns\n",
    "import numpy as np"
   ]
  },
  {
   "cell_type": "code",
   "execution_count": 21,
   "metadata": {},
   "outputs": [],
   "source": [
    "SAVE_PATH = \"../saves/\""
   ]
  },
  {
   "cell_type": "code",
   "execution_count": 22,
   "metadata": {},
   "outputs": [],
   "source": [
    "def get_pareto_old(arr):\n",
    "    # Convert the array to a numpy array\n",
    "    arr_np = np.array(arr)\n",
    "\n",
    "    # Initialize a boolean mask to keep track of pareto-efficient elements\n",
    "    is_pareto_efficient = np.ones(arr_np.shape[0], dtype=bool)\n",
    "\n",
    "    for i in range(arr_np.shape[0]):\n",
    "        if is_pareto_efficient[i]:\n",
    "            for j in range(arr_np.shape[0]):\n",
    "                if j != i and is_pareto_efficient[j]:\n",
    "                    # Check if arr[i] dominates arr[j] in all dimensions\n",
    "                    if np.all(arr_np[i] <= arr_np[j]) and np.any(arr_np[i] < arr_np[j]):\n",
    "                        is_pareto_efficient[j] = False\n",
    "\n",
    "    # Return the pareto-efficient elements\n",
    "    return is_pareto_efficient\n",
    "    "
   ]
  },
  {
   "cell_type": "code",
   "execution_count": 23,
   "metadata": {},
   "outputs": [],
   "source": [
    "def get_pareto(arr):\n",
    "    # Convert the array to a numpy array\n",
    "    arr_np = np.array(arr)\n",
    "\n",
    "    # Initialize a boolean mask to keep track of pareto-efficient elements\n",
    "    is_pareto_efficient = np.ones(arr_np.shape[0], dtype=bool)\n",
    "\n",
    "    for i in range(arr_np.shape[0]):\n",
    "        if is_pareto_efficient[i]:\n",
    "            # Compare the current element with all other elements using broadcasting\n",
    "            is_dominated = np.all(arr_np[i] <= arr_np, axis=1) & np.any(arr_np[i] < arr_np, axis=1)\n",
    "            # Update the mask to mark dominated elements as False\n",
    "            is_pareto_efficient[is_dominated] = False\n",
    "\n",
    "    # Return the pareto-efficient elements\n",
    "    return is_pareto_efficient"
   ]
  },
  {
   "cell_type": "markdown",
   "metadata": {},
   "source": [
    "### Visualization"
   ]
  },
  {
   "cell_type": "code",
   "execution_count": 24,
   "metadata": {},
   "outputs": [
    {
     "name": "stdout",
     "output_type": "stream",
     "text": [
      "['pareto.csv', 'saves_1710502540563.csv', 'saves_1710502616293.csv', 'saves_1710502702203.csv', 'saves_1710502795933.csv', 'saves_1710513923401.csv', 'saves_1710514182799.csv', 'saves_1710514219897.csv', 'saves_1710514418808.csv', 'saves_1710514601277.csv', 'saves_1710514689193.csv', 'saves_1710514832352.csv', 'saves_1710515003559.csv', 'saves_1710515295123.csv', 'saves_1710515637176.csv', 'saves_1710519955596.csv', 'saves_1710520847852.csv', 'saves_1710521962273.csv', 'saves_1710522481507.csv', 'saves_1710602450026.csv', 'saves_1710602958295.csv']\n"
     ]
    },
    {
     "data": {
      "text/plain": [
       "'Visualizing data from: saves_1710602958295.csv'"
      ]
     },
     "execution_count": 24,
     "metadata": {},
     "output_type": "execute_result"
    }
   ],
   "source": [
    "print(os.listdir(SAVE_PATH))\n",
    "savefile = os.listdir(SAVE_PATH)[-1]\n",
    "\"Visualizing data from: \" + savefile"
   ]
  },
  {
   "cell_type": "code",
   "execution_count": 25,
   "metadata": {},
   "outputs": [
    {
     "name": "stdout",
     "output_type": "stream",
     "text": [
      "(258, 5)\n"
     ]
    },
    {
     "data": {
      "text/html": [
       "<div>\n",
       "<style scoped>\n",
       "    .dataframe tbody tr th:only-of-type {\n",
       "        vertical-align: middle;\n",
       "    }\n",
       "\n",
       "    .dataframe tbody tr th {\n",
       "        vertical-align: top;\n",
       "    }\n",
       "\n",
       "    .dataframe thead th {\n",
       "        text-align: right;\n",
       "    }\n",
       "</style>\n",
       "<table border=\"1\" class=\"dataframe\">\n",
       "  <thead>\n",
       "    <tr style=\"text-align: right;\">\n",
       "      <th></th>\n",
       "      <th>utilA</th>\n",
       "      <th>utilB</th>\n",
       "      <th>utilSum</th>\n",
       "      <th>contract</th>\n",
       "      <th>pareto</th>\n",
       "    </tr>\n",
       "  </thead>\n",
       "  <tbody>\n",
       "    <tr>\n",
       "      <th>0</th>\n",
       "      <td>1450</td>\n",
       "      <td>7393</td>\n",
       "      <td>8843</td>\n",
       "      <td>[34,4,144,70,19,87,121,178,102,75,182,84,77,11...</td>\n",
       "      <td>False</td>\n",
       "    </tr>\n",
       "    <tr>\n",
       "      <th>1</th>\n",
       "      <td>1440</td>\n",
       "      <td>7404</td>\n",
       "      <td>8844</td>\n",
       "      <td>[34,4,144,70,19,87,121,178,102,75,182,84,77,11...</td>\n",
       "      <td>False</td>\n",
       "    </tr>\n",
       "    <tr>\n",
       "      <th>2</th>\n",
       "      <td>1449</td>\n",
       "      <td>7401</td>\n",
       "      <td>8850</td>\n",
       "      <td>[34,4,144,70,19,87,121,178,102,75,182,84,77,11...</td>\n",
       "      <td>False</td>\n",
       "    </tr>\n",
       "    <tr>\n",
       "      <th>3</th>\n",
       "      <td>1439</td>\n",
       "      <td>7412</td>\n",
       "      <td>8851</td>\n",
       "      <td>[34,4,144,70,19,87,121,178,102,75,182,84,77,11...</td>\n",
       "      <td>False</td>\n",
       "    </tr>\n",
       "    <tr>\n",
       "      <th>4</th>\n",
       "      <td>1464</td>\n",
       "      <td>7359</td>\n",
       "      <td>8823</td>\n",
       "      <td>[34,4,144,70,19,87,121,178,102,75,182,84,77,11...</td>\n",
       "      <td>False</td>\n",
       "    </tr>\n",
       "  </tbody>\n",
       "</table>\n",
       "</div>"
      ],
      "text/plain": [
       "   utilA  utilB  utilSum                                           contract  \\\n",
       "0   1450   7393     8843  [34,4,144,70,19,87,121,178,102,75,182,84,77,11...   \n",
       "1   1440   7404     8844  [34,4,144,70,19,87,121,178,102,75,182,84,77,11...   \n",
       "2   1449   7401     8850  [34,4,144,70,19,87,121,178,102,75,182,84,77,11...   \n",
       "3   1439   7412     8851  [34,4,144,70,19,87,121,178,102,75,182,84,77,11...   \n",
       "4   1464   7359     8823  [34,4,144,70,19,87,121,178,102,75,182,84,77,11...   \n",
       "\n",
       "   pareto  \n",
       "0   False  \n",
       "1   False  \n",
       "2   False  \n",
       "3   False  \n",
       "4   False  "
      ]
     },
     "execution_count": 25,
     "metadata": {},
     "output_type": "execute_result"
    }
   ],
   "source": [
    "# Read CSV\n",
    "contracts = pd.read_csv(SAVE_PATH+savefile, sep=';')\n",
    "contracts.drop_duplicates(inplace=True)\n",
    "print(contracts.shape)\n",
    "contracts.head()"
   ]
  },
  {
   "cell_type": "code",
   "execution_count": 26,
   "metadata": {},
   "outputs": [
    {
     "data": {
      "image/png": "[encoded data removed]",
      "text/plain": [
       "<Figure size 600x600 with 3 Axes>"
      ]
     },
     "metadata": {},
     "output_type": "display_data"
    }
   ],
   "source": [
    "if \"pareto\" in contracts.columns and np.all(~contracts[\"pareto\"].isna()):\n",
    "    sns.jointplot(data=contracts, x=\"utilA\", y=\"utilB\", kind='scatter', hue=\"pareto\", marker=\"+\")\n",
    "    plt.scatter(contracts.loc[0,\"utilA\"], contracts.loc[0,\"utilB\"], color='red', marker=\"+\")\n",
    "else:\n",
    "    sns.jointplot(data=contracts, x=\"utilA\", y=\"utilB\", kind='scatter', hue=contracts.index, marker=\"+\")\n",
    "    plt.scatter(contracts.loc[0,\"utilA\"], contracts.loc[0,\"utilB\"], color='red')"
   ]
  },
  {
   "cell_type": "code",
   "execution_count": 27,
   "metadata": {},
   "outputs": [
    {
     "data": {
      "text/html": [
       "<div>\n",
       "<style scoped>\n",
       "    .dataframe tbody tr th:only-of-type {\n",
       "        vertical-align: middle;\n",
       "    }\n",
       "\n",
       "    .dataframe tbody tr th {\n",
       "        vertical-align: top;\n",
       "    }\n",
       "\n",
       "    .dataframe thead th {\n",
       "        text-align: right;\n",
       "    }\n",
       "</style>\n",
       "<table border=\"1\" class=\"dataframe\">\n",
       "  <thead>\n",
       "    <tr style=\"text-align: right;\">\n",
       "      <th></th>\n",
       "      <th>utilA</th>\n",
       "      <th>utilB</th>\n",
       "      <th>utilSum</th>\n",
       "      <th>contract</th>\n",
       "      <th>pareto</th>\n",
       "    </tr>\n",
       "  </thead>\n",
       "  <tbody>\n",
       "    <tr>\n",
       "      <th>0</th>\n",
       "      <td>1450</td>\n",
       "      <td>7393</td>\n",
       "      <td>8843</td>\n",
       "      <td>[34,4,144,70,19,87,121,178,102,75,182,84,77,11...</td>\n",
       "      <td>False</td>\n",
       "    </tr>\n",
       "    <tr>\n",
       "      <th>1</th>\n",
       "      <td>1440</td>\n",
       "      <td>7404</td>\n",
       "      <td>8844</td>\n",
       "      <td>[34,4,144,70,19,87,121,178,102,75,182,84,77,11...</td>\n",
       "      <td>False</td>\n",
       "    </tr>\n",
       "    <tr>\n",
       "      <th>2</th>\n",
       "      <td>1449</td>\n",
       "      <td>7401</td>\n",
       "      <td>8850</td>\n",
       "      <td>[34,4,144,70,19,87,121,178,102,75,182,84,77,11...</td>\n",
       "      <td>False</td>\n",
       "    </tr>\n",
       "    <tr>\n",
       "      <th>3</th>\n",
       "      <td>1439</td>\n",
       "      <td>7412</td>\n",
       "      <td>8851</td>\n",
       "      <td>[34,4,144,70,19,87,121,178,102,75,182,84,77,11...</td>\n",
       "      <td>False</td>\n",
       "    </tr>\n",
       "    <tr>\n",
       "      <th>4</th>\n",
       "      <td>1464</td>\n",
       "      <td>7359</td>\n",
       "      <td>8823</td>\n",
       "      <td>[34,4,144,70,19,87,121,178,102,75,182,84,77,11...</td>\n",
       "      <td>False</td>\n",
       "    </tr>\n",
       "    <tr>\n",
       "      <th>...</th>\n",
       "      <td>...</td>\n",
       "      <td>...</td>\n",
       "      <td>...</td>\n",
       "      <td>...</td>\n",
       "      <td>...</td>\n",
       "    </tr>\n",
       "    <tr>\n",
       "      <th>253</th>\n",
       "      <td>1973</td>\n",
       "      <td>7088</td>\n",
       "      <td>9061</td>\n",
       "      <td>[34,4,144,70,19,87,121,178,102,132,130,84,77,1...</td>\n",
       "      <td>True</td>\n",
       "    </tr>\n",
       "    <tr>\n",
       "      <th>254</th>\n",
       "      <td>1983</td>\n",
       "      <td>7081</td>\n",
       "      <td>9064</td>\n",
       "      <td>[34,4,144,70,19,87,121,178,102,132,130,84,77,1...</td>\n",
       "      <td>True</td>\n",
       "    </tr>\n",
       "    <tr>\n",
       "      <th>255</th>\n",
       "      <td>2012</td>\n",
       "      <td>7075</td>\n",
       "      <td>9087</td>\n",
       "      <td>[34,4,144,70,19,87,121,178,102,132,130,84,77,1...</td>\n",
       "      <td>False</td>\n",
       "    </tr>\n",
       "    <tr>\n",
       "      <th>256</th>\n",
       "      <td>2006</td>\n",
       "      <td>7075</td>\n",
       "      <td>9081</td>\n",
       "      <td>[34,4,144,70,19,87,121,178,102,132,130,84,77,1...</td>\n",
       "      <td>True</td>\n",
       "    </tr>\n",
       "    <tr>\n",
       "      <th>257</th>\n",
       "      <td>2130</td>\n",
       "      <td>7043</td>\n",
       "      <td>9173</td>\n",
       "      <td>[34,4,144,70,19,87,121,178,102,132,130,84,77,1...</td>\n",
       "      <td>True</td>\n",
       "    </tr>\n",
       "  </tbody>\n",
       "</table>\n",
       "<p>258 rows × 5 columns</p>\n",
       "</div>"
      ],
      "text/plain": [
       "     utilA  utilB  utilSum                                           contract  \\\n",
       "0     1450   7393     8843  [34,4,144,70,19,87,121,178,102,75,182,84,77,11...   \n",
       "1     1440   7404     8844  [34,4,144,70,19,87,121,178,102,75,182,84,77,11...   \n",
       "2     1449   7401     8850  [34,4,144,70,19,87,121,178,102,75,182,84,77,11...   \n",
       "3     1439   7412     8851  [34,4,144,70,19,87,121,178,102,75,182,84,77,11...   \n",
       "4     1464   7359     8823  [34,4,144,70,19,87,121,178,102,75,182,84,77,11...   \n",
       "..     ...    ...      ...                                                ...   \n",
       "253   1973   7088     9061  [34,4,144,70,19,87,121,178,102,132,130,84,77,1...   \n",
       "254   1983   7081     9064  [34,4,144,70,19,87,121,178,102,132,130,84,77,1...   \n",
       "255   2012   7075     9087  [34,4,144,70,19,87,121,178,102,132,130,84,77,1...   \n",
       "256   2006   7075     9081  [34,4,144,70,19,87,121,178,102,132,130,84,77,1...   \n",
       "257   2130   7043     9173  [34,4,144,70,19,87,121,178,102,132,130,84,77,1...   \n",
       "\n",
       "     pareto  \n",
       "0     False  \n",
       "1     False  \n",
       "2     False  \n",
       "3     False  \n",
       "4     False  \n",
       "..      ...  \n",
       "253    True  \n",
       "254    True  \n",
       "255   False  \n",
       "256    True  \n",
       "257    True  \n",
       "\n",
       "[258 rows x 5 columns]"
      ]
     },
     "execution_count": 27,
     "metadata": {},
     "output_type": "execute_result"
    }
   ],
   "source": [
    "# Determine pareto-efficient contracts if necessary\n",
    "if \"pareto\" not in contracts.columns or np.any(contracts[\"pareto\"].isna()):\n",
    "    contracts[\"pareto\"] = get_pareto(contracts[[\"utilA\",\"utilB\"]])\n",
    "    contracts = contracts.drop_duplicates()\n",
    "    contracts.to_csv(SAVE_PATH+savefile, sep=';', index=False)\n",
    "contracts"
   ]
  }
 ],
 "metadata": {
  "kernelspec": {
   "display_name": "Python 3",
   "language": "python",
   "name": "python3"
  },
  "language_info": {
   "codemirror_mode": {
    "name": "ipython",
    "version": 3
   },
   "file_extension": ".py",
   "mimetype": "text/x-python",
   "name": "python",
   "nbconvert_exporter": "python",
   "pygments_lexer": "ipython3",
   "version": "3.12.0"
  }
 },
 "nbformat": 4,
 "nbformat_minor": 2
}
