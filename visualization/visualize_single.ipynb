{
 "cells": [
  {
   "cell_type": "markdown",
   "metadata": {},
   "source": [
    "### IMPORTS"
   ]
  },
  {
   "cell_type": "code",
   "execution_count": 254,
   "metadata": {},
   "outputs": [
    {
     "data": {
      "text/plain": [
       "'c:\\\\Users\\\\luisb\\\\AppData\\\\Local\\\\Programs\\\\Python\\\\Python312\\\\python.exe'"
      ]
     },
     "execution_count": 254,
     "metadata": {},
     "output_type": "execute_result"
    }
   ],
   "source": [
    "import sys\n",
    "import os\n",
    "sys.executable"
   ]
  },
  {
   "cell_type": "code",
   "execution_count": 255,
   "metadata": {},
   "outputs": [],
   "source": [
    "import pandas as pd\n",
    "import matplotlib.pyplot as plt\n",
    "import seaborn as sns\n",
    "import numpy as np"
   ]
  },
  {
   "cell_type": "code",
   "execution_count": 256,
   "metadata": {},
   "outputs": [],
   "source": [
    "SAVE_PATH = \"../saves/\""
   ]
  },
  {
   "cell_type": "code",
   "execution_count": 257,
   "metadata": {},
   "outputs": [],
   "source": [
    "def get_pareto(arr):\n",
    "    # Convert the array to a numpy array\n",
    "    arr_np = np.array(arr)\n",
    "\n",
    "    # Initialize a boolean mask to keep track of pareto-efficient elements\n",
    "    is_pareto_efficient = np.ones(arr_np.shape[0], dtype=bool)\n",
    "\n",
    "    for i in range(arr_np.shape[0]):\n",
    "        if is_pareto_efficient[i]:\n",
    "            for j in range(arr_np.shape[0]):\n",
    "                if j != i and is_pareto_efficient[j]:\n",
    "                    # Check if arr[i] dominates arr[j] in all dimensions\n",
    "                    if np.all(arr_np[i] <= arr_np[j]) and np.any(arr_np[i] < arr_np[j]):\n",
    "                        is_pareto_efficient[j] = False\n",
    "\n",
    "    # Return the pareto-efficient elements\n",
    "    return is_pareto_efficient\n",
    "    "
   ]
  },
  {
   "cell_type": "markdown",
   "metadata": {},
   "source": [
    "### Visualization"
   ]
  },
  {
   "cell_type": "code",
   "execution_count": 258,
   "metadata": {},
   "outputs": [
    {
     "name": "stdout",
     "output_type": "stream",
     "text": [
      "['pareto.csv', 'saves_1710424156961.csv', 'saves_1710424454746.csv', 'saves_1710424515049.csv', 'saves_1710424637019.csv', 'saves_1710424916129.csv', 'saves_1710429089587.csv', 'saves_1710429514728.csv', 'saves_1710429727788.csv', 'saves_1710429865873.csv', 'saves_1710429985239.csv', 'saves_1710430130919.csv', 'saves_1710430150347.csv', 'saves_1710430307672.csv', 'saves_1710430871920.csv', 'saves_1710431208782.csv', 'saves_1710433005888.csv', 'saves_1710433038829.csv', 'saves_1710433067539.csv', 'saves_1710433104086.csv', 'saves_1710433145786.csv', 'saves_1710433231572.csv', 'saves_1710433284422.csv', 'saves_1710433317750.csv', 'saves_1710433333342.csv', 'saves_1710433396034.csv', 'saves_1710433430620.csv', 'saves_1710433540895.csv', 'saves_1710433601737.csv', 'saves_1710433642142.csv', 'saves_1710433666142.csv', 'saves_1710433698580.csv', 'saves_1710433876094.csv', 'saves_1710436421269.csv', 'saves_1710436501194.csv', 'saves_1710437276237.csv', 'saves_1710437338617.csv', 'saves_1710438201420.csv', 'saves_1710438247972.csv', 'saves_1710438662400.csv', 'saves_1710458484854.csv', 'saves_1710460159779.csv', 'saves_1710460431557.csv', 'saves_1710460489035.csv', 'saves_1710460527350.csv', 'saves_1710460797202.csv', 'saves_1710461106074.csv', 'saves_1710461235633.csv', 'saves_1710461445303.csv', 'saves_1710461573699.csv', 'saves_1710461636197.csv', 'saves_1710461668696.csv', 'saves_1710461805766.csv', 'saves_1710461846417.csv', 'saves_1710462184669.csv', 'saves_1710462214916.csv', 'saves_1710462268702.csv', 'saves_1710462308549.csv', 'saves_1710462377849.csv', 'saves_1710462417953.csv', 'saves_1710462449787.csv', 'saves_1710462459892.csv', 'saves_1710462483574.csv', 'saves_1710462501309.csv', 'saves_1710462510060.csv', 'saves_1710462527831.csv', 'saves_1710462646286.csv', 'saves_1710462741715.csv']\n"
     ]
    },
    {
     "data": {
      "text/plain": [
       "'Visualizing data from: saves_1710462741715.csv'"
      ]
     },
     "execution_count": 258,
     "metadata": {},
     "output_type": "execute_result"
    }
   ],
   "source": [
    "print(os.listdir(SAVE_PATH))\n",
    "savefile = os.listdir(SAVE_PATH)[-1]\n",
    "\"Visualizing data from: \" + savefile"
   ]
  },
  {
   "cell_type": "code",
   "execution_count": 259,
   "metadata": {},
   "outputs": [
    {
     "name": "stdout",
     "output_type": "stream",
     "text": [
      "(100000, 5)\n"
     ]
    },
    {
     "data": {
      "text/html": [
       "<div>\n",
       "<style scoped>\n",
       "    .dataframe tbody tr th:only-of-type {\n",
       "        vertical-align: middle;\n",
       "    }\n",
       "\n",
       "    .dataframe tbody tr th {\n",
       "        vertical-align: top;\n",
       "    }\n",
       "\n",
       "    .dataframe thead th {\n",
       "        text-align: right;\n",
       "    }\n",
       "</style>\n",
       "<table border=\"1\" class=\"dataframe\">\n",
       "  <thead>\n",
       "    <tr style=\"text-align: right;\">\n",
       "      <th></th>\n",
       "      <th>utilA</th>\n",
       "      <th>utilB</th>\n",
       "      <th>utilSum</th>\n",
       "      <th>contract</th>\n",
       "      <th>pareto</th>\n",
       "    </tr>\n",
       "  </thead>\n",
       "  <tbody>\n",
       "    <tr>\n",
       "      <th>0</th>\n",
       "      <td>2094</td>\n",
       "      <td>8166</td>\n",
       "      <td>10260</td>\n",
       "      <td>[174,67,25,48,10,176,83,129,8,84,122,73,74,135...</td>\n",
       "      <td>True</td>\n",
       "    </tr>\n",
       "    <tr>\n",
       "      <th>1</th>\n",
       "      <td>2082</td>\n",
       "      <td>8214</td>\n",
       "      <td>10296</td>\n",
       "      <td>[67,25,174,48,10,176,83,129,8,84,122,73,74,135...</td>\n",
       "      <td>False</td>\n",
       "    </tr>\n",
       "    <tr>\n",
       "      <th>2</th>\n",
       "      <td>2124</td>\n",
       "      <td>8241</td>\n",
       "      <td>10365</td>\n",
       "      <td>[67,48,25,174,10,176,83,129,8,84,122,73,74,135...</td>\n",
       "      <td>False</td>\n",
       "    </tr>\n",
       "    <tr>\n",
       "      <th>3</th>\n",
       "      <td>2204</td>\n",
       "      <td>8201</td>\n",
       "      <td>10405</td>\n",
       "      <td>[67,10,25,48,174,176,83,129,8,84,122,73,74,135...</td>\n",
       "      <td>False</td>\n",
       "    </tr>\n",
       "    <tr>\n",
       "      <th>4</th>\n",
       "      <td>2273</td>\n",
       "      <td>8212</td>\n",
       "      <td>10485</td>\n",
       "      <td>[67,176,25,48,10,174,83,129,8,84,122,73,74,135...</td>\n",
       "      <td>False</td>\n",
       "    </tr>\n",
       "  </tbody>\n",
       "</table>\n",
       "</div>"
      ],
      "text/plain": [
       "   utilA  utilB  utilSum                                           contract  \\\n",
       "0   2094   8166    10260  [174,67,25,48,10,176,83,129,8,84,122,73,74,135...   \n",
       "1   2082   8214    10296  [67,25,174,48,10,176,83,129,8,84,122,73,74,135...   \n",
       "2   2124   8241    10365  [67,48,25,174,10,176,83,129,8,84,122,73,74,135...   \n",
       "3   2204   8201    10405  [67,10,25,48,174,176,83,129,8,84,122,73,74,135...   \n",
       "4   2273   8212    10485  [67,176,25,48,10,174,83,129,8,84,122,73,74,135...   \n",
       "\n",
       "   pareto  \n",
       "0    True  \n",
       "1   False  \n",
       "2   False  \n",
       "3   False  \n",
       "4   False  "
      ]
     },
     "execution_count": 259,
     "metadata": {},
     "output_type": "execute_result"
    }
   ],
   "source": [
    "# Read CSV\n",
    "contracts = pd.read_csv(SAVE_PATH+savefile, sep=';')\n",
    "contracts.drop_duplicates(inplace=True)\n",
    "print(contracts.shape)\n",
    "contracts.head()"
   ]
  },
  {
   "cell_type": "code",
   "execution_count": 260,
   "metadata": {},
   "outputs": [
    {
     "data": {
      "image/png": "[encoded data removed]",
      "text/plain": [
       "<Figure size 600x600 with 3 Axes>"
      ]
     },
     "metadata": {},
     "output_type": "display_data"
    }
   ],
   "source": [
    "if \"pareto\" in contracts.columns:\n",
    "    sns.jointplot(data=contracts, x=\"utilA\", y=\"utilB\", kind='scatter', hue=\"pareto\", marker=\"+\")\n",
    "    plt.scatter(contracts.loc[0,\"utilA\"], contracts.loc[0,\"utilB\"], color='red', marker=\"+\")\n",
    "else:\n",
    "    sns.jointplot(data=contracts, x=\"utilA\", y=\"utilB\", kind='scatter', marker=\"+\")\n",
    "    plt.scatter(contracts.loc[0,\"utilA\"], contracts.loc[0,\"utilB\"], color='red')"
   ]
  },
  {
   "cell_type": "code",
   "execution_count": 261,
   "metadata": {},
   "outputs": [
    {
     "data": {
      "text/html": [
       "<div>\n",
       "<style scoped>\n",
       "    .dataframe tbody tr th:only-of-type {\n",
       "        vertical-align: middle;\n",
       "    }\n",
       "\n",
       "    .dataframe tbody tr th {\n",
       "        vertical-align: top;\n",
       "    }\n",
       "\n",
       "    .dataframe thead th {\n",
       "        text-align: right;\n",
       "    }\n",
       "</style>\n",
       "<table border=\"1\" class=\"dataframe\">\n",
       "  <thead>\n",
       "    <tr style=\"text-align: right;\">\n",
       "      <th></th>\n",
       "      <th>utilA</th>\n",
       "      <th>utilB</th>\n",
       "      <th>utilSum</th>\n",
       "      <th>contract</th>\n",
       "      <th>pareto</th>\n",
       "    </tr>\n",
       "  </thead>\n",
       "  <tbody>\n",
       "    <tr>\n",
       "      <th>0</th>\n",
       "      <td>2094</td>\n",
       "      <td>8166</td>\n",
       "      <td>10260</td>\n",
       "      <td>[174,67,25,48,10,176,83,129,8,84,122,73,74,135...</td>\n",
       "      <td>True</td>\n",
       "    </tr>\n",
       "    <tr>\n",
       "      <th>1</th>\n",
       "      <td>2082</td>\n",
       "      <td>8214</td>\n",
       "      <td>10296</td>\n",
       "      <td>[67,25,174,48,10,176,83,129,8,84,122,73,74,135...</td>\n",
       "      <td>False</td>\n",
       "    </tr>\n",
       "    <tr>\n",
       "      <th>2</th>\n",
       "      <td>2124</td>\n",
       "      <td>8241</td>\n",
       "      <td>10365</td>\n",
       "      <td>[67,48,25,174,10,176,83,129,8,84,122,73,74,135...</td>\n",
       "      <td>False</td>\n",
       "    </tr>\n",
       "    <tr>\n",
       "      <th>3</th>\n",
       "      <td>2204</td>\n",
       "      <td>8201</td>\n",
       "      <td>10405</td>\n",
       "      <td>[67,10,25,48,174,176,83,129,8,84,122,73,74,135...</td>\n",
       "      <td>False</td>\n",
       "    </tr>\n",
       "    <tr>\n",
       "      <th>4</th>\n",
       "      <td>2273</td>\n",
       "      <td>8212</td>\n",
       "      <td>10485</td>\n",
       "      <td>[67,176,25,48,10,174,83,129,8,84,122,73,74,135...</td>\n",
       "      <td>False</td>\n",
       "    </tr>\n",
       "    <tr>\n",
       "      <th>...</th>\n",
       "      <td>...</td>\n",
       "      <td>...</td>\n",
       "      <td>...</td>\n",
       "      <td>...</td>\n",
       "      <td>...</td>\n",
       "    </tr>\n",
       "    <tr>\n",
       "      <th>99995</th>\n",
       "      <td>2284</td>\n",
       "      <td>8181</td>\n",
       "      <td>10465</td>\n",
       "      <td>[174,67,25,48,10,24,83,129,8,84,122,73,74,135,...</td>\n",
       "      <td>False</td>\n",
       "    </tr>\n",
       "    <tr>\n",
       "      <th>99996</th>\n",
       "      <td>2241</td>\n",
       "      <td>8210</td>\n",
       "      <td>10451</td>\n",
       "      <td>[174,67,25,48,10,24,83,129,8,84,122,73,74,135,...</td>\n",
       "      <td>False</td>\n",
       "    </tr>\n",
       "    <tr>\n",
       "      <th>99997</th>\n",
       "      <td>2326</td>\n",
       "      <td>8180</td>\n",
       "      <td>10506</td>\n",
       "      <td>[174,67,25,48,10,24,83,129,8,84,122,73,74,135,...</td>\n",
       "      <td>False</td>\n",
       "    </tr>\n",
       "    <tr>\n",
       "      <th>99998</th>\n",
       "      <td>2356</td>\n",
       "      <td>8183</td>\n",
       "      <td>10539</td>\n",
       "      <td>[174,67,25,48,10,24,83,129,8,84,122,73,74,135,...</td>\n",
       "      <td>False</td>\n",
       "    </tr>\n",
       "    <tr>\n",
       "      <th>99999</th>\n",
       "      <td>2288</td>\n",
       "      <td>8185</td>\n",
       "      <td>10473</td>\n",
       "      <td>[174,67,25,48,10,24,83,129,8,84,122,73,74,135,...</td>\n",
       "      <td>False</td>\n",
       "    </tr>\n",
       "  </tbody>\n",
       "</table>\n",
       "<p>100000 rows × 5 columns</p>\n",
       "</div>"
      ],
      "text/plain": [
       "       utilA  utilB  utilSum  \\\n",
       "0       2094   8166    10260   \n",
       "1       2082   8214    10296   \n",
       "2       2124   8241    10365   \n",
       "3       2204   8201    10405   \n",
       "4       2273   8212    10485   \n",
       "...      ...    ...      ...   \n",
       "99995   2284   8181    10465   \n",
       "99996   2241   8210    10451   \n",
       "99997   2326   8180    10506   \n",
       "99998   2356   8183    10539   \n",
       "99999   2288   8185    10473   \n",
       "\n",
       "                                                contract  pareto  \n",
       "0      [174,67,25,48,10,176,83,129,8,84,122,73,74,135...    True  \n",
       "1      [67,25,174,48,10,176,83,129,8,84,122,73,74,135...   False  \n",
       "2      [67,48,25,174,10,176,83,129,8,84,122,73,74,135...   False  \n",
       "3      [67,10,25,48,174,176,83,129,8,84,122,73,74,135...   False  \n",
       "4      [67,176,25,48,10,174,83,129,8,84,122,73,74,135...   False  \n",
       "...                                                  ...     ...  \n",
       "99995  [174,67,25,48,10,24,83,129,8,84,122,73,74,135,...   False  \n",
       "99996  [174,67,25,48,10,24,83,129,8,84,122,73,74,135,...   False  \n",
       "99997  [174,67,25,48,10,24,83,129,8,84,122,73,74,135,...   False  \n",
       "99998  [174,67,25,48,10,24,83,129,8,84,122,73,74,135,...   False  \n",
       "99999  [174,67,25,48,10,24,83,129,8,84,122,73,74,135,...   False  \n",
       "\n",
       "[100000 rows x 5 columns]"
      ]
     },
     "execution_count": 261,
     "metadata": {},
     "output_type": "execute_result"
    }
   ],
   "source": [
    "# Determine pareto-efficient contracts if necessary\n",
    "if \"pareto\" not in contracts.columns:\n",
    "    contracts[\"pareto\"] = get_pareto(contracts[[\"utilA\",\"utilB\"]])\n",
    "    contracts = contracts.drop_duplicates()\n",
    "    contracts.to_csv(SAVE_PATH+savefile, sep=';', index=False)\n",
    "contracts"
   ]
  }
 ],
 "metadata": {
  "kernelspec": {
   "display_name": "Python 3",
   "language": "python",
   "name": "python3"
  },
  "language_info": {
   "codemirror_mode": {
    "name": "ipython",
    "version": 3
   },
   "file_extension": ".py",
   "mimetype": "text/x-python",
   "name": "python",
   "nbconvert_exporter": "python",
   "pygments_lexer": "ipython3",
   "version": "3.12.0"
  }
 },
 "nbformat": 4,
 "nbformat_minor": 2
}
