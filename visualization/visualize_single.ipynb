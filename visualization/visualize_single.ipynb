{
 "cells": [
  {
   "cell_type": "markdown",
   "metadata": {},
   "source": [
    "### IMPORTS"
   ]
  },
  {
   "cell_type": "code",
   "execution_count": 153,
   "metadata": {},
   "outputs": [
    {
     "data": {
      "text/plain": [
       "'c:\\\\Users\\\\luisb\\\\AppData\\\\Local\\\\Programs\\\\Python\\\\Python312\\\\python.exe'"
      ]
     },
     "execution_count": 153,
     "metadata": {},
     "output_type": "execute_result"
    }
   ],
   "source": [
    "import sys\n",
    "import os\n",
    "sys.executable"
   ]
  },
  {
   "cell_type": "code",
   "execution_count": 154,
   "metadata": {},
   "outputs": [],
   "source": [
    "import pandas as pd\n",
    "import matplotlib.pyplot as plt\n",
    "import seaborn as sns\n",
    "import numpy as np"
   ]
  },
  {
   "cell_type": "code",
   "execution_count": 155,
   "metadata": {},
   "outputs": [],
   "source": [
    "SAVE_PATH = \"../saves/\""
   ]
  },
  {
   "cell_type": "code",
   "execution_count": 156,
   "metadata": {},
   "outputs": [],
   "source": [
    "def get_pareto(arr):\n",
    "    # Convert the array to a numpy array\n",
    "    arr_np = np.array(arr)\n",
    "\n",
    "    # Initialize a boolean mask to keep track of pareto-efficient elements\n",
    "    is_pareto_efficient = np.ones(arr_np.shape[0], dtype=bool)\n",
    "\n",
    "    for i in range(arr_np.shape[0]):\n",
    "        if is_pareto_efficient[i]:\n",
    "            for j in range(arr_np.shape[0]):\n",
    "                if j != i and is_pareto_efficient[j]:\n",
    "                    # Check if arr[i] dominates arr[j] in all dimensions\n",
    "                    if np.all(arr_np[i] <= arr_np[j]) and np.any(arr_np[i] < arr_np[j]):\n",
    "                        is_pareto_efficient[j] = False\n",
    "\n",
    "    # Return the pareto-efficient elements\n",
    "    return is_pareto_efficient\n",
    "    "
   ]
  },
  {
   "cell_type": "markdown",
   "metadata": {},
   "source": [
    "### Visualization"
   ]
  },
  {
   "cell_type": "code",
   "execution_count": 157,
   "metadata": {},
   "outputs": [
    {
     "name": "stdout",
     "output_type": "stream",
     "text": [
      "['pareto.csv', 'saves_1710424156961.csv', 'saves_1710424454746.csv', 'saves_1710424515049.csv', 'saves_1710424637019.csv', 'saves_1710424916129.csv', 'saves_1710429089587.csv', 'saves_1710429514728.csv', 'saves_1710429727788.csv', 'saves_1710429865873.csv', 'saves_1710429985239.csv', 'saves_1710430130919.csv', 'saves_1710430150347.csv', 'saves_1710430307672.csv', 'saves_1710430871920.csv', 'saves_1710431208782.csv', 'saves_1710433005888.csv', 'saves_1710433038829.csv', 'saves_1710433067539.csv', 'saves_1710433104086.csv', 'saves_1710433145786.csv', 'saves_1710433231572.csv', 'saves_1710433284422.csv', 'saves_1710433317750.csv', 'saves_1710433333342.csv', 'saves_1710433396034.csv', 'saves_1710433430620.csv', 'saves_1710433540895.csv', 'saves_1710433601737.csv', 'saves_1710433642142.csv', 'saves_1710433666142.csv', 'saves_1710433698580.csv', 'saves_1710433876094.csv', 'saves_1710436421269.csv', 'saves_1710436501194.csv', 'saves_1710437276237.csv', 'saves_1710437338617.csv', 'saves_1710438201420.csv', 'saves_1710438247972.csv', 'saves_1710438662400.csv', 'saves_1710458484854.csv', 'saves_1710460159779.csv', 'saves_1710460431557.csv', 'saves_1710460489035.csv', 'saves_1710460527350.csv', 'saves_1710460797202.csv', 'saves_1710461106074.csv', 'saves_1710461235633.csv', 'saves_1710461445303.csv', 'saves_1710461573699.csv', 'saves_1710461636197.csv', 'saves_1710461668696.csv', 'saves_1710461805766.csv', 'saves_1710461846417.csv', 'saves_1710462184669.csv', 'saves_1710462214916.csv', 'saves_1710462268702.csv', 'saves_1710462308549.csv', 'saves_1710462377849.csv', 'saves_1710462417953.csv', 'saves_1710462449787.csv', 'saves_1710462459892.csv', 'saves_1710462483574.csv', 'saves_1710462501309.csv', 'saves_1710462510060.csv', 'saves_1710462527831.csv', 'saves_1710462646286.csv', 'saves_1710462741715.csv', 'saves_1710499380855.csv', 'saves_1710499554311.csv', 'saves_1710499664888.csv', 'saves_1710499847598.csv', 'saves_1710500191506.csv', 'saves_1710500235532.csv', 'saves_1710500282523.csv', 'saves_1710500923955.csv', 'saves_1710501021699.csv', 'saves_1710501047071.csv', 'saves_1710501320672.csv', 'saves_1710501386085.csv', 'saves_1710501794333.csv', 'saves_1710502311305.csv', 'saves_1710502540563.csv', 'saves_1710502616293.csv', 'saves_1710502702203.csv']\n"
     ]
    },
    {
     "data": {
      "text/plain": [
       "'Visualizing data from: saves_1710502702203.csv'"
      ]
     },
     "execution_count": 157,
     "metadata": {},
     "output_type": "execute_result"
    }
   ],
   "source": [
    "print(os.listdir(SAVE_PATH))\n",
    "savefile = os.listdir(SAVE_PATH)[-1]\n",
    "\"Visualizing data from: \" + savefile"
   ]
  },
  {
   "cell_type": "code",
   "execution_count": 158,
   "metadata": {},
   "outputs": [
    {
     "name": "stdout",
     "output_type": "stream",
     "text": [
      "(71, 4)\n"
     ]
    },
    {
     "data": {
      "text/html": [
       "<div>\n",
       "<style scoped>\n",
       "    .dataframe tbody tr th:only-of-type {\n",
       "        vertical-align: middle;\n",
       "    }\n",
       "\n",
       "    .dataframe tbody tr th {\n",
       "        vertical-align: top;\n",
       "    }\n",
       "\n",
       "    .dataframe thead th {\n",
       "        text-align: right;\n",
       "    }\n",
       "</style>\n",
       "<table border=\"1\" class=\"dataframe\">\n",
       "  <thead>\n",
       "    <tr style=\"text-align: right;\">\n",
       "      <th></th>\n",
       "      <th>utilA</th>\n",
       "      <th>utilB</th>\n",
       "      <th>utilSum</th>\n",
       "      <th>contract</th>\n",
       "    </tr>\n",
       "  </thead>\n",
       "  <tbody>\n",
       "    <tr>\n",
       "      <th>0</th>\n",
       "      <td>2083</td>\n",
       "      <td>7240</td>\n",
       "      <td>9323</td>\n",
       "      <td>[50,190,121,162,19,9,149,178,111,132,130,84,77...</td>\n",
       "    </tr>\n",
       "    <tr>\n",
       "      <th>1</th>\n",
       "      <td>2067</td>\n",
       "      <td>7236</td>\n",
       "      <td>9303</td>\n",
       "      <td>[50,190,121,162,19,90,149,178,111,132,130,84,7...</td>\n",
       "    </tr>\n",
       "    <tr>\n",
       "      <th>2</th>\n",
       "      <td>2032</td>\n",
       "      <td>7295</td>\n",
       "      <td>9327</td>\n",
       "      <td>[50,190,187,162,19,87,121,178,127,132,130,84,7...</td>\n",
       "    </tr>\n",
       "    <tr>\n",
       "      <th>3</th>\n",
       "      <td>2042</td>\n",
       "      <td>7271</td>\n",
       "      <td>9313</td>\n",
       "      <td>[146,118,129,162,19,87,121,178,127,132,130,84,...</td>\n",
       "    </tr>\n",
       "    <tr>\n",
       "      <th>4</th>\n",
       "      <td>2009</td>\n",
       "      <td>7336</td>\n",
       "      <td>9345</td>\n",
       "      <td>[9,143,149,162,19,87,121,178,127,132,130,84,77...</td>\n",
       "    </tr>\n",
       "  </tbody>\n",
       "</table>\n",
       "</div>"
      ],
      "text/plain": [
       "   utilA  utilB  utilSum                                           contract\n",
       "0   2083   7240     9323  [50,190,121,162,19,9,149,178,111,132,130,84,77...\n",
       "1   2067   7236     9303  [50,190,121,162,19,90,149,178,111,132,130,84,7...\n",
       "2   2032   7295     9327  [50,190,187,162,19,87,121,178,127,132,130,84,7...\n",
       "3   2042   7271     9313  [146,118,129,162,19,87,121,178,127,132,130,84,...\n",
       "4   2009   7336     9345  [9,143,149,162,19,87,121,178,127,132,130,84,77..."
      ]
     },
     "execution_count": 158,
     "metadata": {},
     "output_type": "execute_result"
    }
   ],
   "source": [
    "# Read CSV\n",
    "contracts = pd.read_csv(SAVE_PATH+savefile, sep=';')\n",
    "contracts.drop_duplicates(inplace=True)\n",
    "print(contracts.shape)\n",
    "contracts.head()"
   ]
  },
  {
   "cell_type": "code",
   "execution_count": 159,
   "metadata": {},
   "outputs": [
    {
     "data": {
      "image/png": "[encoded data removed]",
      "text/plain": [
       "<Figure size 600x600 with 3 Axes>"
      ]
     },
     "metadata": {},
     "output_type": "display_data"
    }
   ],
   "source": [
    "if \"pareto\" in contracts.columns:\n",
    "    sns.jointplot(data=contracts, x=\"utilA\", y=\"utilB\", kind='scatter', hue=\"pareto\", marker=\"+\")\n",
    "    plt.scatter(contracts.loc[0,\"utilA\"], contracts.loc[0,\"utilB\"], color='red', marker=\"+\")\n",
    "else:\n",
    "    sns.jointplot(data=contracts, x=\"utilA\", y=\"utilB\", kind='scatter', hue=contracts.index, marker=\"+\")\n",
    "    plt.scatter(contracts.loc[0,\"utilA\"], contracts.loc[0,\"utilB\"], color='red')"
   ]
  },
  {
   "cell_type": "code",
   "execution_count": 160,
   "metadata": {},
   "outputs": [
    {
     "data": {
      "text/html": [
       "<div>\n",
       "<style scoped>\n",
       "    .dataframe tbody tr th:only-of-type {\n",
       "        vertical-align: middle;\n",
       "    }\n",
       "\n",
       "    .dataframe tbody tr th {\n",
       "        vertical-align: top;\n",
       "    }\n",
       "\n",
       "    .dataframe thead th {\n",
       "        text-align: right;\n",
       "    }\n",
       "</style>\n",
       "<table border=\"1\" class=\"dataframe\">\n",
       "  <thead>\n",
       "    <tr style=\"text-align: right;\">\n",
       "      <th></th>\n",
       "      <th>utilA</th>\n",
       "      <th>utilB</th>\n",
       "      <th>utilSum</th>\n",
       "      <th>contract</th>\n",
       "      <th>pareto</th>\n",
       "    </tr>\n",
       "  </thead>\n",
       "  <tbody>\n",
       "    <tr>\n",
       "      <th>0</th>\n",
       "      <td>2083</td>\n",
       "      <td>7240</td>\n",
       "      <td>9323</td>\n",
       "      <td>[50,190,121,162,19,9,149,178,111,132,130,84,77...</td>\n",
       "      <td>False</td>\n",
       "    </tr>\n",
       "    <tr>\n",
       "      <th>1</th>\n",
       "      <td>2067</td>\n",
       "      <td>7236</td>\n",
       "      <td>9303</td>\n",
       "      <td>[50,190,121,162,19,90,149,178,111,132,130,84,7...</td>\n",
       "      <td>True</td>\n",
       "    </tr>\n",
       "    <tr>\n",
       "      <th>2</th>\n",
       "      <td>2032</td>\n",
       "      <td>7295</td>\n",
       "      <td>9327</td>\n",
       "      <td>[50,190,187,162,19,87,121,178,127,132,130,84,7...</td>\n",
       "      <td>True</td>\n",
       "    </tr>\n",
       "    <tr>\n",
       "      <th>3</th>\n",
       "      <td>2042</td>\n",
       "      <td>7271</td>\n",
       "      <td>9313</td>\n",
       "      <td>[146,118,129,162,19,87,121,178,127,132,130,84,...</td>\n",
       "      <td>True</td>\n",
       "    </tr>\n",
       "    <tr>\n",
       "      <th>4</th>\n",
       "      <td>2009</td>\n",
       "      <td>7336</td>\n",
       "      <td>9345</td>\n",
       "      <td>[9,143,149,162,19,87,121,178,127,132,130,84,77...</td>\n",
       "      <td>False</td>\n",
       "    </tr>\n",
       "    <tr>\n",
       "      <th>...</th>\n",
       "      <td>...</td>\n",
       "      <td>...</td>\n",
       "      <td>...</td>\n",
       "      <td>...</td>\n",
       "      <td>...</td>\n",
       "    </tr>\n",
       "    <tr>\n",
       "      <th>66</th>\n",
       "      <td>2212</td>\n",
       "      <td>7170</td>\n",
       "      <td>9382</td>\n",
       "      <td>[50,4,28,162,147,9,149,19,172,12,130,84,77,112...</td>\n",
       "      <td>True</td>\n",
       "    </tr>\n",
       "    <tr>\n",
       "      <th>67</th>\n",
       "      <td>1916</td>\n",
       "      <td>7457</td>\n",
       "      <td>9373</td>\n",
       "      <td>[180,172,12,22,123,93,147,3,2,130,84,117,77,11...</td>\n",
       "      <td>True</td>\n",
       "    </tr>\n",
       "    <tr>\n",
       "      <th>68</th>\n",
       "      <td>1928</td>\n",
       "      <td>7434</td>\n",
       "      <td>9362</td>\n",
       "      <td>[90,172,12,22,26,178,147,3,2,130,84,117,77,112...</td>\n",
       "      <td>True</td>\n",
       "    </tr>\n",
       "    <tr>\n",
       "      <th>69</th>\n",
       "      <td>1983</td>\n",
       "      <td>7392</td>\n",
       "      <td>9375</td>\n",
       "      <td>[50,172,12,22,26,178,147,3,2,130,84,117,77,112...</td>\n",
       "      <td>True</td>\n",
       "    </tr>\n",
       "    <tr>\n",
       "      <th>70</th>\n",
       "      <td>1882</td>\n",
       "      <td>7520</td>\n",
       "      <td>9402</td>\n",
       "      <td>[104,172,12,22,26,178,147,3,2,130,84,117,77,11...</td>\n",
       "      <td>True</td>\n",
       "    </tr>\n",
       "  </tbody>\n",
       "</table>\n",
       "<p>71 rows × 5 columns</p>\n",
       "</div>"
      ],
      "text/plain": [
       "    utilA  utilB  utilSum                                           contract  \\\n",
       "0    2083   7240     9323  [50,190,121,162,19,9,149,178,111,132,130,84,77...   \n",
       "1    2067   7236     9303  [50,190,121,162,19,90,149,178,111,132,130,84,7...   \n",
       "2    2032   7295     9327  [50,190,187,162,19,87,121,178,127,132,130,84,7...   \n",
       "3    2042   7271     9313  [146,118,129,162,19,87,121,178,127,132,130,84,...   \n",
       "4    2009   7336     9345  [9,143,149,162,19,87,121,178,127,132,130,84,77...   \n",
       "..    ...    ...      ...                                                ...   \n",
       "66   2212   7170     9382  [50,4,28,162,147,9,149,19,172,12,130,84,77,112...   \n",
       "67   1916   7457     9373  [180,172,12,22,123,93,147,3,2,130,84,117,77,11...   \n",
       "68   1928   7434     9362  [90,172,12,22,26,178,147,3,2,130,84,117,77,112...   \n",
       "69   1983   7392     9375  [50,172,12,22,26,178,147,3,2,130,84,117,77,112...   \n",
       "70   1882   7520     9402  [104,172,12,22,26,178,147,3,2,130,84,117,77,11...   \n",
       "\n",
       "    pareto  \n",
       "0    False  \n",
       "1     True  \n",
       "2     True  \n",
       "3     True  \n",
       "4    False  \n",
       "..     ...  \n",
       "66    True  \n",
       "67    True  \n",
       "68    True  \n",
       "69    True  \n",
       "70    True  \n",
       "\n",
       "[71 rows x 5 columns]"
      ]
     },
     "execution_count": 160,
     "metadata": {},
     "output_type": "execute_result"
    }
   ],
   "source": [
    "# Determine pareto-efficient contracts if necessary\n",
    "if \"pareto\" not in contracts.columns:\n",
    "    contracts[\"pareto\"] = get_pareto(contracts[[\"utilA\",\"utilB\"]])\n",
    "    contracts = contracts.drop_duplicates()\n",
    "    contracts.to_csv(SAVE_PATH+savefile, sep=';', index=False)\n",
    "contracts"
   ]
  }
 ],
 "metadata": {
  "kernelspec": {
   "display_name": "Python 3",
   "language": "python",
   "name": "python3"
  },
  "language_info": {
   "codemirror_mode": {
    "name": "ipython",
    "version": 3
   },
   "file_extension": ".py",
   "mimetype": "text/x-python",
   "name": "python",
   "nbconvert_exporter": "python",
   "pygments_lexer": "ipython3",
   "version": "3.12.0"
  }
 },
 "nbformat": 4,
 "nbformat_minor": 2
}
