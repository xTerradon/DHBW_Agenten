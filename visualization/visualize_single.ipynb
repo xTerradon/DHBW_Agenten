{
 "cells": [
  {
   "cell_type": "markdown",
   "metadata": {},
   "source": [
    "### IMPORTS"
   ]
  },
  {
   "cell_type": "code",
   "execution_count": 73,
   "metadata": {},
   "outputs": [
    {
     "data": {
      "text/plain": [
       "'c:\\\\Users\\\\luisb\\\\AppData\\\\Local\\\\Programs\\\\Python\\\\Python312\\\\python.exe'"
      ]
     },
     "execution_count": 73,
     "metadata": {},
     "output_type": "execute_result"
    }
   ],
   "source": [
    "import sys\n",
    "import os\n",
    "sys.executable"
   ]
  },
  {
   "cell_type": "code",
   "execution_count": 74,
   "metadata": {},
   "outputs": [],
   "source": [
    "import pandas as pd\n",
    "import matplotlib.pyplot as plt\n",
    "import seaborn as sns\n",
    "import numpy as np"
   ]
  },
  {
   "cell_type": "code",
   "execution_count": 75,
   "metadata": {},
   "outputs": [],
   "source": [
    "SAVE_PATH = \"../saves/\""
   ]
  },
  {
   "cell_type": "code",
   "execution_count": 76,
   "metadata": {},
   "outputs": [],
   "source": [
    "def get_pareto(arr):\n",
    "    # Convert the array to a numpy array\n",
    "    arr_np = np.array(arr)\n",
    "\n",
    "    # Initialize a boolean mask to keep track of pareto-efficient elements\n",
    "    is_pareto_efficient = np.ones(arr_np.shape[0], dtype=bool)\n",
    "\n",
    "    for i in range(arr_np.shape[0]):\n",
    "        if is_pareto_efficient[i]:\n",
    "            for j in range(arr_np.shape[0]):\n",
    "                if j != i and is_pareto_efficient[j]:\n",
    "                    # Check if arr[i] dominates arr[j] in all dimensions\n",
    "                    if np.all(arr_np[i] <= arr_np[j]) and np.any(arr_np[i] < arr_np[j]):\n",
    "                        is_pareto_efficient[j] = False\n",
    "\n",
    "    # Return the pareto-efficient elements\n",
    "    return is_pareto_efficient\n",
    "    "
   ]
  },
  {
   "cell_type": "markdown",
   "metadata": {},
   "source": [
    "### Visualization"
   ]
  },
  {
   "cell_type": "code",
   "execution_count": 77,
   "metadata": {},
   "outputs": [
    {
     "name": "stdout",
     "output_type": "stream",
     "text": [
      "['pareto.csv', 'saves_1710424156961.csv', 'saves_1710424454746.csv', 'saves_1710424515049.csv', 'saves_1710424637019.csv', 'saves_1710424916129.csv', 'saves_1710429089587.csv', 'saves_1710429514728.csv', 'saves_1710429727788.csv', 'saves_1710429865873.csv', 'saves_1710429985239.csv', 'saves_1710430130919.csv', 'saves_1710430150347.csv', 'saves_1710430307672.csv', 'saves_1710430871920.csv', 'saves_1710431208782.csv', 'saves_1710433005888.csv', 'saves_1710433038829.csv', 'saves_1710433067539.csv', 'saves_1710433104086.csv', 'saves_1710433145786.csv', 'saves_1710433231572.csv', 'saves_1710433284422.csv', 'saves_1710433317750.csv', 'saves_1710433333342.csv', 'saves_1710433396034.csv', 'saves_1710433430620.csv', 'saves_1710433540895.csv', 'saves_1710433601737.csv', 'saves_1710433642142.csv', 'saves_1710433666142.csv', 'saves_1710433698580.csv', 'saves_1710433876094.csv', 'saves_1710436421269.csv', 'saves_1710436501194.csv', 'saves_1710437276237.csv', 'saves_1710437338617.csv', 'saves_1710438201420.csv', 'saves_1710438247972.csv', 'saves_1710438662400.csv', 'saves_1710458484854.csv', 'saves_1710460159779.csv', 'saves_1710460431557.csv', 'saves_1710460489035.csv', 'saves_1710460527350.csv', 'saves_1710460797202.csv', 'saves_1710461106074.csv', 'saves_1710461235633.csv', 'saves_1710461445303.csv', 'saves_1710461573699.csv', 'saves_1710461636197.csv', 'saves_1710461668696.csv', 'saves_1710461805766.csv', 'saves_1710461846417.csv', 'saves_1710462184669.csv', 'saves_1710462214916.csv', 'saves_1710462268702.csv', 'saves_1710462308549.csv', 'saves_1710462377849.csv', 'saves_1710462417953.csv', 'saves_1710462449787.csv', 'saves_1710462459892.csv', 'saves_1710462483574.csv', 'saves_1710462501309.csv', 'saves_1710462510060.csv', 'saves_1710462527831.csv', 'saves_1710462646286.csv', 'saves_1710462741715.csv', 'saves_1710499380855.csv', 'saves_1710499554311.csv', 'saves_1710499664888.csv', 'saves_1710499847598.csv', 'saves_1710500191506.csv', 'saves_1710500235532.csv', 'saves_1710500282523.csv', 'saves_1710500923955.csv', 'saves_1710501021699.csv', 'saves_1710501047071.csv', 'saves_1710501320672.csv', 'saves_1710501386085.csv']\n"
     ]
    },
    {
     "data": {
      "text/plain": [
       "'Visualizing data from: saves_1710501386085.csv'"
      ]
     },
     "execution_count": 77,
     "metadata": {},
     "output_type": "execute_result"
    }
   ],
   "source": [
    "print(os.listdir(SAVE_PATH))\n",
    "savefile = os.listdir(SAVE_PATH)[-1]\n",
    "\"Visualizing data from: \" + savefile"
   ]
  },
  {
   "cell_type": "code",
   "execution_count": 78,
   "metadata": {},
   "outputs": [
    {
     "name": "stdout",
     "output_type": "stream",
     "text": [
      "(9999, 5)\n"
     ]
    },
    {
     "data": {
      "text/html": [
       "<div>\n",
       "<style scoped>\n",
       "    .dataframe tbody tr th:only-of-type {\n",
       "        vertical-align: middle;\n",
       "    }\n",
       "\n",
       "    .dataframe tbody tr th {\n",
       "        vertical-align: top;\n",
       "    }\n",
       "\n",
       "    .dataframe thead th {\n",
       "        text-align: right;\n",
       "    }\n",
       "</style>\n",
       "<table border=\"1\" class=\"dataframe\">\n",
       "  <thead>\n",
       "    <tr style=\"text-align: right;\">\n",
       "      <th></th>\n",
       "      <th>utilA</th>\n",
       "      <th>utilB</th>\n",
       "      <th>utilSum</th>\n",
       "      <th>contract</th>\n",
       "      <th>pareto</th>\n",
       "    </tr>\n",
       "  </thead>\n",
       "  <tbody>\n",
       "    <tr>\n",
       "      <th>0</th>\n",
       "      <td>1944</td>\n",
       "      <td>8220</td>\n",
       "      <td>10164</td>\n",
       "      <td>[180,76,25,48,10,176,83,129,8,84,67,61,74,108,...</td>\n",
       "      <td>False</td>\n",
       "    </tr>\n",
       "    <tr>\n",
       "      <th>1</th>\n",
       "      <td>1933</td>\n",
       "      <td>8276</td>\n",
       "      <td>10209</td>\n",
       "      <td>[133,76,25,48,10,176,83,129,8,84,67,61,74,108,...</td>\n",
       "      <td>False</td>\n",
       "    </tr>\n",
       "    <tr>\n",
       "      <th>2</th>\n",
       "      <td>2058</td>\n",
       "      <td>8134</td>\n",
       "      <td>10192</td>\n",
       "      <td>[34,122,1,118,10,176,43,129,8,84,67,48,92,108,...</td>\n",
       "      <td>False</td>\n",
       "    </tr>\n",
       "    <tr>\n",
       "      <th>3</th>\n",
       "      <td>1966</td>\n",
       "      <td>8221</td>\n",
       "      <td>10187</td>\n",
       "      <td>[34,187,25,48,10,176,83,129,8,84,67,61,74,108,...</td>\n",
       "      <td>False</td>\n",
       "    </tr>\n",
       "    <tr>\n",
       "      <th>4</th>\n",
       "      <td>2044</td>\n",
       "      <td>8137</td>\n",
       "      <td>10181</td>\n",
       "      <td>[71,2,25,48,10,176,83,129,8,84,67,73,74,108,21...</td>\n",
       "      <td>False</td>\n",
       "    </tr>\n",
       "  </tbody>\n",
       "</table>\n",
       "</div>"
      ],
      "text/plain": [
       "   utilA  utilB  utilSum                                           contract  \\\n",
       "0   1944   8220    10164  [180,76,25,48,10,176,83,129,8,84,67,61,74,108,...   \n",
       "1   1933   8276    10209  [133,76,25,48,10,176,83,129,8,84,67,61,74,108,...   \n",
       "2   2058   8134    10192  [34,122,1,118,10,176,43,129,8,84,67,48,92,108,...   \n",
       "3   1966   8221    10187  [34,187,25,48,10,176,83,129,8,84,67,61,74,108,...   \n",
       "4   2044   8137    10181  [71,2,25,48,10,176,83,129,8,84,67,73,74,108,21...   \n",
       "\n",
       "   pareto  \n",
       "0   False  \n",
       "1   False  \n",
       "2   False  \n",
       "3   False  \n",
       "4   False  "
      ]
     },
     "execution_count": 78,
     "metadata": {},
     "output_type": "execute_result"
    }
   ],
   "source": [
    "# Read CSV\n",
    "contracts = pd.read_csv(SAVE_PATH+savefile, sep=';')\n",
    "contracts.drop_duplicates(inplace=True)\n",
    "print(contracts.shape)\n",
    "contracts.head()"
   ]
  },
  {
   "cell_type": "code",
   "execution_count": 79,
   "metadata": {},
   "outputs": [
    {
     "data": {
      "image/png": "[encoded data removed]",
      "text/plain": [
       "<Figure size 600x600 with 3 Axes>"
      ]
     },
     "metadata": {},
     "output_type": "display_data"
    }
   ],
   "source": [
    "if \"pareto\" in contracts.columns:\n",
    "    sns.jointplot(data=contracts, x=\"utilA\", y=\"utilB\", kind='scatter', hue=\"pareto\", marker=\"+\")\n",
    "    plt.scatter(contracts.loc[0,\"utilA\"], contracts.loc[0,\"utilB\"], color='red', marker=\"+\")\n",
    "else:\n",
    "    sns.jointplot(data=contracts, x=\"utilA\", y=\"utilB\", kind='scatter', marker=\"+\")\n",
    "    plt.scatter(contracts.loc[0,\"utilA\"], contracts.loc[0,\"utilB\"], color='red')"
   ]
  },
  {
   "cell_type": "code",
   "execution_count": 80,
   "metadata": {},
   "outputs": [
    {
     "data": {
      "text/html": [
       "<div>\n",
       "<style scoped>\n",
       "    .dataframe tbody tr th:only-of-type {\n",
       "        vertical-align: middle;\n",
       "    }\n",
       "\n",
       "    .dataframe tbody tr th {\n",
       "        vertical-align: top;\n",
       "    }\n",
       "\n",
       "    .dataframe thead th {\n",
       "        text-align: right;\n",
       "    }\n",
       "</style>\n",
       "<table border=\"1\" class=\"dataframe\">\n",
       "  <thead>\n",
       "    <tr style=\"text-align: right;\">\n",
       "      <th></th>\n",
       "      <th>utilA</th>\n",
       "      <th>utilB</th>\n",
       "      <th>utilSum</th>\n",
       "      <th>contract</th>\n",
       "      <th>pareto</th>\n",
       "    </tr>\n",
       "  </thead>\n",
       "  <tbody>\n",
       "    <tr>\n",
       "      <th>0</th>\n",
       "      <td>1944</td>\n",
       "      <td>8220</td>\n",
       "      <td>10164</td>\n",
       "      <td>[180,76,25,48,10,176,83,129,8,84,67,61,74,108,...</td>\n",
       "      <td>False</td>\n",
       "    </tr>\n",
       "    <tr>\n",
       "      <th>1</th>\n",
       "      <td>1933</td>\n",
       "      <td>8276</td>\n",
       "      <td>10209</td>\n",
       "      <td>[133,76,25,48,10,176,83,129,8,84,67,61,74,108,...</td>\n",
       "      <td>False</td>\n",
       "    </tr>\n",
       "    <tr>\n",
       "      <th>2</th>\n",
       "      <td>2058</td>\n",
       "      <td>8134</td>\n",
       "      <td>10192</td>\n",
       "      <td>[34,122,1,118,10,176,43,129,8,84,67,48,92,108,...</td>\n",
       "      <td>False</td>\n",
       "    </tr>\n",
       "    <tr>\n",
       "      <th>3</th>\n",
       "      <td>1966</td>\n",
       "      <td>8221</td>\n",
       "      <td>10187</td>\n",
       "      <td>[34,187,25,48,10,176,83,129,8,84,67,61,74,108,...</td>\n",
       "      <td>False</td>\n",
       "    </tr>\n",
       "    <tr>\n",
       "      <th>4</th>\n",
       "      <td>2044</td>\n",
       "      <td>8137</td>\n",
       "      <td>10181</td>\n",
       "      <td>[71,2,25,48,10,176,83,129,8,84,67,73,74,108,21...</td>\n",
       "      <td>False</td>\n",
       "    </tr>\n",
       "    <tr>\n",
       "      <th>...</th>\n",
       "      <td>...</td>\n",
       "      <td>...</td>\n",
       "      <td>...</td>\n",
       "      <td>...</td>\n",
       "      <td>...</td>\n",
       "    </tr>\n",
       "    <tr>\n",
       "      <th>9994</th>\n",
       "      <td>3397</td>\n",
       "      <td>7312</td>\n",
       "      <td>10709</td>\n",
       "      <td>[34,187,128,11,57,195,100,199,161,102,186,7,11...</td>\n",
       "      <td>True</td>\n",
       "    </tr>\n",
       "    <tr>\n",
       "      <th>9995</th>\n",
       "      <td>5194</td>\n",
       "      <td>6852</td>\n",
       "      <td>12046</td>\n",
       "      <td>[198,21,154,75,186,171,62,122,120,189,86,128,1...</td>\n",
       "      <td>True</td>\n",
       "    </tr>\n",
       "    <tr>\n",
       "      <th>9996</th>\n",
       "      <td>3728</td>\n",
       "      <td>7244</td>\n",
       "      <td>10972</td>\n",
       "      <td>[194,103,48,174,22,52,62,120,154,86,122,110,27...</td>\n",
       "      <td>True</td>\n",
       "    </tr>\n",
       "    <tr>\n",
       "      <th>9997</th>\n",
       "      <td>3024</td>\n",
       "      <td>7377</td>\n",
       "      <td>10401</td>\n",
       "      <td>[187,114,64,79,185,76,52,120,3,174,9,178,118,4...</td>\n",
       "      <td>True</td>\n",
       "    </tr>\n",
       "    <tr>\n",
       "      <th>9998</th>\n",
       "      <td>3290</td>\n",
       "      <td>7340</td>\n",
       "      <td>10630</td>\n",
       "      <td>[29,187,128,11,57,195,100,199,161,102,186,7,11...</td>\n",
       "      <td>True</td>\n",
       "    </tr>\n",
       "  </tbody>\n",
       "</table>\n",
       "<p>9999 rows × 5 columns</p>\n",
       "</div>"
      ],
      "text/plain": [
       "      utilA  utilB  utilSum  \\\n",
       "0      1944   8220    10164   \n",
       "1      1933   8276    10209   \n",
       "2      2058   8134    10192   \n",
       "3      1966   8221    10187   \n",
       "4      2044   8137    10181   \n",
       "...     ...    ...      ...   \n",
       "9994   3397   7312    10709   \n",
       "9995   5194   6852    12046   \n",
       "9996   3728   7244    10972   \n",
       "9997   3024   7377    10401   \n",
       "9998   3290   7340    10630   \n",
       "\n",
       "                                               contract  pareto  \n",
       "0     [180,76,25,48,10,176,83,129,8,84,67,61,74,108,...   False  \n",
       "1     [133,76,25,48,10,176,83,129,8,84,67,61,74,108,...   False  \n",
       "2     [34,122,1,118,10,176,43,129,8,84,67,48,92,108,...   False  \n",
       "3     [34,187,25,48,10,176,83,129,8,84,67,61,74,108,...   False  \n",
       "4     [71,2,25,48,10,176,83,129,8,84,67,73,74,108,21...   False  \n",
       "...                                                 ...     ...  \n",
       "9994  [34,187,128,11,57,195,100,199,161,102,186,7,11...    True  \n",
       "9995  [198,21,154,75,186,171,62,122,120,189,86,128,1...    True  \n",
       "9996  [194,103,48,174,22,52,62,120,154,86,122,110,27...    True  \n",
       "9997  [187,114,64,79,185,76,52,120,3,174,9,178,118,4...    True  \n",
       "9998  [29,187,128,11,57,195,100,199,161,102,186,7,11...    True  \n",
       "\n",
       "[9999 rows x 5 columns]"
      ]
     },
     "execution_count": 80,
     "metadata": {},
     "output_type": "execute_result"
    }
   ],
   "source": [
    "# Determine pareto-efficient contracts if necessary\n",
    "if \"pareto\" not in contracts.columns:\n",
    "    contracts[\"pareto\"] = get_pareto(contracts[[\"utilA\",\"utilB\"]])\n",
    "    contracts = contracts.drop_duplicates()\n",
    "    contracts.to_csv(SAVE_PATH+savefile, sep=';', index=False)\n",
    "contracts"
   ]
  }
 ],
 "metadata": {
  "kernelspec": {
   "display_name": "Python 3",
   "language": "python",
   "name": "python3"
  },
  "language_info": {
   "codemirror_mode": {
    "name": "ipython",
    "version": 3
   },
   "file_extension": ".py",
   "mimetype": "text/x-python",
   "name": "python",
   "nbconvert_exporter": "python",
   "pygments_lexer": "ipython3",
   "version": "3.12.0"
  }
 },
 "nbformat": 4,
 "nbformat_minor": 2
}
