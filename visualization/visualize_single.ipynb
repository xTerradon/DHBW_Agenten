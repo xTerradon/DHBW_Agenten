{
 "cells": [
  {
   "cell_type": "markdown",
   "metadata": {},
   "source": [
    "### IMPORTS"
   ]
  },
  {
   "cell_type": "code",
   "execution_count": 11,
   "metadata": {},
   "outputs": [
    {
     "data": {
      "text/plain": [
       "'c:\\\\Users\\\\luisb\\\\AppData\\\\Local\\\\Programs\\\\Python\\\\Python312\\\\python.exe'"
      ]
     },
     "execution_count": 11,
     "metadata": {},
     "output_type": "execute_result"
    }
   ],
   "source": [
    "import sys\n",
    "import os\n",
    "sys.executable"
   ]
  },
  {
   "cell_type": "code",
   "execution_count": 12,
   "metadata": {},
   "outputs": [],
   "source": [
    "import pandas as pd\n",
    "import matplotlib.pyplot as plt\n",
    "import seaborn as sns\n",
    "import numpy as np"
   ]
  },
  {
   "cell_type": "code",
   "execution_count": 13,
   "metadata": {},
   "outputs": [],
   "source": [
    "SAVE_PATH = \"../saves/\""
   ]
  },
  {
   "cell_type": "code",
   "execution_count": 14,
   "metadata": {},
   "outputs": [],
   "source": [
    "def get_pareto_old(arr):\n",
    "    # Convert the array to a numpy array\n",
    "    arr_np = np.array(arr)\n",
    "\n",
    "    # Initialize a boolean mask to keep track of pareto-efficient elements\n",
    "    is_pareto_efficient = np.ones(arr_np.shape[0], dtype=bool)\n",
    "\n",
    "    for i in range(arr_np.shape[0]):\n",
    "        if is_pareto_efficient[i]:\n",
    "            for j in range(arr_np.shape[0]):\n",
    "                if j != i and is_pareto_efficient[j]:\n",
    "                    # Check if arr[i] dominates arr[j] in all dimensions\n",
    "                    if np.all(arr_np[i] <= arr_np[j]) and np.any(arr_np[i] < arr_np[j]):\n",
    "                        is_pareto_efficient[j] = False\n",
    "\n",
    "    # Return the pareto-efficient elements\n",
    "    return is_pareto_efficient\n",
    "    "
   ]
  },
  {
   "cell_type": "code",
   "execution_count": 15,
   "metadata": {},
   "outputs": [],
   "source": [
    "def get_pareto(arr):\n",
    "    # Convert the array to a numpy array\n",
    "    arr_np = np.array(arr)\n",
    "\n",
    "    # Initialize a boolean mask to keep track of pareto-efficient elements\n",
    "    is_pareto_efficient = np.ones(arr_np.shape[0], dtype=bool)\n",
    "\n",
    "    for i in range(arr_np.shape[0]):\n",
    "        if is_pareto_efficient[i]:\n",
    "            # Compare the current element with all other elements using broadcasting\n",
    "            is_dominated = np.all(arr_np[i] <= arr_np, axis=1) & np.any(arr_np[i] < arr_np, axis=1)\n",
    "            # Update the mask to mark dominated elements as False\n",
    "            is_pareto_efficient[is_dominated] = False\n",
    "\n",
    "    # Return the pareto-efficient elements\n",
    "    return is_pareto_efficient"
   ]
  },
  {
   "cell_type": "markdown",
   "metadata": {},
   "source": [
    "### Visualization"
   ]
  },
  {
   "cell_type": "code",
   "execution_count": 16,
   "metadata": {},
   "outputs": [
    {
     "name": "stdout",
     "output_type": "stream",
     "text": [
      "['pareto.csv', 'saves_1710502540563.csv', 'saves_1710502616293.csv', 'saves_1710502702203.csv', 'saves_1710502795933.csv', 'saves_1710513923401.csv', 'saves_1710514182799.csv', 'saves_1710514219897.csv', 'saves_1710514418808.csv', 'saves_1710514601277.csv', 'saves_1710514689193.csv', 'saves_1710514832352.csv', 'saves_1710515003559.csv', 'saves_1710515295123.csv', 'saves_1710515637176.csv', 'saves_1710519955596.csv', 'saves_1710520847852.csv', 'saves_1710521962273.csv', 'saves_1710522481507.csv', 'saves_1710602450026.csv']\n"
     ]
    },
    {
     "data": {
      "text/plain": [
       "'Visualizing data from: saves_1710602450026.csv'"
      ]
     },
     "execution_count": 16,
     "metadata": {},
     "output_type": "execute_result"
    }
   ],
   "source": [
    "print(os.listdir(SAVE_PATH))\n",
    "savefile = os.listdir(SAVE_PATH)[-1]\n",
    "\"Visualizing data from: \" + savefile"
   ]
  },
  {
   "cell_type": "code",
   "execution_count": 17,
   "metadata": {},
   "outputs": [
    {
     "name": "stdout",
     "output_type": "stream",
     "text": [
      "(7, 5)\n"
     ]
    },
    {
     "data": {
      "text/html": [
       "<div>\n",
       "<style scoped>\n",
       "    .dataframe tbody tr th:only-of-type {\n",
       "        vertical-align: middle;\n",
       "    }\n",
       "\n",
       "    .dataframe tbody tr th {\n",
       "        vertical-align: top;\n",
       "    }\n",
       "\n",
       "    .dataframe thead th {\n",
       "        text-align: right;\n",
       "    }\n",
       "</style>\n",
       "<table border=\"1\" class=\"dataframe\">\n",
       "  <thead>\n",
       "    <tr style=\"text-align: right;\">\n",
       "      <th></th>\n",
       "      <th>utilA</th>\n",
       "      <th>utilB</th>\n",
       "      <th>utilSum</th>\n",
       "      <th>contract</th>\n",
       "      <th>pareto</th>\n",
       "    </tr>\n",
       "  </thead>\n",
       "  <tbody>\n",
       "    <tr>\n",
       "      <th>0</th>\n",
       "      <td>1485</td>\n",
       "      <td>7327</td>\n",
       "      <td>8812</td>\n",
       "      <td>[34,4,144,70,19,87,121,178,102,75,182,84,77,11...</td>\n",
       "      <td>True</td>\n",
       "    </tr>\n",
       "    <tr>\n",
       "      <th>1</th>\n",
       "      <td>1569</td>\n",
       "      <td>7269</td>\n",
       "      <td>8838</td>\n",
       "      <td>[34,4,144,70,19,41,121,178,189,75,182,84,77,11...</td>\n",
       "      <td>True</td>\n",
       "    </tr>\n",
       "    <tr>\n",
       "      <th>2</th>\n",
       "      <td>1484</td>\n",
       "      <td>7343</td>\n",
       "      <td>8827</td>\n",
       "      <td>[34,4,144,70,19,41,121,178,102,75,182,84,77,11...</td>\n",
       "      <td>False</td>\n",
       "    </tr>\n",
       "    <tr>\n",
       "      <th>3</th>\n",
       "      <td>1475</td>\n",
       "      <td>7338</td>\n",
       "      <td>8813</td>\n",
       "      <td>[34,4,144,70,19,87,121,178,102,75,182,84,77,11...</td>\n",
       "      <td>True</td>\n",
       "    </tr>\n",
       "    <tr>\n",
       "      <th>4</th>\n",
       "      <td>1510</td>\n",
       "      <td>7309</td>\n",
       "      <td>8819</td>\n",
       "      <td>[34,4,144,70,19,87,121,178,102,75,182,84,77,11...</td>\n",
       "      <td>True</td>\n",
       "    </tr>\n",
       "  </tbody>\n",
       "</table>\n",
       "</div>"
      ],
      "text/plain": [
       "   utilA  utilB  utilSum                                           contract  \\\n",
       "0   1485   7327     8812  [34,4,144,70,19,87,121,178,102,75,182,84,77,11...   \n",
       "1   1569   7269     8838  [34,4,144,70,19,41,121,178,189,75,182,84,77,11...   \n",
       "2   1484   7343     8827  [34,4,144,70,19,41,121,178,102,75,182,84,77,11...   \n",
       "3   1475   7338     8813  [34,4,144,70,19,87,121,178,102,75,182,84,77,11...   \n",
       "4   1510   7309     8819  [34,4,144,70,19,87,121,178,102,75,182,84,77,11...   \n",
       "\n",
       "   pareto  \n",
       "0    True  \n",
       "1    True  \n",
       "2   False  \n",
       "3    True  \n",
       "4    True  "
      ]
     },
     "execution_count": 17,
     "metadata": {},
     "output_type": "execute_result"
    }
   ],
   "source": [
    "# Read CSV\n",
    "contracts = pd.read_csv(SAVE_PATH+savefile, sep=';')\n",
    "contracts.drop_duplicates(inplace=True)\n",
    "print(contracts.shape)\n",
    "contracts.head()"
   ]
  },
  {
   "cell_type": "code",
   "execution_count": 18,
   "metadata": {},
   "outputs": [
    {
     "data": {
      "image/png": "[encoded data removed]",
      "text/plain": [
       "<Figure size 600x600 with 3 Axes>"
      ]
     },
     "metadata": {},
     "output_type": "display_data"
    }
   ],
   "source": [
    "if \"pareto\" in contracts.columns and np.all(~contracts[\"pareto\"].isna()):\n",
    "    sns.jointplot(data=contracts, x=\"utilA\", y=\"utilB\", kind='scatter', hue=\"pareto\", marker=\"+\")\n",
    "    plt.scatter(contracts.loc[0,\"utilA\"], contracts.loc[0,\"utilB\"], color='red', marker=\"+\")\n",
    "else:\n",
    "    sns.jointplot(data=contracts, x=\"utilA\", y=\"utilB\", kind='scatter', hue=contracts.index, marker=\"+\")\n",
    "    plt.scatter(contracts.loc[0,\"utilA\"], contracts.loc[0,\"utilB\"], color='red')"
   ]
  },
  {
   "cell_type": "code",
   "execution_count": 19,
   "metadata": {},
   "outputs": [
    {
     "data": {
      "text/html": [
       "<div>\n",
       "<style scoped>\n",
       "    .dataframe tbody tr th:only-of-type {\n",
       "        vertical-align: middle;\n",
       "    }\n",
       "\n",
       "    .dataframe tbody tr th {\n",
       "        vertical-align: top;\n",
       "    }\n",
       "\n",
       "    .dataframe thead th {\n",
       "        text-align: right;\n",
       "    }\n",
       "</style>\n",
       "<table border=\"1\" class=\"dataframe\">\n",
       "  <thead>\n",
       "    <tr style=\"text-align: right;\">\n",
       "      <th></th>\n",
       "      <th>utilA</th>\n",
       "      <th>utilB</th>\n",
       "      <th>utilSum</th>\n",
       "      <th>contract</th>\n",
       "      <th>pareto</th>\n",
       "    </tr>\n",
       "  </thead>\n",
       "  <tbody>\n",
       "    <tr>\n",
       "      <th>0</th>\n",
       "      <td>1485</td>\n",
       "      <td>7327</td>\n",
       "      <td>8812</td>\n",
       "      <td>[34,4,144,70,19,87,121,178,102,75,182,84,77,11...</td>\n",
       "      <td>True</td>\n",
       "    </tr>\n",
       "    <tr>\n",
       "      <th>1</th>\n",
       "      <td>1569</td>\n",
       "      <td>7269</td>\n",
       "      <td>8838</td>\n",
       "      <td>[34,4,144,70,19,41,121,178,189,75,182,84,77,11...</td>\n",
       "      <td>True</td>\n",
       "    </tr>\n",
       "    <tr>\n",
       "      <th>2</th>\n",
       "      <td>1484</td>\n",
       "      <td>7343</td>\n",
       "      <td>8827</td>\n",
       "      <td>[34,4,144,70,19,41,121,178,102,75,182,84,77,11...</td>\n",
       "      <td>False</td>\n",
       "    </tr>\n",
       "    <tr>\n",
       "      <th>3</th>\n",
       "      <td>1475</td>\n",
       "      <td>7338</td>\n",
       "      <td>8813</td>\n",
       "      <td>[34,4,144,70,19,87,121,178,102,75,182,84,77,11...</td>\n",
       "      <td>True</td>\n",
       "    </tr>\n",
       "    <tr>\n",
       "      <th>4</th>\n",
       "      <td>1510</td>\n",
       "      <td>7309</td>\n",
       "      <td>8819</td>\n",
       "      <td>[34,4,144,70,19,87,121,178,102,75,182,84,77,11...</td>\n",
       "      <td>True</td>\n",
       "    </tr>\n",
       "    <tr>\n",
       "      <th>5</th>\n",
       "      <td>1598</td>\n",
       "      <td>7253</td>\n",
       "      <td>8851</td>\n",
       "      <td>[34,4,144,70,19,41,121,178,189,75,182,84,77,11...</td>\n",
       "      <td>True</td>\n",
       "    </tr>\n",
       "    <tr>\n",
       "      <th>6</th>\n",
       "      <td>1456</td>\n",
       "      <td>7390</td>\n",
       "      <td>8846</td>\n",
       "      <td>[146,4,144,70,19,87,121,178,102,75,182,84,77,1...</td>\n",
       "      <td>True</td>\n",
       "    </tr>\n",
       "  </tbody>\n",
       "</table>\n",
       "</div>"
      ],
      "text/plain": [
       "   utilA  utilB  utilSum                                           contract  \\\n",
       "0   1485   7327     8812  [34,4,144,70,19,87,121,178,102,75,182,84,77,11...   \n",
       "1   1569   7269     8838  [34,4,144,70,19,41,121,178,189,75,182,84,77,11...   \n",
       "2   1484   7343     8827  [34,4,144,70,19,41,121,178,102,75,182,84,77,11...   \n",
       "3   1475   7338     8813  [34,4,144,70,19,87,121,178,102,75,182,84,77,11...   \n",
       "4   1510   7309     8819  [34,4,144,70,19,87,121,178,102,75,182,84,77,11...   \n",
       "5   1598   7253     8851  [34,4,144,70,19,41,121,178,189,75,182,84,77,11...   \n",
       "6   1456   7390     8846  [146,4,144,70,19,87,121,178,102,75,182,84,77,1...   \n",
       "\n",
       "   pareto  \n",
       "0    True  \n",
       "1    True  \n",
       "2   False  \n",
       "3    True  \n",
       "4    True  \n",
       "5    True  \n",
       "6    True  "
      ]
     },
     "execution_count": 19,
     "metadata": {},
     "output_type": "execute_result"
    }
   ],
   "source": [
    "# Determine pareto-efficient contracts if necessary\n",
    "if \"pareto\" not in contracts.columns or np.any(contracts[\"pareto\"].isna()):\n",
    "    contracts[\"pareto\"] = get_pareto(contracts[[\"utilA\",\"utilB\"]])\n",
    "    contracts = contracts.drop_duplicates()\n",
    "    contracts.to_csv(SAVE_PATH+savefile, sep=';', index=False)\n",
    "contracts"
   ]
  }
 ],
 "metadata": {
  "kernelspec": {
   "display_name": "Python 3",
   "language": "python",
   "name": "python3"
  },
  "language_info": {
   "codemirror_mode": {
    "name": "ipython",
    "version": 3
   },
   "file_extension": ".py",
   "mimetype": "text/x-python",
   "name": "python",
   "nbconvert_exporter": "python",
   "pygments_lexer": "ipython3",
   "version": "3.12.0"
  }
 },
 "nbformat": 4,
 "nbformat_minor": 2
}
