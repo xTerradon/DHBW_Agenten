{
 "cells": [
  {
   "cell_type": "markdown",
   "metadata": {},
   "source": [
    "### IMPORTS"
   ]
  },
  {
   "cell_type": "code",
   "execution_count": 57,
   "metadata": {},
   "outputs": [
    {
     "data": {
      "text/plain": [
       "'c:\\\\Users\\\\luisb\\\\AppData\\\\Local\\\\Programs\\\\Python\\\\Python312\\\\python.exe'"
      ]
     },
     "execution_count": 57,
     "metadata": {},
     "output_type": "execute_result"
    }
   ],
   "source": [
    "import sys\n",
    "import os\n",
    "sys.executable"
   ]
  },
  {
   "cell_type": "code",
   "execution_count": 58,
   "metadata": {},
   "outputs": [],
   "source": [
    "import pandas as pd\n",
    "import matplotlib.pyplot as plt\n",
    "import seaborn as sns\n",
    "import numpy as np"
   ]
  },
  {
   "cell_type": "code",
   "execution_count": 59,
   "metadata": {},
   "outputs": [],
   "source": [
    "SAVE_PATH = \"../saves/\""
   ]
  },
  {
   "cell_type": "code",
   "execution_count": 60,
   "metadata": {},
   "outputs": [],
   "source": [
    "def get_pareto_old(arr):\n",
    "    # Convert the array to a numpy array\n",
    "    arr_np = np.array(arr)\n",
    "\n",
    "    # Initialize a boolean mask to keep track of pareto-efficient elements\n",
    "    is_pareto_efficient = np.ones(arr_np.shape[0], dtype=bool)\n",
    "\n",
    "    for i in range(arr_np.shape[0]):\n",
    "        if is_pareto_efficient[i]:\n",
    "            for j in range(arr_np.shape[0]):\n",
    "                if j != i and is_pareto_efficient[j]:\n",
    "                    # Check if arr[i] dominates arr[j] in all dimensions\n",
    "                    if np.all(arr_np[i] <= arr_np[j]) and np.any(arr_np[i] < arr_np[j]):\n",
    "                        is_pareto_efficient[j] = False\n",
    "\n",
    "    # Return the pareto-efficient elements\n",
    "    return is_pareto_efficient\n",
    "    "
   ]
  },
  {
   "cell_type": "code",
   "execution_count": null,
   "metadata": {},
   "outputs": [],
   "source": [
    "def get_pareto(arr):\n",
    "    # Convert the array to a numpy array\n",
    "    arr_np = np.array(arr)\n",
    "\n",
    "    # Initialize a boolean mask to keep track of pareto-efficient elements\n",
    "    is_pareto_efficient = np.ones(arr_np.shape[0], dtype=bool)\n",
    "\n",
    "    for i in range(arr_np.shape[0]):\n",
    "        if is_pareto_efficient[i]:\n",
    "            # Compare the current element with all other elements using broadcasting\n",
    "            is_dominated = np.all(arr_np[i] <= arr_np, axis=1) & np.any(arr_np[i] < arr_np, axis=1)\n",
    "            # Update the mask to mark dominated elements as False\n",
    "            is_pareto_efficient[is_dominated] = False\n",
    "\n",
    "    # Return the pareto-efficient elements\n",
    "    return is_pareto_efficient"
   ]
  },
  {
   "cell_type": "markdown",
   "metadata": {},
   "source": [
    "### Visualization"
   ]
  },
  {
   "cell_type": "code",
   "execution_count": 61,
   "metadata": {},
   "outputs": [
    {
     "name": "stdout",
     "output_type": "stream",
     "text": [
      "['pareto.csv', 'saves_1710502540563.csv', 'saves_1710502616293.csv', 'saves_1710502702203.csv', 'saves_1710502795933.csv', 'saves_1710513923401.csv', 'saves_1710514182799.csv', 'saves_1710514219897.csv', 'saves_1710514418808.csv', 'saves_1710514601277.csv', 'saves_1710514689193.csv', 'saves_1710514832352.csv', 'saves_1710515003559.csv', 'saves_1710515295123.csv', 'saves_1710515637176.csv']\n"
     ]
    },
    {
     "data": {
      "text/plain": [
       "'Visualizing data from: saves_1710515637176.csv'"
      ]
     },
     "execution_count": 61,
     "metadata": {},
     "output_type": "execute_result"
    }
   ],
   "source": [
    "print(os.listdir(SAVE_PATH))\n",
    "savefile = os.listdir(SAVE_PATH)[-1]\n",
    "\"Visualizing data from: \" + savefile"
   ]
  },
  {
   "cell_type": "code",
   "execution_count": 62,
   "metadata": {},
   "outputs": [
    {
     "name": "stdout",
     "output_type": "stream",
     "text": [
      "(26550, 4)\n"
     ]
    },
    {
     "data": {
      "text/html": [
       "<div>\n",
       "<style scoped>\n",
       "    .dataframe tbody tr th:only-of-type {\n",
       "        vertical-align: middle;\n",
       "    }\n",
       "\n",
       "    .dataframe tbody tr th {\n",
       "        vertical-align: top;\n",
       "    }\n",
       "\n",
       "    .dataframe thead th {\n",
       "        text-align: right;\n",
       "    }\n",
       "</style>\n",
       "<table border=\"1\" class=\"dataframe\">\n",
       "  <thead>\n",
       "    <tr style=\"text-align: right;\">\n",
       "      <th></th>\n",
       "      <th>utilA</th>\n",
       "      <th>utilB</th>\n",
       "      <th>utilSum</th>\n",
       "      <th>contract</th>\n",
       "    </tr>\n",
       "  </thead>\n",
       "  <tbody>\n",
       "    <tr>\n",
       "      <th>0</th>\n",
       "      <td>1815</td>\n",
       "      <td>7407</td>\n",
       "      <td>9222</td>\n",
       "      <td>[185,127,129,70,19,87,121,178,111,132,130,84,7...</td>\n",
       "    </tr>\n",
       "    <tr>\n",
       "      <th>1</th>\n",
       "      <td>1840</td>\n",
       "      <td>7364</td>\n",
       "      <td>9204</td>\n",
       "      <td>[34,127,129,70,49,87,121,178,111,132,130,84,77...</td>\n",
       "    </tr>\n",
       "    <tr>\n",
       "      <th>2</th>\n",
       "      <td>1863</td>\n",
       "      <td>7322</td>\n",
       "      <td>9185</td>\n",
       "      <td>[34,127,129,70,19,87,121,178,102,132,130,84,77...</td>\n",
       "    </tr>\n",
       "    <tr>\n",
       "      <th>3</th>\n",
       "      <td>1831</td>\n",
       "      <td>7396</td>\n",
       "      <td>9227</td>\n",
       "      <td>[34,127,129,70,19,87,121,178,111,132,130,84,77...</td>\n",
       "    </tr>\n",
       "    <tr>\n",
       "      <th>4</th>\n",
       "      <td>1840</td>\n",
       "      <td>7336</td>\n",
       "      <td>9176</td>\n",
       "      <td>[34,127,129,70,19,87,121,178,111,132,130,84,77...</td>\n",
       "    </tr>\n",
       "  </tbody>\n",
       "</table>\n",
       "</div>"
      ],
      "text/plain": [
       "   utilA  utilB  utilSum                                           contract\n",
       "0   1815   7407     9222  [185,127,129,70,19,87,121,178,111,132,130,84,7...\n",
       "1   1840   7364     9204  [34,127,129,70,49,87,121,178,111,132,130,84,77...\n",
       "2   1863   7322     9185  [34,127,129,70,19,87,121,178,102,132,130,84,77...\n",
       "3   1831   7396     9227  [34,127,129,70,19,87,121,178,111,132,130,84,77...\n",
       "4   1840   7336     9176  [34,127,129,70,19,87,121,178,111,132,130,84,77..."
      ]
     },
     "execution_count": 62,
     "metadata": {},
     "output_type": "execute_result"
    }
   ],
   "source": [
    "# Read CSV\n",
    "contracts = pd.read_csv(SAVE_PATH+savefile, sep=';')\n",
    "contracts.drop_duplicates(inplace=True)\n",
    "print(contracts.shape)\n",
    "contracts.head()"
   ]
  },
  {
   "cell_type": "code",
   "execution_count": 66,
   "metadata": {},
   "outputs": [
    {
     "data": {
      "image/png": "[encoded data removed]",
      "text/plain": [
       "<Figure size 600x600 with 3 Axes>"
      ]
     },
     "metadata": {},
     "output_type": "display_data"
    }
   ],
   "source": [
    "if \"pareto\" in contracts.columns:\n",
    "    sns.jointplot(data=contracts, x=\"utilA\", y=\"utilB\", kind='scatter', hue=\"pareto\", marker=\"+\")\n",
    "    plt.scatter(contracts.loc[0,\"utilA\"], contracts.loc[0,\"utilB\"], color='red', marker=\"+\")\n",
    "else:\n",
    "    sns.jointplot(data=contracts, x=\"utilA\", y=\"utilB\", kind='scatter', hue=contracts.index, marker=\"+\")\n",
    "    plt.scatter(contracts.loc[0,\"utilA\"], contracts.loc[0,\"utilB\"], color='red')"
   ]
  },
  {
   "cell_type": "code",
   "execution_count": 67,
   "metadata": {},
   "outputs": [
    {
     "data": {
      "text/html": [
       "<div>\n",
       "<style scoped>\n",
       "    .dataframe tbody tr th:only-of-type {\n",
       "        vertical-align: middle;\n",
       "    }\n",
       "\n",
       "    .dataframe tbody tr th {\n",
       "        vertical-align: top;\n",
       "    }\n",
       "\n",
       "    .dataframe thead th {\n",
       "        text-align: right;\n",
       "    }\n",
       "</style>\n",
       "<table border=\"1\" class=\"dataframe\">\n",
       "  <thead>\n",
       "    <tr style=\"text-align: right;\">\n",
       "      <th></th>\n",
       "      <th>utilA</th>\n",
       "      <th>utilB</th>\n",
       "      <th>utilSum</th>\n",
       "      <th>contract</th>\n",
       "      <th>pareto</th>\n",
       "    </tr>\n",
       "  </thead>\n",
       "  <tbody>\n",
       "    <tr>\n",
       "      <th>0</th>\n",
       "      <td>1815</td>\n",
       "      <td>7407</td>\n",
       "      <td>9222</td>\n",
       "      <td>[185,127,129,70,19,87,121,178,111,132,130,84,7...</td>\n",
       "      <td>False</td>\n",
       "    </tr>\n",
       "    <tr>\n",
       "      <th>1</th>\n",
       "      <td>1840</td>\n",
       "      <td>7364</td>\n",
       "      <td>9204</td>\n",
       "      <td>[34,127,129,70,49,87,121,178,111,132,130,84,77...</td>\n",
       "      <td>False</td>\n",
       "    </tr>\n",
       "    <tr>\n",
       "      <th>2</th>\n",
       "      <td>1863</td>\n",
       "      <td>7322</td>\n",
       "      <td>9185</td>\n",
       "      <td>[34,127,129,70,19,87,121,178,102,132,130,84,77...</td>\n",
       "      <td>False</td>\n",
       "    </tr>\n",
       "    <tr>\n",
       "      <th>3</th>\n",
       "      <td>1831</td>\n",
       "      <td>7396</td>\n",
       "      <td>9227</td>\n",
       "      <td>[34,127,129,70,19,87,121,178,111,132,130,84,77...</td>\n",
       "      <td>False</td>\n",
       "    </tr>\n",
       "    <tr>\n",
       "      <th>4</th>\n",
       "      <td>1840</td>\n",
       "      <td>7336</td>\n",
       "      <td>9176</td>\n",
       "      <td>[34,127,129,70,19,87,121,178,111,132,130,84,77...</td>\n",
       "      <td>False</td>\n",
       "    </tr>\n",
       "    <tr>\n",
       "      <th>...</th>\n",
       "      <td>...</td>\n",
       "      <td>...</td>\n",
       "      <td>...</td>\n",
       "      <td>...</td>\n",
       "      <td>...</td>\n",
       "    </tr>\n",
       "    <tr>\n",
       "      <th>26545</th>\n",
       "      <td>3964</td>\n",
       "      <td>6541</td>\n",
       "      <td>10505</td>\n",
       "      <td>[198,29,90,41,187,79,179,47,26,161,115,152,131...</td>\n",
       "      <td>True</td>\n",
       "    </tr>\n",
       "    <tr>\n",
       "      <th>26546</th>\n",
       "      <td>4504</td>\n",
       "      <td>6454</td>\n",
       "      <td>10958</td>\n",
       "      <td>[198,29,90,41,187,60,179,47,26,161,115,152,163...</td>\n",
       "      <td>True</td>\n",
       "    </tr>\n",
       "    <tr>\n",
       "      <th>26547</th>\n",
       "      <td>4469</td>\n",
       "      <td>6457</td>\n",
       "      <td>10926</td>\n",
       "      <td>[198,29,90,41,187,60,179,47,26,161,115,152,163...</td>\n",
       "      <td>False</td>\n",
       "    </tr>\n",
       "    <tr>\n",
       "      <th>26548</th>\n",
       "      <td>4418</td>\n",
       "      <td>6463</td>\n",
       "      <td>10881</td>\n",
       "      <td>[198,29,90,41,187,60,179,47,26,161,115,152,163...</td>\n",
       "      <td>True</td>\n",
       "    </tr>\n",
       "    <tr>\n",
       "      <th>26549</th>\n",
       "      <td>4468</td>\n",
       "      <td>6457</td>\n",
       "      <td>10925</td>\n",
       "      <td>[198,29,90,41,187,60,179,47,26,161,115,152,163...</td>\n",
       "      <td>True</td>\n",
       "    </tr>\n",
       "  </tbody>\n",
       "</table>\n",
       "<p>26550 rows × 5 columns</p>\n",
       "</div>"
      ],
      "text/plain": [
       "       utilA  utilB  utilSum  \\\n",
       "0       1815   7407     9222   \n",
       "1       1840   7364     9204   \n",
       "2       1863   7322     9185   \n",
       "3       1831   7396     9227   \n",
       "4       1840   7336     9176   \n",
       "...      ...    ...      ...   \n",
       "26545   3964   6541    10505   \n",
       "26546   4504   6454    10958   \n",
       "26547   4469   6457    10926   \n",
       "26548   4418   6463    10881   \n",
       "26549   4468   6457    10925   \n",
       "\n",
       "                                                contract  pareto  \n",
       "0      [185,127,129,70,19,87,121,178,111,132,130,84,7...   False  \n",
       "1      [34,127,129,70,49,87,121,178,111,132,130,84,77...   False  \n",
       "2      [34,127,129,70,19,87,121,178,102,132,130,84,77...   False  \n",
       "3      [34,127,129,70,19,87,121,178,111,132,130,84,77...   False  \n",
       "4      [34,127,129,70,19,87,121,178,111,132,130,84,77...   False  \n",
       "...                                                  ...     ...  \n",
       "26545  [198,29,90,41,187,79,179,47,26,161,115,152,131...    True  \n",
       "26546  [198,29,90,41,187,60,179,47,26,161,115,152,163...    True  \n",
       "26547  [198,29,90,41,187,60,179,47,26,161,115,152,163...   False  \n",
       "26548  [198,29,90,41,187,60,179,47,26,161,115,152,163...    True  \n",
       "26549  [198,29,90,41,187,60,179,47,26,161,115,152,163...    True  \n",
       "\n",
       "[26550 rows x 5 columns]"
      ]
     },
     "execution_count": 67,
     "metadata": {},
     "output_type": "execute_result"
    }
   ],
   "source": [
    "# Determine pareto-efficient contracts if necessary\n",
    "if \"pareto\" not in contracts.columns:\n",
    "    contracts[\"pareto\"] = get_pareto(contracts[[\"utilA\",\"utilB\"]])\n",
    "    contracts = contracts.drop_duplicates()\n",
    "    contracts.to_csv(SAVE_PATH+savefile, sep=';', index=False)\n",
    "contracts"
   ]
  }
 ],
 "metadata": {
  "kernelspec": {
   "display_name": "Python 3",
   "language": "python",
   "name": "python3"
  },
  "language_info": {
   "codemirror_mode": {
    "name": "ipython",
    "version": 3
   },
   "file_extension": ".py",
   "mimetype": "text/x-python",
   "name": "python",
   "nbconvert_exporter": "python",
   "pygments_lexer": "ipython3",
   "version": "3.12.0"
  }
 },
 "nbformat": 4,
 "nbformat_minor": 2
}
