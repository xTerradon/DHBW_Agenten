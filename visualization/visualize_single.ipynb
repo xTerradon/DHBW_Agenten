{
 "cells": [
  {
   "cell_type": "markdown",
   "metadata": {},
   "source": [
    "### IMPORTS"
   ]
  },
  {
   "cell_type": "code",
   "execution_count": 89,
   "metadata": {},
   "outputs": [
    {
     "data": {
      "text/plain": [
       "'c:\\\\Users\\\\luisb\\\\AppData\\\\Local\\\\Programs\\\\Python\\\\Python312\\\\python.exe'"
      ]
     },
     "execution_count": 89,
     "metadata": {},
     "output_type": "execute_result"
    }
   ],
   "source": [
    "import sys\n",
    "import os\n",
    "sys.executable"
   ]
  },
  {
   "cell_type": "code",
   "execution_count": 90,
   "metadata": {},
   "outputs": [],
   "source": [
    "import pandas as pd\n",
    "import matplotlib.pyplot as plt\n",
    "import seaborn as sns\n",
    "import numpy as np"
   ]
  },
  {
   "cell_type": "code",
   "execution_count": 91,
   "metadata": {},
   "outputs": [],
   "source": [
    "SAVE_PATH = \"../saves/\""
   ]
  },
  {
   "cell_type": "code",
   "execution_count": 92,
   "metadata": {},
   "outputs": [],
   "source": [
    "def get_pareto(arr):\n",
    "    # Convert the array to a numpy array\n",
    "    arr_np = np.array(arr)\n",
    "\n",
    "    # Initialize a boolean mask to keep track of pareto-efficient elements\n",
    "    is_pareto_efficient = np.ones(arr_np.shape[0], dtype=bool)\n",
    "\n",
    "    for i in range(arr_np.shape[0]):\n",
    "        if is_pareto_efficient[i]:\n",
    "            for j in range(arr_np.shape[0]):\n",
    "                if j != i and is_pareto_efficient[j]:\n",
    "                    # Check if arr[i] dominates arr[j] in all dimensions\n",
    "                    if np.all(arr_np[i] <= arr_np[j]) and np.any(arr_np[i] < arr_np[j]):\n",
    "                        is_pareto_efficient[j] = False\n",
    "\n",
    "    # Return the pareto-efficient elements\n",
    "    return is_pareto_efficient\n",
    "    "
   ]
  },
  {
   "cell_type": "markdown",
   "metadata": {},
   "source": [
    "### Visualization"
   ]
  },
  {
   "cell_type": "code",
   "execution_count": 93,
   "metadata": {},
   "outputs": [
    {
     "name": "stdout",
     "output_type": "stream",
     "text": [
      "['pareto.csv', 'saves_1710424156961.csv', 'saves_1710424454746.csv', 'saves_1710424515049.csv', 'saves_1710424637019.csv', 'saves_1710424916129.csv', 'saves_1710429089587.csv', 'saves_1710429514728.csv', 'saves_1710429727788.csv', 'saves_1710429865873.csv', 'saves_1710429985239.csv', 'saves_1710430130919.csv', 'saves_1710430150347.csv', 'saves_1710430307672.csv', 'saves_1710430871920.csv', 'saves_1710431208782.csv', 'saves_1710433005888.csv', 'saves_1710433038829.csv', 'saves_1710433067539.csv', 'saves_1710433104086.csv', 'saves_1710433145786.csv', 'saves_1710433231572.csv', 'saves_1710433284422.csv', 'saves_1710433317750.csv', 'saves_1710433333342.csv', 'saves_1710433396034.csv', 'saves_1710433430620.csv', 'saves_1710433540895.csv', 'saves_1710433601737.csv', 'saves_1710433642142.csv', 'saves_1710433666142.csv', 'saves_1710433698580.csv', 'saves_1710433876094.csv', 'saves_1710436421269.csv', 'saves_1710436501194.csv', 'saves_1710437276237.csv', 'saves_1710437338617.csv', 'saves_1710438201420.csv', 'saves_1710438247972.csv', 'saves_1710438662400.csv', 'saves_1710458484854.csv', 'saves_1710460159779.csv', 'saves_1710460431557.csv', 'saves_1710460489035.csv', 'saves_1710460527350.csv', 'saves_1710460797202.csv', 'saves_1710461106074.csv', 'saves_1710461235633.csv', 'saves_1710461445303.csv', 'saves_1710461573699.csv', 'saves_1710461636197.csv', 'saves_1710461668696.csv', 'saves_1710461805766.csv', 'saves_1710461846417.csv', 'saves_1710462184669.csv', 'saves_1710462214916.csv', 'saves_1710462268702.csv', 'saves_1710462308549.csv', 'saves_1710462377849.csv', 'saves_1710462417953.csv', 'saves_1710462449787.csv', 'saves_1710462459892.csv', 'saves_1710462483574.csv', 'saves_1710462501309.csv', 'saves_1710462510060.csv', 'saves_1710462527831.csv', 'saves_1710462646286.csv', 'saves_1710462741715.csv', 'saves_1710499380855.csv', 'saves_1710499554311.csv', 'saves_1710499664888.csv', 'saves_1710499847598.csv', 'saves_1710500191506.csv', 'saves_1710500235532.csv', 'saves_1710500282523.csv', 'saves_1710500923955.csv', 'saves_1710501021699.csv', 'saves_1710501047071.csv', 'saves_1710501320672.csv', 'saves_1710501386085.csv', 'saves_1710501794333.csv']\n"
     ]
    },
    {
     "data": {
      "text/plain": [
       "'Visualizing data from: saves_1710501794333.csv'"
      ]
     },
     "execution_count": 93,
     "metadata": {},
     "output_type": "execute_result"
    }
   ],
   "source": [
    "print(os.listdir(SAVE_PATH))\n",
    "savefile = os.listdir(SAVE_PATH)[-1]\n",
    "\"Visualizing data from: \" + savefile"
   ]
  },
  {
   "cell_type": "code",
   "execution_count": 94,
   "metadata": {},
   "outputs": [
    {
     "name": "stdout",
     "output_type": "stream",
     "text": [
      "(9995, 6)\n"
     ]
    },
    {
     "data": {
      "text/html": [
       "<div>\n",
       "<style scoped>\n",
       "    .dataframe tbody tr th:only-of-type {\n",
       "        vertical-align: middle;\n",
       "    }\n",
       "\n",
       "    .dataframe tbody tr th {\n",
       "        vertical-align: top;\n",
       "    }\n",
       "\n",
       "    .dataframe thead th {\n",
       "        text-align: right;\n",
       "    }\n",
       "</style>\n",
       "<table border=\"1\" class=\"dataframe\">\n",
       "  <thead>\n",
       "    <tr style=\"text-align: right;\">\n",
       "      <th></th>\n",
       "      <th>utilA</th>\n",
       "      <th>utilB</th>\n",
       "      <th>utilSum</th>\n",
       "      <th>contract</th>\n",
       "      <th>index</th>\n",
       "      <th>pareto</th>\n",
       "    </tr>\n",
       "  </thead>\n",
       "  <tbody>\n",
       "    <tr>\n",
       "      <th>0</th>\n",
       "      <td>2342</td>\n",
       "      <td>7558</td>\n",
       "      <td>9900</td>\n",
       "      <td>[146,114,64,79,185,54,52,25,98,3,120,178,118,4...</td>\n",
       "      <td>0</td>\n",
       "      <td>False</td>\n",
       "    </tr>\n",
       "    <tr>\n",
       "      <th>1</th>\n",
       "      <td>2337</td>\n",
       "      <td>7573</td>\n",
       "      <td>9910</td>\n",
       "      <td>[146,114,64,79,185,151,52,25,98,3,120,178,118,...</td>\n",
       "      <td>1</td>\n",
       "      <td>False</td>\n",
       "    </tr>\n",
       "    <tr>\n",
       "      <th>2</th>\n",
       "      <td>2254</td>\n",
       "      <td>7661</td>\n",
       "      <td>9915</td>\n",
       "      <td>[34,114,64,79,185,62,98,25,115,78,120,178,118,...</td>\n",
       "      <td>2</td>\n",
       "      <td>False</td>\n",
       "    </tr>\n",
       "    <tr>\n",
       "      <th>3</th>\n",
       "      <td>2503</td>\n",
       "      <td>7521</td>\n",
       "      <td>10024</td>\n",
       "      <td>[146,114,64,79,185,76,52,199,3,98,120,178,118,...</td>\n",
       "      <td>4</td>\n",
       "      <td>False</td>\n",
       "    </tr>\n",
       "    <tr>\n",
       "      <th>4</th>\n",
       "      <td>2302</td>\n",
       "      <td>7632</td>\n",
       "      <td>9934</td>\n",
       "      <td>[146,114,64,79,185,54,25,61,52,115,120,178,118...</td>\n",
       "      <td>5</td>\n",
       "      <td>False</td>\n",
       "    </tr>\n",
       "  </tbody>\n",
       "</table>\n",
       "</div>"
      ],
      "text/plain": [
       "   utilA  utilB  utilSum                                           contract  \\\n",
       "0   2342   7558     9900  [146,114,64,79,185,54,52,25,98,3,120,178,118,4...   \n",
       "1   2337   7573     9910  [146,114,64,79,185,151,52,25,98,3,120,178,118,...   \n",
       "2   2254   7661     9915  [34,114,64,79,185,62,98,25,115,78,120,178,118,...   \n",
       "3   2503   7521    10024  [146,114,64,79,185,76,52,199,3,98,120,178,118,...   \n",
       "4   2302   7632     9934  [146,114,64,79,185,54,25,61,52,115,120,178,118...   \n",
       "\n",
       "   index  pareto  \n",
       "0      0   False  \n",
       "1      1   False  \n",
       "2      2   False  \n",
       "3      4   False  \n",
       "4      5   False  "
      ]
     },
     "execution_count": 94,
     "metadata": {},
     "output_type": "execute_result"
    }
   ],
   "source": [
    "# Read CSV\n",
    "contracts = pd.read_csv(SAVE_PATH+savefile, sep=';')\n",
    "contracts.drop_duplicates(inplace=True)\n",
    "print(contracts.shape)\n",
    "contracts.head()"
   ]
  },
  {
   "cell_type": "code",
   "execution_count": 95,
   "metadata": {},
   "outputs": [
    {
     "data": {
      "image/png": "[encoded data removed]",
      "text/plain": [
       "<Figure size 600x600 with 3 Axes>"
      ]
     },
     "metadata": {},
     "output_type": "display_data"
    }
   ],
   "source": [
    "if \"pareto\" in contracts.columns:\n",
    "    sns.jointplot(data=contracts, x=\"utilA\", y=\"utilB\", kind='scatter', hue=\"pareto\", marker=\"+\")\n",
    "    plt.scatter(contracts.loc[0,\"utilA\"], contracts.loc[0,\"utilB\"], color='red', marker=\"+\")\n",
    "else:\n",
    "    contracts[\"index\"] = contracts.index\n",
    "    sns.jointplot(data=contracts, x=\"utilA\", y=\"utilB\", kind='scatter', hue=\"index\", marker=\"+\")\n",
    "    plt.scatter(contracts.loc[0,\"utilA\"], contracts.loc[0,\"utilB\"], color='red')"
   ]
  },
  {
   "cell_type": "code",
   "execution_count": 96,
   "metadata": {},
   "outputs": [
    {
     "data": {
      "text/html": [
       "<div>\n",
       "<style scoped>\n",
       "    .dataframe tbody tr th:only-of-type {\n",
       "        vertical-align: middle;\n",
       "    }\n",
       "\n",
       "    .dataframe tbody tr th {\n",
       "        vertical-align: top;\n",
       "    }\n",
       "\n",
       "    .dataframe thead th {\n",
       "        text-align: right;\n",
       "    }\n",
       "</style>\n",
       "<table border=\"1\" class=\"dataframe\">\n",
       "  <thead>\n",
       "    <tr style=\"text-align: right;\">\n",
       "      <th></th>\n",
       "      <th>utilA</th>\n",
       "      <th>utilB</th>\n",
       "      <th>utilSum</th>\n",
       "      <th>contract</th>\n",
       "      <th>index</th>\n",
       "      <th>pareto</th>\n",
       "    </tr>\n",
       "  </thead>\n",
       "  <tbody>\n",
       "    <tr>\n",
       "      <th>0</th>\n",
       "      <td>2342</td>\n",
       "      <td>7558</td>\n",
       "      <td>9900</td>\n",
       "      <td>[146,114,64,79,185,54,52,25,98,3,120,178,118,4...</td>\n",
       "      <td>0</td>\n",
       "      <td>False</td>\n",
       "    </tr>\n",
       "    <tr>\n",
       "      <th>1</th>\n",
       "      <td>2337</td>\n",
       "      <td>7573</td>\n",
       "      <td>9910</td>\n",
       "      <td>[146,114,64,79,185,151,52,25,98,3,120,178,118,...</td>\n",
       "      <td>1</td>\n",
       "      <td>False</td>\n",
       "    </tr>\n",
       "    <tr>\n",
       "      <th>2</th>\n",
       "      <td>2254</td>\n",
       "      <td>7661</td>\n",
       "      <td>9915</td>\n",
       "      <td>[34,114,64,79,185,62,98,25,115,78,120,178,118,...</td>\n",
       "      <td>2</td>\n",
       "      <td>False</td>\n",
       "    </tr>\n",
       "    <tr>\n",
       "      <th>3</th>\n",
       "      <td>2503</td>\n",
       "      <td>7521</td>\n",
       "      <td>10024</td>\n",
       "      <td>[146,114,64,79,185,76,52,199,3,98,120,178,118,...</td>\n",
       "      <td>4</td>\n",
       "      <td>False</td>\n",
       "    </tr>\n",
       "    <tr>\n",
       "      <th>4</th>\n",
       "      <td>2302</td>\n",
       "      <td>7632</td>\n",
       "      <td>9934</td>\n",
       "      <td>[146,114,64,79,185,54,25,61,52,115,120,178,118...</td>\n",
       "      <td>5</td>\n",
       "      <td>False</td>\n",
       "    </tr>\n",
       "    <tr>\n",
       "      <th>...</th>\n",
       "      <td>...</td>\n",
       "      <td>...</td>\n",
       "      <td>...</td>\n",
       "      <td>...</td>\n",
       "      <td>...</td>\n",
       "      <td>...</td>\n",
       "    </tr>\n",
       "    <tr>\n",
       "      <th>9990</th>\n",
       "      <td>1820</td>\n",
       "      <td>7718</td>\n",
       "      <td>9538</td>\n",
       "      <td>[174,180,41,22,26,178,120,3,2,130,132,117,77,1...</td>\n",
       "      <td>9991</td>\n",
       "      <td>False</td>\n",
       "    </tr>\n",
       "    <tr>\n",
       "      <th>9991</th>\n",
       "      <td>1795</td>\n",
       "      <td>7765</td>\n",
       "      <td>9560</td>\n",
       "      <td>[174,180,12,22,26,178,120,3,2,130,132,117,77,1...</td>\n",
       "      <td>9992</td>\n",
       "      <td>True</td>\n",
       "    </tr>\n",
       "    <tr>\n",
       "      <th>9992</th>\n",
       "      <td>1783</td>\n",
       "      <td>7784</td>\n",
       "      <td>9567</td>\n",
       "      <td>[174,180,12,22,26,178,120,3,2,130,24,117,77,11...</td>\n",
       "      <td>9993</td>\n",
       "      <td>True</td>\n",
       "    </tr>\n",
       "    <tr>\n",
       "      <th>9993</th>\n",
       "      <td>1813</td>\n",
       "      <td>7716</td>\n",
       "      <td>9529</td>\n",
       "      <td>[50,180,12,22,26,178,120,3,2,130,24,117,77,112...</td>\n",
       "      <td>9994</td>\n",
       "      <td>False</td>\n",
       "    </tr>\n",
       "    <tr>\n",
       "      <th>9994</th>\n",
       "      <td>1813</td>\n",
       "      <td>7712</td>\n",
       "      <td>9525</td>\n",
       "      <td>[50,172,12,22,26,178,120,3,2,130,24,117,77,112...</td>\n",
       "      <td>9995</td>\n",
       "      <td>True</td>\n",
       "    </tr>\n",
       "  </tbody>\n",
       "</table>\n",
       "<p>9995 rows × 6 columns</p>\n",
       "</div>"
      ],
      "text/plain": [
       "      utilA  utilB  utilSum  \\\n",
       "0      2342   7558     9900   \n",
       "1      2337   7573     9910   \n",
       "2      2254   7661     9915   \n",
       "3      2503   7521    10024   \n",
       "4      2302   7632     9934   \n",
       "...     ...    ...      ...   \n",
       "9990   1820   7718     9538   \n",
       "9991   1795   7765     9560   \n",
       "9992   1783   7784     9567   \n",
       "9993   1813   7716     9529   \n",
       "9994   1813   7712     9525   \n",
       "\n",
       "                                               contract  index  pareto  \n",
       "0     [146,114,64,79,185,54,52,25,98,3,120,178,118,4...      0   False  \n",
       "1     [146,114,64,79,185,151,52,25,98,3,120,178,118,...      1   False  \n",
       "2     [34,114,64,79,185,62,98,25,115,78,120,178,118,...      2   False  \n",
       "3     [146,114,64,79,185,76,52,199,3,98,120,178,118,...      4   False  \n",
       "4     [146,114,64,79,185,54,25,61,52,115,120,178,118...      5   False  \n",
       "...                                                 ...    ...     ...  \n",
       "9990  [174,180,41,22,26,178,120,3,2,130,132,117,77,1...   9991   False  \n",
       "9991  [174,180,12,22,26,178,120,3,2,130,132,117,77,1...   9992    True  \n",
       "9992  [174,180,12,22,26,178,120,3,2,130,24,117,77,11...   9993    True  \n",
       "9993  [50,180,12,22,26,178,120,3,2,130,24,117,77,112...   9994   False  \n",
       "9994  [50,172,12,22,26,178,120,3,2,130,24,117,77,112...   9995    True  \n",
       "\n",
       "[9995 rows x 6 columns]"
      ]
     },
     "execution_count": 96,
     "metadata": {},
     "output_type": "execute_result"
    }
   ],
   "source": [
    "# Determine pareto-efficient contracts if necessary\n",
    "if \"pareto\" not in contracts.columns:\n",
    "    contracts[\"pareto\"] = get_pareto(contracts[[\"utilA\",\"utilB\"]])\n",
    "    contracts = contracts.drop_duplicates()\n",
    "    contracts.to_csv(SAVE_PATH+savefile, sep=';', index=False)\n",
    "contracts"
   ]
  }
 ],
 "metadata": {
  "kernelspec": {
   "display_name": "Python 3",
   "language": "python",
   "name": "python3"
  },
  "language_info": {
   "codemirror_mode": {
    "name": "ipython",
    "version": 3
   },
   "file_extension": ".py",
   "mimetype": "text/x-python",
   "name": "python",
   "nbconvert_exporter": "python",
   "pygments_lexer": "ipython3",
   "version": "3.12.0"
  }
 },
 "nbformat": 4,
 "nbformat_minor": 2
}
