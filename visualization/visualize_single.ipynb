{
 "cells": [
  {
   "cell_type": "markdown",
   "metadata": {},
   "source": [
    "### IMPORTS"
   ]
  },
  {
   "cell_type": "code",
   "execution_count": 95,
   "metadata": {},
   "outputs": [
    {
     "data": {
      "text/plain": [
       "'c:\\\\Users\\\\luisb\\\\AppData\\\\Local\\\\Programs\\\\Python\\\\Python312\\\\python.exe'"
      ]
     },
     "execution_count": 95,
     "metadata": {},
     "output_type": "execute_result"
    }
   ],
   "source": [
    "import sys\n",
    "import os\n",
    "sys.executable"
   ]
  },
  {
   "cell_type": "code",
   "execution_count": 96,
   "metadata": {},
   "outputs": [],
   "source": [
    "import pandas as pd\n",
    "import matplotlib.pyplot as plt\n",
    "import seaborn as sns\n",
    "import numpy as np"
   ]
  },
  {
   "cell_type": "code",
   "execution_count": 97,
   "metadata": {},
   "outputs": [],
   "source": [
    "SAVE_PATH = \"../saves/\""
   ]
  },
  {
   "cell_type": "code",
   "execution_count": 98,
   "metadata": {},
   "outputs": [],
   "source": [
    "def get_pareto_old(arr):\n",
    "    # Convert the array to a numpy array\n",
    "    arr_np = np.array(arr)\n",
    "\n",
    "    # Initialize a boolean mask to keep track of pareto-efficient elements\n",
    "    is_pareto_efficient = np.ones(arr_np.shape[0], dtype=bool)\n",
    "\n",
    "    for i in range(arr_np.shape[0]):\n",
    "        if is_pareto_efficient[i]:\n",
    "            for j in range(arr_np.shape[0]):\n",
    "                if j != i and is_pareto_efficient[j]:\n",
    "                    # Check if arr[i] dominates arr[j] in all dimensions\n",
    "                    if np.all(arr_np[i] <= arr_np[j]) and np.any(arr_np[i] < arr_np[j]):\n",
    "                        is_pareto_efficient[j] = False\n",
    "\n",
    "    # Return the pareto-efficient elements\n",
    "    return is_pareto_efficient\n",
    "    "
   ]
  },
  {
   "cell_type": "code",
   "execution_count": 99,
   "metadata": {},
   "outputs": [],
   "source": [
    "def get_pareto(arr):\n",
    "    # Convert the array to a numpy array\n",
    "    arr_np = np.array(arr)\n",
    "\n",
    "    # Initialize a boolean mask to keep track of pareto-efficient elements\n",
    "    is_pareto_efficient = np.ones(arr_np.shape[0], dtype=bool)\n",
    "\n",
    "    for i in range(arr_np.shape[0]):\n",
    "        if is_pareto_efficient[i]:\n",
    "            # Compare the current element with all other elements using broadcasting\n",
    "            is_dominated = np.all(arr_np[i] <= arr_np, axis=1) & np.any(arr_np[i] < arr_np, axis=1)\n",
    "            # Update the mask to mark dominated elements as False\n",
    "            is_pareto_efficient[is_dominated] = False\n",
    "\n",
    "    # Return the pareto-efficient elements\n",
    "    return is_pareto_efficient"
   ]
  },
  {
   "cell_type": "markdown",
   "metadata": {},
   "source": [
    "### Visualization"
   ]
  },
  {
   "cell_type": "code",
   "execution_count": 100,
   "metadata": {},
   "outputs": [
    {
     "name": "stdout",
     "output_type": "stream",
     "text": [
      "['pareto.csv', 'saves_1710502540563.csv', 'saves_1710502616293.csv', 'saves_1710502702203.csv', 'saves_1710502795933.csv', 'saves_1710513923401.csv', 'saves_1710514182799.csv', 'saves_1710514219897.csv', 'saves_1710514418808.csv', 'saves_1710514601277.csv', 'saves_1710514689193.csv', 'saves_1710514832352.csv', 'saves_1710515003559.csv', 'saves_1710515295123.csv', 'saves_1710515637176.csv', 'saves_1710519955596.csv']\n"
     ]
    },
    {
     "data": {
      "text/plain": [
       "'Visualizing data from: saves_1710519955596.csv'"
      ]
     },
     "execution_count": 100,
     "metadata": {},
     "output_type": "execute_result"
    }
   ],
   "source": [
    "print(os.listdir(SAVE_PATH))\n",
    "savefile = os.listdir(SAVE_PATH)[-1]\n",
    "\"Visualizing data from: \" + savefile"
   ]
  },
  {
   "cell_type": "code",
   "execution_count": 101,
   "metadata": {},
   "outputs": [
    {
     "name": "stdout",
     "output_type": "stream",
     "text": [
      "(2213, 5)\n"
     ]
    },
    {
     "data": {
      "text/html": [
       "<div>\n",
       "<style scoped>\n",
       "    .dataframe tbody tr th:only-of-type {\n",
       "        vertical-align: middle;\n",
       "    }\n",
       "\n",
       "    .dataframe tbody tr th {\n",
       "        vertical-align: top;\n",
       "    }\n",
       "\n",
       "    .dataframe thead th {\n",
       "        text-align: right;\n",
       "    }\n",
       "</style>\n",
       "<table border=\"1\" class=\"dataframe\">\n",
       "  <thead>\n",
       "    <tr style=\"text-align: right;\">\n",
       "      <th></th>\n",
       "      <th>utilA</th>\n",
       "      <th>utilB</th>\n",
       "      <th>utilSum</th>\n",
       "      <th>contract</th>\n",
       "      <th>pareto</th>\n",
       "    </tr>\n",
       "  </thead>\n",
       "  <tbody>\n",
       "    <tr>\n",
       "      <th>0</th>\n",
       "      <td>3808</td>\n",
       "      <td>6582</td>\n",
       "      <td>10390</td>\n",
       "      <td>[198,29,90,41,187,79,179,47,26,161,115,152,131...</td>\n",
       "      <td>False</td>\n",
       "    </tr>\n",
       "    <tr>\n",
       "      <th>1</th>\n",
       "      <td>3933</td>\n",
       "      <td>6553</td>\n",
       "      <td>10486</td>\n",
       "      <td>[198,29,90,41,58,79,179,47,26,161,115,152,131,...</td>\n",
       "      <td>False</td>\n",
       "    </tr>\n",
       "    <tr>\n",
       "      <th>2</th>\n",
       "      <td>3880</td>\n",
       "      <td>6565</td>\n",
       "      <td>10445</td>\n",
       "      <td>[198,29,90,41,58,79,179,47,26,161,115,152,131,...</td>\n",
       "      <td>False</td>\n",
       "    </tr>\n",
       "    <tr>\n",
       "      <th>3</th>\n",
       "      <td>3891</td>\n",
       "      <td>6561</td>\n",
       "      <td>10452</td>\n",
       "      <td>[198,29,90,41,58,79,179,47,26,161,115,152,131,...</td>\n",
       "      <td>False</td>\n",
       "    </tr>\n",
       "    <tr>\n",
       "      <th>4</th>\n",
       "      <td>3947</td>\n",
       "      <td>6543</td>\n",
       "      <td>10490</td>\n",
       "      <td>[198,29,90,41,187,179,96,47,26,161,115,152,131...</td>\n",
       "      <td>False</td>\n",
       "    </tr>\n",
       "  </tbody>\n",
       "</table>\n",
       "</div>"
      ],
      "text/plain": [
       "   utilA  utilB  utilSum                                           contract  \\\n",
       "0   3808   6582    10390  [198,29,90,41,187,79,179,47,26,161,115,152,131...   \n",
       "1   3933   6553    10486  [198,29,90,41,58,79,179,47,26,161,115,152,131,...   \n",
       "2   3880   6565    10445  [198,29,90,41,58,79,179,47,26,161,115,152,131,...   \n",
       "3   3891   6561    10452  [198,29,90,41,58,79,179,47,26,161,115,152,131,...   \n",
       "4   3947   6543    10490  [198,29,90,41,187,179,96,47,26,161,115,152,131...   \n",
       "\n",
       "  pareto  \n",
       "0  False  \n",
       "1  False  \n",
       "2  False  \n",
       "3  False  \n",
       "4  False  "
      ]
     },
     "execution_count": 101,
     "metadata": {},
     "output_type": "execute_result"
    }
   ],
   "source": [
    "# Read CSV\n",
    "contracts = pd.read_csv(SAVE_PATH+savefile, sep=';')\n",
    "contracts.drop_duplicates(inplace=True)\n",
    "print(contracts.shape)\n",
    "contracts.head()"
   ]
  },
  {
   "cell_type": "code",
   "execution_count": 104,
   "metadata": {},
   "outputs": [
    {
     "data": {
      "text/html": [
       "<div>\n",
       "<style scoped>\n",
       "    .dataframe tbody tr th:only-of-type {\n",
       "        vertical-align: middle;\n",
       "    }\n",
       "\n",
       "    .dataframe tbody tr th {\n",
       "        vertical-align: top;\n",
       "    }\n",
       "\n",
       "    .dataframe thead th {\n",
       "        text-align: right;\n",
       "    }\n",
       "</style>\n",
       "<table border=\"1\" class=\"dataframe\">\n",
       "  <thead>\n",
       "    <tr style=\"text-align: right;\">\n",
       "      <th></th>\n",
       "      <th>utilA</th>\n",
       "      <th>utilB</th>\n",
       "      <th>utilSum</th>\n",
       "      <th>contract</th>\n",
       "      <th>pareto</th>\n",
       "    </tr>\n",
       "  </thead>\n",
       "  <tbody>\n",
       "    <tr>\n",
       "      <th>2212</th>\n",
       "      <td>1568</td>\n",
       "      <td>7426</td>\n",
       "      <td>8994</td>\n",
       "      <td>[34,4,129,70,19,87,121,178,127,132,130,84,77,1...</td>\n",
       "      <td>NaN</td>\n",
       "    </tr>\n",
       "    <tr>\n",
       "      <th>2211</th>\n",
       "      <td>1919</td>\n",
       "      <td>7231</td>\n",
       "      <td>9150</td>\n",
       "      <td>[34,4,109,70,19,87,121,178,127,132,130,84,77,1...</td>\n",
       "      <td>NaN</td>\n",
       "    </tr>\n",
       "    <tr>\n",
       "      <th>2210</th>\n",
       "      <td>1852</td>\n",
       "      <td>7248</td>\n",
       "      <td>9100</td>\n",
       "      <td>[34,4,109,70,19,87,121,178,127,132,130,84,77,1...</td>\n",
       "      <td>NaN</td>\n",
       "    </tr>\n",
       "    <tr>\n",
       "      <th>2209</th>\n",
       "      <td>1869</td>\n",
       "      <td>7243</td>\n",
       "      <td>9112</td>\n",
       "      <td>[34,4,109,70,19,87,121,178,127,132,130,84,77,1...</td>\n",
       "      <td>NaN</td>\n",
       "    </tr>\n",
       "    <tr>\n",
       "      <th>2208</th>\n",
       "      <td>1924</td>\n",
       "      <td>7228</td>\n",
       "      <td>9152</td>\n",
       "      <td>[34,4,109,70,19,87,121,178,127,132,130,84,77,1...</td>\n",
       "      <td>NaN</td>\n",
       "    </tr>\n",
       "  </tbody>\n",
       "</table>\n",
       "</div>"
      ],
      "text/plain": [
       "      utilA  utilB  utilSum  \\\n",
       "2212   1568   7426     8994   \n",
       "2211   1919   7231     9150   \n",
       "2210   1852   7248     9100   \n",
       "2209   1869   7243     9112   \n",
       "2208   1924   7228     9152   \n",
       "\n",
       "                                               contract pareto  \n",
       "2212  [34,4,129,70,19,87,121,178,127,132,130,84,77,1...    NaN  \n",
       "2211  [34,4,109,70,19,87,121,178,127,132,130,84,77,1...    NaN  \n",
       "2210  [34,4,109,70,19,87,121,178,127,132,130,84,77,1...    NaN  \n",
       "2209  [34,4,109,70,19,87,121,178,127,132,130,84,77,1...    NaN  \n",
       "2208  [34,4,109,70,19,87,121,178,127,132,130,84,77,1...    NaN  "
      ]
     },
     "execution_count": 104,
     "metadata": {},
     "output_type": "execute_result"
    }
   ],
   "source": [
    "contracts[::-1]"
   ]
  },
  {
   "cell_type": "code",
   "execution_count": 111,
   "metadata": {},
   "outputs": [
    {
     "data": {
      "image/png": "[encoded data removed]",
      "text/plain": [
       "<Figure size 600x600 with 3 Axes>"
      ]
     },
     "metadata": {},
     "output_type": "display_data"
    }
   ],
   "source": [
    "if \"pareto\" in contracts.columns and np.all(~contracts[\"pareto\"].isna()):\n",
    "    sns.jointplot(data=contracts, x=\"utilA\", y=\"utilB\", kind='scatter', hue=\"pareto\", marker=\"+\")\n",
    "    plt.scatter(contracts.loc[0,\"utilA\"], contracts.loc[0,\"utilB\"], color='red', marker=\"+\")\n",
    "else:\n",
    "    sns.jointplot(data=contracts, x=\"utilA\", y=\"utilB\", kind='scatter', hue=contracts.index, marker=\"+\")\n",
    "    plt.scatter(contracts.loc[0,\"utilA\"], contracts.loc[0,\"utilB\"], color='red')"
   ]
  },
  {
   "cell_type": "code",
   "execution_count": 110,
   "metadata": {},
   "outputs": [
    {
     "name": "stdout",
     "output_type": "stream",
     "text": [
      "calculating pareto-efficient contracts\n"
     ]
    },
    {
     "data": {
      "text/html": [
       "<div>\n",
       "<style scoped>\n",
       "    .dataframe tbody tr th:only-of-type {\n",
       "        vertical-align: middle;\n",
       "    }\n",
       "\n",
       "    .dataframe tbody tr th {\n",
       "        vertical-align: top;\n",
       "    }\n",
       "\n",
       "    .dataframe thead th {\n",
       "        text-align: right;\n",
       "    }\n",
       "</style>\n",
       "<table border=\"1\" class=\"dataframe\">\n",
       "  <thead>\n",
       "    <tr style=\"text-align: right;\">\n",
       "      <th></th>\n",
       "      <th>utilA</th>\n",
       "      <th>utilB</th>\n",
       "      <th>utilSum</th>\n",
       "      <th>contract</th>\n",
       "      <th>pareto</th>\n",
       "    </tr>\n",
       "  </thead>\n",
       "  <tbody>\n",
       "    <tr>\n",
       "      <th>0</th>\n",
       "      <td>3808</td>\n",
       "      <td>6582</td>\n",
       "      <td>10390</td>\n",
       "      <td>[198,29,90,41,187,79,179,47,26,161,115,152,131...</td>\n",
       "      <td>False</td>\n",
       "    </tr>\n",
       "    <tr>\n",
       "      <th>1</th>\n",
       "      <td>3933</td>\n",
       "      <td>6553</td>\n",
       "      <td>10486</td>\n",
       "      <td>[198,29,90,41,58,79,179,47,26,161,115,152,131,...</td>\n",
       "      <td>False</td>\n",
       "    </tr>\n",
       "    <tr>\n",
       "      <th>2</th>\n",
       "      <td>3880</td>\n",
       "      <td>6565</td>\n",
       "      <td>10445</td>\n",
       "      <td>[198,29,90,41,58,79,179,47,26,161,115,152,131,...</td>\n",
       "      <td>False</td>\n",
       "    </tr>\n",
       "    <tr>\n",
       "      <th>3</th>\n",
       "      <td>3891</td>\n",
       "      <td>6561</td>\n",
       "      <td>10452</td>\n",
       "      <td>[198,29,90,41,58,79,179,47,26,161,115,152,131,...</td>\n",
       "      <td>False</td>\n",
       "    </tr>\n",
       "    <tr>\n",
       "      <th>4</th>\n",
       "      <td>3947</td>\n",
       "      <td>6543</td>\n",
       "      <td>10490</td>\n",
       "      <td>[198,29,90,41,187,179,96,47,26,161,115,152,131...</td>\n",
       "      <td>False</td>\n",
       "    </tr>\n",
       "    <tr>\n",
       "      <th>...</th>\n",
       "      <td>...</td>\n",
       "      <td>...</td>\n",
       "      <td>...</td>\n",
       "      <td>...</td>\n",
       "      <td>...</td>\n",
       "    </tr>\n",
       "    <tr>\n",
       "      <th>2208</th>\n",
       "      <td>1924</td>\n",
       "      <td>7228</td>\n",
       "      <td>9152</td>\n",
       "      <td>[34,4,109,70,19,87,121,178,127,132,130,84,77,1...</td>\n",
       "      <td>True</td>\n",
       "    </tr>\n",
       "    <tr>\n",
       "      <th>2209</th>\n",
       "      <td>1869</td>\n",
       "      <td>7243</td>\n",
       "      <td>9112</td>\n",
       "      <td>[34,4,109,70,19,87,121,178,127,132,130,84,77,1...</td>\n",
       "      <td>True</td>\n",
       "    </tr>\n",
       "    <tr>\n",
       "      <th>2210</th>\n",
       "      <td>1852</td>\n",
       "      <td>7248</td>\n",
       "      <td>9100</td>\n",
       "      <td>[34,4,109,70,19,87,121,178,127,132,130,84,77,1...</td>\n",
       "      <td>True</td>\n",
       "    </tr>\n",
       "    <tr>\n",
       "      <th>2211</th>\n",
       "      <td>1919</td>\n",
       "      <td>7231</td>\n",
       "      <td>9150</td>\n",
       "      <td>[34,4,109,70,19,87,121,178,127,132,130,84,77,1...</td>\n",
       "      <td>True</td>\n",
       "    </tr>\n",
       "    <tr>\n",
       "      <th>2212</th>\n",
       "      <td>1568</td>\n",
       "      <td>7426</td>\n",
       "      <td>8994</td>\n",
       "      <td>[34,4,129,70,19,87,121,178,127,132,130,84,77,1...</td>\n",
       "      <td>True</td>\n",
       "    </tr>\n",
       "  </tbody>\n",
       "</table>\n",
       "<p>2213 rows × 5 columns</p>\n",
       "</div>"
      ],
      "text/plain": [
       "      utilA  utilB  utilSum  \\\n",
       "0      3808   6582    10390   \n",
       "1      3933   6553    10486   \n",
       "2      3880   6565    10445   \n",
       "3      3891   6561    10452   \n",
       "4      3947   6543    10490   \n",
       "...     ...    ...      ...   \n",
       "2208   1924   7228     9152   \n",
       "2209   1869   7243     9112   \n",
       "2210   1852   7248     9100   \n",
       "2211   1919   7231     9150   \n",
       "2212   1568   7426     8994   \n",
       "\n",
       "                                               contract  pareto  \n",
       "0     [198,29,90,41,187,79,179,47,26,161,115,152,131...   False  \n",
       "1     [198,29,90,41,58,79,179,47,26,161,115,152,131,...   False  \n",
       "2     [198,29,90,41,58,79,179,47,26,161,115,152,131,...   False  \n",
       "3     [198,29,90,41,58,79,179,47,26,161,115,152,131,...   False  \n",
       "4     [198,29,90,41,187,179,96,47,26,161,115,152,131...   False  \n",
       "...                                                 ...     ...  \n",
       "2208  [34,4,109,70,19,87,121,178,127,132,130,84,77,1...    True  \n",
       "2209  [34,4,109,70,19,87,121,178,127,132,130,84,77,1...    True  \n",
       "2210  [34,4,109,70,19,87,121,178,127,132,130,84,77,1...    True  \n",
       "2211  [34,4,109,70,19,87,121,178,127,132,130,84,77,1...    True  \n",
       "2212  [34,4,129,70,19,87,121,178,127,132,130,84,77,1...    True  \n",
       "\n",
       "[2213 rows x 5 columns]"
      ]
     },
     "execution_count": 110,
     "metadata": {},
     "output_type": "execute_result"
    }
   ],
   "source": [
    "# Determine pareto-efficient contracts if necessary\n",
    "if \"pareto\" not in contracts.columns or np.any(contracts[\"pareto\"].isna()):\n",
    "    contracts[\"pareto\"] = get_pareto(contracts[[\"utilA\",\"utilB\"]])\n",
    "    contracts = contracts.drop_duplicates()\n",
    "    contracts.to_csv(SAVE_PATH+savefile, sep=';', index=False)\n",
    "contracts"
   ]
  }
 ],
 "metadata": {
  "kernelspec": {
   "display_name": "Python 3",
   "language": "python",
   "name": "python3"
  },
  "language_info": {
   "codemirror_mode": {
    "name": "ipython",
    "version": 3
   },
   "file_extension": ".py",
   "mimetype": "text/x-python",
   "name": "python",
   "nbconvert_exporter": "python",
   "pygments_lexer": "ipython3",
   "version": "3.12.0"
  }
 },
 "nbformat": 4,
 "nbformat_minor": 2
}
