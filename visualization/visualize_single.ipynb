{
 "cells": [
  {
   "cell_type": "markdown",
   "metadata": {},
   "source": [
    "### IMPORTS"
   ]
  },
  {
   "cell_type": "code",
   "execution_count": 41,
   "metadata": {},
   "outputs": [
    {
     "data": {
      "text/plain": [
       "'c:\\\\Users\\\\luisb\\\\AppData\\\\Local\\\\Programs\\\\Python\\\\Python312\\\\python.exe'"
      ]
     },
     "execution_count": 41,
     "metadata": {},
     "output_type": "execute_result"
    }
   ],
   "source": [
    "import sys\n",
    "import os\n",
    "sys.executable"
   ]
  },
  {
   "cell_type": "code",
   "execution_count": 42,
   "metadata": {},
   "outputs": [],
   "source": [
    "import pandas as pd\n",
    "import matplotlib.pyplot as plt\n",
    "import seaborn as sns\n",
    "import numpy as np"
   ]
  },
  {
   "cell_type": "code",
   "execution_count": 43,
   "metadata": {},
   "outputs": [],
   "source": [
    "SAVE_PATH = \"../saves/\""
   ]
  },
  {
   "cell_type": "code",
   "execution_count": 44,
   "metadata": {},
   "outputs": [],
   "source": [
    "def get_pareto(arr):\n",
    "    # Convert the array to a numpy array\n",
    "    arr_np = np.array(arr)\n",
    "\n",
    "    # Initialize a boolean mask to keep track of pareto-efficient elements\n",
    "    is_pareto_efficient = np.ones(arr_np.shape[0], dtype=bool)\n",
    "\n",
    "    for i in range(arr_np.shape[0]):\n",
    "        if is_pareto_efficient[i]:\n",
    "            for j in range(arr_np.shape[0]):\n",
    "                if j != i and is_pareto_efficient[j]:\n",
    "                    # Check if arr[i] dominates arr[j] in all dimensions\n",
    "                    if np.all(arr_np[i] <= arr_np[j]) and np.any(arr_np[i] < arr_np[j]):\n",
    "                        is_pareto_efficient[j] = False\n",
    "\n",
    "    # Return the pareto-efficient elements\n",
    "    return is_pareto_efficient\n",
    "    "
   ]
  },
  {
   "cell_type": "markdown",
   "metadata": {},
   "source": [
    "### Visualization"
   ]
  },
  {
   "cell_type": "code",
   "execution_count": 45,
   "metadata": {},
   "outputs": [
    {
     "name": "stdout",
     "output_type": "stream",
     "text": [
      "['pareto.csv', 'saves_1710424156961.csv', 'saves_1710424454746.csv', 'saves_1710424515049.csv', 'saves_1710424637019.csv', 'saves_1710424916129.csv', 'saves_1710429089587.csv', 'saves_1710429514728.csv', 'saves_1710429727788.csv', 'saves_1710429865873.csv', 'saves_1710429985239.csv', 'saves_1710430130919.csv', 'saves_1710430150347.csv', 'saves_1710430307672.csv', 'saves_1710430871920.csv', 'saves_1710431208782.csv', 'saves_1710433005888.csv', 'saves_1710433038829.csv', 'saves_1710433067539.csv', 'saves_1710433104086.csv', 'saves_1710433145786.csv', 'saves_1710433231572.csv', 'saves_1710433284422.csv', 'saves_1710433317750.csv', 'saves_1710433333342.csv', 'saves_1710433396034.csv', 'saves_1710433430620.csv', 'saves_1710433540895.csv', 'saves_1710433601737.csv', 'saves_1710433642142.csv', 'saves_1710433666142.csv', 'saves_1710433698580.csv', 'saves_1710433876094.csv', 'saves_1710436421269.csv', 'saves_1710436501194.csv', 'saves_1710437276237.csv', 'saves_1710437338617.csv', 'saves_1710438201420.csv', 'saves_1710438247972.csv', 'saves_1710438662400.csv', 'saves_1710458484854.csv', 'saves_1710460159779.csv', 'saves_1710460431557.csv', 'saves_1710460489035.csv', 'saves_1710460527350.csv', 'saves_1710460797202.csv', 'saves_1710461106074.csv', 'saves_1710461235633.csv', 'saves_1710461445303.csv', 'saves_1710461573699.csv', 'saves_1710461636197.csv', 'saves_1710461668696.csv', 'saves_1710461805766.csv', 'saves_1710461846417.csv', 'saves_1710462184669.csv', 'saves_1710462214916.csv', 'saves_1710462268702.csv', 'saves_1710462308549.csv', 'saves_1710462377849.csv', 'saves_1710462417953.csv', 'saves_1710462449787.csv', 'saves_1710462459892.csv', 'saves_1710462483574.csv', 'saves_1710462501309.csv', 'saves_1710462510060.csv', 'saves_1710462527831.csv', 'saves_1710462646286.csv', 'saves_1710462741715.csv', 'saves_1710499380855.csv', 'saves_1710499554311.csv', 'saves_1710499664888.csv', 'saves_1710499847598.csv', 'saves_1710500191506.csv', 'saves_1710500235532.csv', 'saves_1710500282523.csv', 'saves_1710500923955.csv', 'saves_1710501021699.csv', 'saves_1710501047071.csv']\n"
     ]
    },
    {
     "data": {
      "text/plain": [
       "'Visualizing data from: saves_1710501047071.csv'"
      ]
     },
     "execution_count": 45,
     "metadata": {},
     "output_type": "execute_result"
    }
   ],
   "source": [
    "print(os.listdir(SAVE_PATH))\n",
    "savefile = os.listdir(SAVE_PATH)[-1]\n",
    "\"Visualizing data from: \" + savefile"
   ]
  },
  {
   "cell_type": "code",
   "execution_count": 46,
   "metadata": {},
   "outputs": [
    {
     "name": "stdout",
     "output_type": "stream",
     "text": [
      "(372, 5)\n"
     ]
    },
    {
     "data": {
      "text/html": [
       "<div>\n",
       "<style scoped>\n",
       "    .dataframe tbody tr th:only-of-type {\n",
       "        vertical-align: middle;\n",
       "    }\n",
       "\n",
       "    .dataframe tbody tr th {\n",
       "        vertical-align: top;\n",
       "    }\n",
       "\n",
       "    .dataframe thead th {\n",
       "        text-align: right;\n",
       "    }\n",
       "</style>\n",
       "<table border=\"1\" class=\"dataframe\">\n",
       "  <thead>\n",
       "    <tr style=\"text-align: right;\">\n",
       "      <th></th>\n",
       "      <th>utilA</th>\n",
       "      <th>utilB</th>\n",
       "      <th>utilSum</th>\n",
       "      <th>contract</th>\n",
       "      <th>pareto</th>\n",
       "    </tr>\n",
       "  </thead>\n",
       "  <tbody>\n",
       "    <tr>\n",
       "      <th>0</th>\n",
       "      <td>2073</td>\n",
       "      <td>8137</td>\n",
       "      <td>10210</td>\n",
       "      <td>[174,67,25,48,10,176,83,129,8,84,122,73,74,108...</td>\n",
       "      <td>False</td>\n",
       "    </tr>\n",
       "    <tr>\n",
       "      <th>1</th>\n",
       "      <td>2045</td>\n",
       "      <td>8196</td>\n",
       "      <td>10241</td>\n",
       "      <td>[174,113,25,48,10,176,83,129,8,84,122,73,74,10...</td>\n",
       "      <td>False</td>\n",
       "    </tr>\n",
       "    <tr>\n",
       "      <th>2</th>\n",
       "      <td>2051</td>\n",
       "      <td>8167</td>\n",
       "      <td>10218</td>\n",
       "      <td>[49,67,25,48,10,176,83,129,8,84,122,73,74,108,...</td>\n",
       "      <td>True</td>\n",
       "    </tr>\n",
       "    <tr>\n",
       "      <th>3</th>\n",
       "      <td>2072</td>\n",
       "      <td>8149</td>\n",
       "      <td>10221</td>\n",
       "      <td>[174,67,25,48,10,176,83,129,8,84,122,135,74,10...</td>\n",
       "      <td>False</td>\n",
       "    </tr>\n",
       "    <tr>\n",
       "      <th>4</th>\n",
       "      <td>2200</td>\n",
       "      <td>8087</td>\n",
       "      <td>10287</td>\n",
       "      <td>[174,67,25,48,10,176,83,129,8,84,122,73,74,108...</td>\n",
       "      <td>True</td>\n",
       "    </tr>\n",
       "  </tbody>\n",
       "</table>\n",
       "</div>"
      ],
      "text/plain": [
       "   utilA  utilB  utilSum                                           contract  \\\n",
       "0   2073   8137    10210  [174,67,25,48,10,176,83,129,8,84,122,73,74,108...   \n",
       "1   2045   8196    10241  [174,113,25,48,10,176,83,129,8,84,122,73,74,10...   \n",
       "2   2051   8167    10218  [49,67,25,48,10,176,83,129,8,84,122,73,74,108,...   \n",
       "3   2072   8149    10221  [174,67,25,48,10,176,83,129,8,84,122,135,74,10...   \n",
       "4   2200   8087    10287  [174,67,25,48,10,176,83,129,8,84,122,73,74,108...   \n",
       "\n",
       "   pareto  \n",
       "0   False  \n",
       "1   False  \n",
       "2    True  \n",
       "3   False  \n",
       "4    True  "
      ]
     },
     "execution_count": 46,
     "metadata": {},
     "output_type": "execute_result"
    }
   ],
   "source": [
    "# Read CSV\n",
    "contracts = pd.read_csv(SAVE_PATH+savefile, sep=';')\n",
    "contracts.drop_duplicates(inplace=True)\n",
    "print(contracts.shape)\n",
    "contracts.head()"
   ]
  },
  {
   "cell_type": "code",
   "execution_count": 47,
   "metadata": {},
   "outputs": [
    {
     "data": {
      "image/png": "[encoded data removed]",
      "text/plain": [
       "<Figure size 600x600 with 3 Axes>"
      ]
     },
     "metadata": {},
     "output_type": "display_data"
    }
   ],
   "source": [
    "if \"pareto\" in contracts.columns:\n",
    "    sns.jointplot(data=contracts, x=\"utilA\", y=\"utilB\", kind='scatter', hue=\"pareto\", marker=\"+\")\n",
    "    plt.scatter(contracts.loc[0,\"utilA\"], contracts.loc[0,\"utilB\"], color='red', marker=\"+\")\n",
    "else:\n",
    "    sns.jointplot(data=contracts, x=\"utilA\", y=\"utilB\", kind='scatter', marker=\"+\")\n",
    "    plt.scatter(contracts.loc[0,\"utilA\"], contracts.loc[0,\"utilB\"], color='red')"
   ]
  },
  {
   "cell_type": "code",
   "execution_count": 48,
   "metadata": {},
   "outputs": [
    {
     "data": {
      "text/html": [
       "<div>\n",
       "<style scoped>\n",
       "    .dataframe tbody tr th:only-of-type {\n",
       "        vertical-align: middle;\n",
       "    }\n",
       "\n",
       "    .dataframe tbody tr th {\n",
       "        vertical-align: top;\n",
       "    }\n",
       "\n",
       "    .dataframe thead th {\n",
       "        text-align: right;\n",
       "    }\n",
       "</style>\n",
       "<table border=\"1\" class=\"dataframe\">\n",
       "  <thead>\n",
       "    <tr style=\"text-align: right;\">\n",
       "      <th></th>\n",
       "      <th>utilA</th>\n",
       "      <th>utilB</th>\n",
       "      <th>utilSum</th>\n",
       "      <th>contract</th>\n",
       "      <th>pareto</th>\n",
       "    </tr>\n",
       "  </thead>\n",
       "  <tbody>\n",
       "    <tr>\n",
       "      <th>0</th>\n",
       "      <td>2073</td>\n",
       "      <td>8137</td>\n",
       "      <td>10210</td>\n",
       "      <td>[174,67,25,48,10,176,83,129,8,84,122,73,74,108...</td>\n",
       "      <td>False</td>\n",
       "    </tr>\n",
       "    <tr>\n",
       "      <th>1</th>\n",
       "      <td>2045</td>\n",
       "      <td>8196</td>\n",
       "      <td>10241</td>\n",
       "      <td>[174,113,25,48,10,176,83,129,8,84,122,73,74,10...</td>\n",
       "      <td>False</td>\n",
       "    </tr>\n",
       "    <tr>\n",
       "      <th>2</th>\n",
       "      <td>2051</td>\n",
       "      <td>8167</td>\n",
       "      <td>10218</td>\n",
       "      <td>[49,67,25,48,10,176,83,129,8,84,122,73,74,108,...</td>\n",
       "      <td>True</td>\n",
       "    </tr>\n",
       "    <tr>\n",
       "      <th>3</th>\n",
       "      <td>2072</td>\n",
       "      <td>8149</td>\n",
       "      <td>10221</td>\n",
       "      <td>[174,67,25,48,10,176,83,129,8,84,122,135,74,10...</td>\n",
       "      <td>False</td>\n",
       "    </tr>\n",
       "    <tr>\n",
       "      <th>4</th>\n",
       "      <td>2200</td>\n",
       "      <td>8087</td>\n",
       "      <td>10287</td>\n",
       "      <td>[174,67,25,48,10,176,83,129,8,84,122,73,74,108...</td>\n",
       "      <td>True</td>\n",
       "    </tr>\n",
       "    <tr>\n",
       "      <th>...</th>\n",
       "      <td>...</td>\n",
       "      <td>...</td>\n",
       "      <td>...</td>\n",
       "      <td>...</td>\n",
       "      <td>...</td>\n",
       "    </tr>\n",
       "    <tr>\n",
       "      <th>367</th>\n",
       "      <td>2796</td>\n",
       "      <td>7989</td>\n",
       "      <td>10785</td>\n",
       "      <td>[143,67,38,150,10,176,83,129,8,69,73,74,20,56,...</td>\n",
       "      <td>True</td>\n",
       "    </tr>\n",
       "    <tr>\n",
       "      <th>368</th>\n",
       "      <td>8778</td>\n",
       "      <td>6749</td>\n",
       "      <td>15527</td>\n",
       "      <td>[10,38,170,6,149,18,171,57,37,130,163,122,12,1...</td>\n",
       "      <td>False</td>\n",
       "    </tr>\n",
       "    <tr>\n",
       "      <th>369</th>\n",
       "      <td>8782</td>\n",
       "      <td>6740</td>\n",
       "      <td>15522</td>\n",
       "      <td>[6,38,10,170,149,18,171,57,37,130,163,122,12,1...</td>\n",
       "      <td>False</td>\n",
       "    </tr>\n",
       "    <tr>\n",
       "      <th>370</th>\n",
       "      <td>2781</td>\n",
       "      <td>7990</td>\n",
       "      <td>10771</td>\n",
       "      <td>[92,67,38,150,10,176,83,129,8,69,73,74,20,56,2...</td>\n",
       "      <td>True</td>\n",
       "    </tr>\n",
       "    <tr>\n",
       "      <th>371</th>\n",
       "      <td>8719</td>\n",
       "      <td>6729</td>\n",
       "      <td>15448</td>\n",
       "      <td>[37,38,170,6,149,18,171,57,10,130,163,122,12,1...</td>\n",
       "      <td>True</td>\n",
       "    </tr>\n",
       "  </tbody>\n",
       "</table>\n",
       "<p>372 rows × 5 columns</p>\n",
       "</div>"
      ],
      "text/plain": [
       "     utilA  utilB  utilSum                                           contract  \\\n",
       "0     2073   8137    10210  [174,67,25,48,10,176,83,129,8,84,122,73,74,108...   \n",
       "1     2045   8196    10241  [174,113,25,48,10,176,83,129,8,84,122,73,74,10...   \n",
       "2     2051   8167    10218  [49,67,25,48,10,176,83,129,8,84,122,73,74,108,...   \n",
       "3     2072   8149    10221  [174,67,25,48,10,176,83,129,8,84,122,135,74,10...   \n",
       "4     2200   8087    10287  [174,67,25,48,10,176,83,129,8,84,122,73,74,108...   \n",
       "..     ...    ...      ...                                                ...   \n",
       "367   2796   7989    10785  [143,67,38,150,10,176,83,129,8,69,73,74,20,56,...   \n",
       "368   8778   6749    15527  [10,38,170,6,149,18,171,57,37,130,163,122,12,1...   \n",
       "369   8782   6740    15522  [6,38,10,170,149,18,171,57,37,130,163,122,12,1...   \n",
       "370   2781   7990    10771  [92,67,38,150,10,176,83,129,8,69,73,74,20,56,2...   \n",
       "371   8719   6729    15448  [37,38,170,6,149,18,171,57,10,130,163,122,12,1...   \n",
       "\n",
       "     pareto  \n",
       "0     False  \n",
       "1     False  \n",
       "2      True  \n",
       "3     False  \n",
       "4      True  \n",
       "..      ...  \n",
       "367    True  \n",
       "368   False  \n",
       "369   False  \n",
       "370    True  \n",
       "371    True  \n",
       "\n",
       "[372 rows x 5 columns]"
      ]
     },
     "execution_count": 48,
     "metadata": {},
     "output_type": "execute_result"
    }
   ],
   "source": [
    "# Determine pareto-efficient contracts if necessary\n",
    "if \"pareto\" not in contracts.columns:\n",
    "    contracts[\"pareto\"] = get_pareto(contracts[[\"utilA\",\"utilB\"]])\n",
    "    contracts = contracts.drop_duplicates()\n",
    "    contracts.to_csv(SAVE_PATH+savefile, sep=';', index=False)\n",
    "contracts"
   ]
  }
 ],
 "metadata": {
  "kernelspec": {
   "display_name": "Python 3",
   "language": "python",
   "name": "python3"
  },
  "language_info": {
   "codemirror_mode": {
    "name": "ipython",
    "version": 3
   },
   "file_extension": ".py",
   "mimetype": "text/x-python",
   "name": "python",
   "nbconvert_exporter": "python",
   "pygments_lexer": "ipython3",
   "version": "3.12.0"
  }
 },
 "nbformat": 4,
 "nbformat_minor": 2
}
