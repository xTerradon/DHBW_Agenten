{
 "cells": [
  {
   "cell_type": "markdown",
   "metadata": {},
   "source": [
    "### IMPORTS"
   ]
  },
  {
   "cell_type": "code",
   "execution_count": 107,
   "metadata": {},
   "outputs": [
    {
     "data": {
      "text/plain": [
       "'c:\\\\Users\\\\luisb\\\\AppData\\\\Local\\\\Programs\\\\Python\\\\Python312\\\\python.exe'"
      ]
     },
     "execution_count": 107,
     "metadata": {},
     "output_type": "execute_result"
    }
   ],
   "source": [
    "import sys\n",
    "import os\n",
    "sys.executable"
   ]
  },
  {
   "cell_type": "code",
   "execution_count": 108,
   "metadata": {},
   "outputs": [],
   "source": [
    "import pandas as pd\n",
    "import matplotlib.pyplot as plt\n",
    "import seaborn as sns\n",
    "import numpy as np"
   ]
  },
  {
   "cell_type": "code",
   "execution_count": 109,
   "metadata": {},
   "outputs": [],
   "source": [
    "SAVE_PATH = \"../saves/\""
   ]
  },
  {
   "cell_type": "code",
   "execution_count": 110,
   "metadata": {},
   "outputs": [],
   "source": [
    "def get_pareto(arr):\n",
    "    # Convert the array to a numpy array\n",
    "    arr_np = np.array(arr)\n",
    "\n",
    "    # Initialize a boolean mask to keep track of pareto-efficient elements\n",
    "    is_pareto_efficient = np.ones(arr_np.shape[0], dtype=bool)\n",
    "\n",
    "    for i in range(arr_np.shape[0]):\n",
    "        if is_pareto_efficient[i]:\n",
    "            for j in range(arr_np.shape[0]):\n",
    "                if j != i and is_pareto_efficient[j]:\n",
    "                    # Check if arr[i] dominates arr[j] in all dimensions\n",
    "                    if np.all(arr_np[i] <= arr_np[j]) and np.any(arr_np[i] < arr_np[j]):\n",
    "                        is_pareto_efficient[j] = False\n",
    "\n",
    "    # Return the pareto-efficient elements\n",
    "    return is_pareto_efficient\n",
    "    "
   ]
  },
  {
   "cell_type": "code",
   "execution_count": 111,
   "metadata": {},
   "outputs": [
    {
     "data": {
      "text/plain": [
       "['saves_1710424156961.csv',\n",
       " 'saves_1710424454746.csv',\n",
       " 'saves_1710424515049.csv',\n",
       " 'saves_1710424637019.csv',\n",
       " 'saves_1710424916129.csv',\n",
       " 'saves_1710429089587.csv',\n",
       " 'saves_1710429514728.csv',\n",
       " 'saves_1710429727788.csv',\n",
       " 'saves_1710429865873.csv',\n",
       " 'saves_1710429985239.csv',\n",
       " 'saves_1710430130919.csv',\n",
       " 'saves_1710430150347.csv',\n",
       " 'saves_1710430307672.csv',\n",
       " 'saves_1710430871920.csv',\n",
       " 'saves_1710431208782.csv',\n",
       " 'saves_1710433005888.csv',\n",
       " 'saves_1710433038829.csv',\n",
       " 'saves_1710433067539.csv',\n",
       " 'saves_1710433104086.csv',\n",
       " 'saves_1710433145786.csv',\n",
       " 'saves_1710433231572.csv',\n",
       " 'saves_1710433284422.csv',\n",
       " 'saves_1710433317750.csv',\n",
       " 'saves_1710433333342.csv',\n",
       " 'saves_1710433396034.csv',\n",
       " 'saves_1710433430620.csv',\n",
       " 'saves_1710433540895.csv',\n",
       " 'saves_1710433601737.csv',\n",
       " 'saves_1710433642142.csv',\n",
       " 'saves_1710433666142.csv',\n",
       " 'saves_1710433698580.csv',\n",
       " 'saves_1710433876094.csv',\n",
       " 'saves_1710436421269.csv',\n",
       " 'saves_1710436501194.csv',\n",
       " 'saves_1710437276237.csv',\n",
       " 'saves_1710437338617.csv',\n",
       " 'saves_1710438201420.csv',\n",
       " 'saves_1710438247972.csv',\n",
       " 'saves_1710438662400.csv',\n",
       " 'saves_1710458484854.csv',\n",
       " 'saves_1710460159779.csv',\n",
       " 'saves_1710460431557.csv',\n",
       " 'saves_1710460489035.csv',\n",
       " 'saves_1710460527350.csv']"
      ]
     },
     "execution_count": 111,
     "metadata": {},
     "output_type": "execute_result"
    }
   ],
   "source": [
    "savefiles = [file for file in os.listdir(SAVE_PATH) if file != \"pareto.csv\"] \n",
    "savefiles"
   ]
  },
  {
   "cell_type": "markdown",
   "metadata": {},
   "source": [
    "### VISUALIZATION"
   ]
  },
  {
   "cell_type": "code",
   "execution_count": 112,
   "metadata": {},
   "outputs": [
    {
     "data": {
      "text/html": [
       "<div>\n",
       "<style scoped>\n",
       "    .dataframe tbody tr th:only-of-type {\n",
       "        vertical-align: middle;\n",
       "    }\n",
       "\n",
       "    .dataframe tbody tr th {\n",
       "        vertical-align: top;\n",
       "    }\n",
       "\n",
       "    .dataframe thead th {\n",
       "        text-align: right;\n",
       "    }\n",
       "</style>\n",
       "<table border=\"1\" class=\"dataframe\">\n",
       "  <thead>\n",
       "    <tr style=\"text-align: right;\">\n",
       "      <th></th>\n",
       "      <th>utilA</th>\n",
       "      <th>utilB</th>\n",
       "      <th>utilSum</th>\n",
       "      <th>contract</th>\n",
       "      <th>pareto</th>\n",
       "    </tr>\n",
       "  </thead>\n",
       "  <tbody>\n",
       "    <tr>\n",
       "      <th>0</th>\n",
       "      <td>2257</td>\n",
       "      <td>8239</td>\n",
       "      <td>10496</td>\n",
       "      <td>[4,67,193,48,10,145,91,129,8,84,122,73,174,135...</td>\n",
       "      <td>True</td>\n",
       "    </tr>\n",
       "    <tr>\n",
       "      <th>1</th>\n",
       "      <td>2243</td>\n",
       "      <td>8253</td>\n",
       "      <td>10496</td>\n",
       "      <td>[4,67,193,48,10,1,91,129,8,84,122,73,174,135,2...</td>\n",
       "      <td>True</td>\n",
       "    </tr>\n",
       "    <tr>\n",
       "      <th>2</th>\n",
       "      <td>2231</td>\n",
       "      <td>8265</td>\n",
       "      <td>10496</td>\n",
       "      <td>[4,67,193,48,10,1,91,129,8,84,122,73,174,135,2...</td>\n",
       "      <td>True</td>\n",
       "    </tr>\n",
       "    <tr>\n",
       "      <th>3</th>\n",
       "      <td>2243</td>\n",
       "      <td>8253</td>\n",
       "      <td>10496</td>\n",
       "      <td>[4,67,193,48,10,1,91,129,8,84,122,73,174,135,2...</td>\n",
       "      <td>True</td>\n",
       "    </tr>\n",
       "    <tr>\n",
       "      <th>4</th>\n",
       "      <td>2197</td>\n",
       "      <td>8300</td>\n",
       "      <td>10497</td>\n",
       "      <td>[4,67,193,48,10,1,91,129,8,84,122,73,174,135,2...</td>\n",
       "      <td>True</td>\n",
       "    </tr>\n",
       "    <tr>\n",
       "      <th>...</th>\n",
       "      <td>...</td>\n",
       "      <td>...</td>\n",
       "      <td>...</td>\n",
       "      <td>...</td>\n",
       "      <td>...</td>\n",
       "    </tr>\n",
       "    <tr>\n",
       "      <th>188</th>\n",
       "      <td>9533</td>\n",
       "      <td>6559</td>\n",
       "      <td>16092</td>\n",
       "      <td>[73,174,23,136,75,18,171,57,3,130,163,122,12,1...</td>\n",
       "      <td>True</td>\n",
       "    </tr>\n",
       "    <tr>\n",
       "      <th>189</th>\n",
       "      <td>9633</td>\n",
       "      <td>6558</td>\n",
       "      <td>16191</td>\n",
       "      <td>[73,174,23,136,75,18,171,57,3,130,163,122,12,1...</td>\n",
       "      <td>True</td>\n",
       "    </tr>\n",
       "    <tr>\n",
       "      <th>190</th>\n",
       "      <td>9656</td>\n",
       "      <td>6555</td>\n",
       "      <td>16211</td>\n",
       "      <td>[73,174,23,136,75,18,171,57,3,130,163,122,12,1...</td>\n",
       "      <td>True</td>\n",
       "    </tr>\n",
       "    <tr>\n",
       "      <th>191</th>\n",
       "      <td>9790</td>\n",
       "      <td>6553</td>\n",
       "      <td>16343</td>\n",
       "      <td>[73,174,23,136,75,18,171,57,3,130,163,122,12,1...</td>\n",
       "      <td>True</td>\n",
       "    </tr>\n",
       "    <tr>\n",
       "      <th>192</th>\n",
       "      <td>9853</td>\n",
       "      <td>6552</td>\n",
       "      <td>16405</td>\n",
       "      <td>[73,174,23,136,75,18,171,57,3,130,163,122,12,1...</td>\n",
       "      <td>True</td>\n",
       "    </tr>\n",
       "  </tbody>\n",
       "</table>\n",
       "<p>193 rows × 5 columns</p>\n",
       "</div>"
      ],
      "text/plain": [
       "     utilA  utilB  utilSum                                           contract  \\\n",
       "0     2257   8239    10496  [4,67,193,48,10,145,91,129,8,84,122,73,174,135...   \n",
       "1     2243   8253    10496  [4,67,193,48,10,1,91,129,8,84,122,73,174,135,2...   \n",
       "2     2231   8265    10496  [4,67,193,48,10,1,91,129,8,84,122,73,174,135,2...   \n",
       "3     2243   8253    10496  [4,67,193,48,10,1,91,129,8,84,122,73,174,135,2...   \n",
       "4     2197   8300    10497  [4,67,193,48,10,1,91,129,8,84,122,73,174,135,2...   \n",
       "..     ...    ...      ...                                                ...   \n",
       "188   9533   6559    16092  [73,174,23,136,75,18,171,57,3,130,163,122,12,1...   \n",
       "189   9633   6558    16191  [73,174,23,136,75,18,171,57,3,130,163,122,12,1...   \n",
       "190   9656   6555    16211  [73,174,23,136,75,18,171,57,3,130,163,122,12,1...   \n",
       "191   9790   6553    16343  [73,174,23,136,75,18,171,57,3,130,163,122,12,1...   \n",
       "192   9853   6552    16405  [73,174,23,136,75,18,171,57,3,130,163,122,12,1...   \n",
       "\n",
       "     pareto  \n",
       "0      True  \n",
       "1      True  \n",
       "2      True  \n",
       "3      True  \n",
       "4      True  \n",
       "..      ...  \n",
       "188    True  \n",
       "189    True  \n",
       "190    True  \n",
       "191    True  \n",
       "192    True  \n",
       "\n",
       "[193 rows x 5 columns]"
      ]
     },
     "execution_count": 112,
     "metadata": {},
     "output_type": "execute_result"
    }
   ],
   "source": [
    "pareto = pd.read_csv(SAVE_PATH+'pareto.csv', sep=';')\n",
    "pareto"
   ]
  },
  {
   "cell_type": "code",
   "execution_count": 113,
   "metadata": {},
   "outputs": [
    {
     "data": {
      "text/html": [
       "<div>\n",
       "<style scoped>\n",
       "    .dataframe tbody tr th:only-of-type {\n",
       "        vertical-align: middle;\n",
       "    }\n",
       "\n",
       "    .dataframe tbody tr th {\n",
       "        vertical-align: top;\n",
       "    }\n",
       "\n",
       "    .dataframe thead th {\n",
       "        text-align: right;\n",
       "    }\n",
       "</style>\n",
       "<table border=\"1\" class=\"dataframe\">\n",
       "  <thead>\n",
       "    <tr style=\"text-align: right;\">\n",
       "      <th></th>\n",
       "      <th>utilA</th>\n",
       "      <th>utilB</th>\n",
       "      <th>utilSum</th>\n",
       "      <th>contract</th>\n",
       "      <th>pareto</th>\n",
       "    </tr>\n",
       "  </thead>\n",
       "  <tbody>\n",
       "    <tr>\n",
       "      <th>17637</th>\n",
       "      <td>2228</td>\n",
       "      <td>8253</td>\n",
       "      <td>10481</td>\n",
       "      <td>[4,67,193,48,10,176,91,129,8,84,122,73,174,135...</td>\n",
       "      <td>True</td>\n",
       "    </tr>\n",
       "    <tr>\n",
       "      <th>13782</th>\n",
       "      <td>2274</td>\n",
       "      <td>8215</td>\n",
       "      <td>10489</td>\n",
       "      <td>[4,67,193,48,10,145,91,129,8,84,122,73,174,135...</td>\n",
       "      <td>True</td>\n",
       "    </tr>\n",
       "    <tr>\n",
       "      <th>0</th>\n",
       "      <td>2257</td>\n",
       "      <td>8239</td>\n",
       "      <td>10496</td>\n",
       "      <td>[4,67,193,48,10,145,91,129,8,84,122,73,174,135...</td>\n",
       "      <td>True</td>\n",
       "    </tr>\n",
       "    <tr>\n",
       "      <th>4159</th>\n",
       "      <td>2269</td>\n",
       "      <td>8227</td>\n",
       "      <td>10496</td>\n",
       "      <td>[4,67,193,48,10,145,91,129,8,84,122,73,174,135...</td>\n",
       "      <td>True</td>\n",
       "    </tr>\n",
       "    <tr>\n",
       "      <th>14231</th>\n",
       "      <td>2197</td>\n",
       "      <td>8300</td>\n",
       "      <td>10497</td>\n",
       "      <td>[4,67,193,48,10,1,91,129,8,84,122,73,174,135,2...</td>\n",
       "      <td>True</td>\n",
       "    </tr>\n",
       "    <tr>\n",
       "      <th>...</th>\n",
       "      <td>...</td>\n",
       "      <td>...</td>\n",
       "      <td>...</td>\n",
       "      <td>...</td>\n",
       "      <td>...</td>\n",
       "    </tr>\n",
       "    <tr>\n",
       "      <th>188</th>\n",
       "      <td>9533</td>\n",
       "      <td>6559</td>\n",
       "      <td>16092</td>\n",
       "      <td>[73,174,23,136,75,18,171,57,3,130,163,122,12,1...</td>\n",
       "      <td>True</td>\n",
       "    </tr>\n",
       "    <tr>\n",
       "      <th>189</th>\n",
       "      <td>9633</td>\n",
       "      <td>6558</td>\n",
       "      <td>16191</td>\n",
       "      <td>[73,174,23,136,75,18,171,57,3,130,163,122,12,1...</td>\n",
       "      <td>True</td>\n",
       "    </tr>\n",
       "    <tr>\n",
       "      <th>190</th>\n",
       "      <td>9656</td>\n",
       "      <td>6555</td>\n",
       "      <td>16211</td>\n",
       "      <td>[73,174,23,136,75,18,171,57,3,130,163,122,12,1...</td>\n",
       "      <td>True</td>\n",
       "    </tr>\n",
       "    <tr>\n",
       "      <th>191</th>\n",
       "      <td>9790</td>\n",
       "      <td>6553</td>\n",
       "      <td>16343</td>\n",
       "      <td>[73,174,23,136,75,18,171,57,3,130,163,122,12,1...</td>\n",
       "      <td>True</td>\n",
       "    </tr>\n",
       "    <tr>\n",
       "      <th>8813</th>\n",
       "      <td>9853</td>\n",
       "      <td>6552</td>\n",
       "      <td>16405</td>\n",
       "      <td>[73,174,23,136,75,18,171,57,3,130,163,122,12,1...</td>\n",
       "      <td>True</td>\n",
       "    </tr>\n",
       "  </tbody>\n",
       "</table>\n",
       "<p>188 rows × 5 columns</p>\n",
       "</div>"
      ],
      "text/plain": [
       "       utilA  utilB  utilSum  \\\n",
       "17637   2228   8253    10481   \n",
       "13782   2274   8215    10489   \n",
       "0       2257   8239    10496   \n",
       "4159    2269   8227    10496   \n",
       "14231   2197   8300    10497   \n",
       "...      ...    ...      ...   \n",
       "188     9533   6559    16092   \n",
       "189     9633   6558    16191   \n",
       "190     9656   6555    16211   \n",
       "191     9790   6553    16343   \n",
       "8813    9853   6552    16405   \n",
       "\n",
       "                                                contract  pareto  \n",
       "17637  [4,67,193,48,10,176,91,129,8,84,122,73,174,135...    True  \n",
       "13782  [4,67,193,48,10,145,91,129,8,84,122,73,174,135...    True  \n",
       "0      [4,67,193,48,10,145,91,129,8,84,122,73,174,135...    True  \n",
       "4159   [4,67,193,48,10,145,91,129,8,84,122,73,174,135...    True  \n",
       "14231  [4,67,193,48,10,1,91,129,8,84,122,73,174,135,2...    True  \n",
       "...                                                  ...     ...  \n",
       "188    [73,174,23,136,75,18,171,57,3,130,163,122,12,1...    True  \n",
       "189    [73,174,23,136,75,18,171,57,3,130,163,122,12,1...    True  \n",
       "190    [73,174,23,136,75,18,171,57,3,130,163,122,12,1...    True  \n",
       "191    [73,174,23,136,75,18,171,57,3,130,163,122,12,1...    True  \n",
       "8813   [73,174,23,136,75,18,171,57,3,130,163,122,12,1...    True  \n",
       "\n",
       "[188 rows x 5 columns]"
      ]
     },
     "execution_count": 113,
     "metadata": {},
     "output_type": "execute_result"
    }
   ],
   "source": [
    "for savefile in savefiles:\n",
    "    contracts = pd.read_csv(SAVE_PATH + savefile, sep=';')\n",
    "    if \"pareto\" not in contracts.columns:\n",
    "        contracts[\"pareto\"] = get_pareto(contracts[[\"utilA\",\"utilB\"]])\n",
    "        contracts = contracts.sort_values(by=\"utilSum\", ascending=False).drop_duplicates()\n",
    "        contracts.to_csv(SAVE_PATH+savefile, sep=';', index=False)\n",
    "    pareto = pd.concat([pareto, contracts[contracts[\"pareto\"]]])\n",
    "pareto = pareto.sort_values(by=\"utilSum\", ascending=False).drop_duplicates()\n",
    "pareto[\"pareto\"] = get_pareto(pareto[[\"utilA\",\"utilB\"]])\n",
    "pareto = pareto[pareto[\"pareto\"]].sort_values(by=\"utilSum\", ascending=True)\n",
    "pareto.to_csv(SAVE_PATH+'pareto.csv', sep=';', index=False)\n",
    "pareto"
   ]
  },
  {
   "cell_type": "code",
   "execution_count": 114,
   "metadata": {},
   "outputs": [
    {
     "data": {
      "text/plain": [
       "(1090.75, 10270.25, 6419.2, 9340.8)"
      ]
     },
     "execution_count": 114,
     "metadata": {},
     "output_type": "execute_result"
    },
    {
     "data": {
      "image/png": "[encoded data removed]",
      "text/plain": [
       "<Figure size 1000x300 with 1 Axes>"
      ]
     },
     "metadata": {},
     "output_type": "display_data"
    }
   ],
   "source": [
    "pareto = pareto.sort_values(by=\"utilA\", ascending=True)\n",
    "best_util = pareto.sort_values(by=\"utilSum\").iloc[0]\n",
    "plt.figure(figsize=(10,3))\n",
    "plt.title(f\"Pareto frontier ({len(pareto)} contracts, best: {best_util['utilSum']})\")\n",
    "plt.plot(pareto[\"utilA\"], pareto[\"utilB\"], color='gray', linestyle='-', alpha=0.5)\n",
    "plt.scatter(pareto[\"utilA\"], pareto[\"utilB\"], s=50, marker=\"+\")\n",
    "plt.xlabel(\"Utility A\")\n",
    "plt.ylabel(\"Utility B\")\n",
    "plt.axis(\"equal\")"
   ]
  },
  {
   "cell_type": "code",
   "execution_count": 115,
   "metadata": {},
   "outputs": [
    {
     "data": {
      "text/plain": [
       "(188, 5)"
      ]
     },
     "execution_count": 115,
     "metadata": {},
     "output_type": "execute_result"
    }
   ],
   "source": [
    "pareto.shape"
   ]
  }
 ],
 "metadata": {
  "kernelspec": {
   "display_name": "Python 3",
   "language": "python",
   "name": "python3"
  },
  "language_info": {
   "codemirror_mode": {
    "name": "ipython",
    "version": 3
   },
   "file_extension": ".py",
   "mimetype": "text/x-python",
   "name": "python",
   "nbconvert_exporter": "python",
   "pygments_lexer": "ipython3",
   "version": "3.12.0"
  }
 },
 "nbformat": 4,
 "nbformat_minor": 2
}
