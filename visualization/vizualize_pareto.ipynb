{
 "cells": [
  {
   "cell_type": "markdown",
   "metadata": {},
   "source": [
    "### IMPORTS"
   ]
  },
  {
   "cell_type": "code",
   "execution_count": 170,
   "metadata": {},
   "outputs": [
    {
     "data": {
      "text/plain": [
       "'c:\\\\Users\\\\luisb\\\\AppData\\\\Local\\\\Programs\\\\Python\\\\Python312\\\\python.exe'"
      ]
     },
     "execution_count": 170,
     "metadata": {},
     "output_type": "execute_result"
    }
   ],
   "source": [
    "import sys\n",
    "import os\n",
    "sys.executable"
   ]
  },
  {
   "cell_type": "code",
   "execution_count": 171,
   "metadata": {},
   "outputs": [],
   "source": [
    "import pandas as pd\n",
    "import matplotlib.pyplot as plt\n",
    "import seaborn as sns\n",
    "import numpy as np"
   ]
  },
  {
   "cell_type": "code",
   "execution_count": 172,
   "metadata": {},
   "outputs": [],
   "source": [
    "SAVE_PATH = \"../saves/\""
   ]
  },
  {
   "cell_type": "code",
   "execution_count": 173,
   "metadata": {},
   "outputs": [],
   "source": [
    "def get_pareto(arr):\n",
    "    # Convert the array to a numpy array\n",
    "    arr_np = np.array(arr)\n",
    "\n",
    "    # Initialize a boolean mask to keep track of pareto-efficient elements\n",
    "    is_pareto_efficient = np.ones(arr_np.shape[0], dtype=bool)\n",
    "\n",
    "    for i in range(arr_np.shape[0]):\n",
    "        if is_pareto_efficient[i]:\n",
    "            for j in range(arr_np.shape[0]):\n",
    "                if j != i and is_pareto_efficient[j]:\n",
    "                    # Check if arr[i] dominates arr[j] in all dimensions\n",
    "                    if np.all(arr_np[i] <= arr_np[j]) and np.any(arr_np[i] < arr_np[j]):\n",
    "                        is_pareto_efficient[j] = False\n",
    "\n",
    "    # Return the pareto-efficient elements\n",
    "    return is_pareto_efficient\n",
    "    "
   ]
  },
  {
   "cell_type": "code",
   "execution_count": 174,
   "metadata": {},
   "outputs": [
    {
     "data": {
      "text/plain": [
       "['saves_1710424156961.csv',\n",
       " 'saves_1710424454746.csv',\n",
       " 'saves_1710424515049.csv',\n",
       " 'saves_1710424637019.csv',\n",
       " 'saves_1710424916129.csv',\n",
       " 'saves_1710429089587.csv',\n",
       " 'saves_1710429514728.csv',\n",
       " 'saves_1710429727788.csv',\n",
       " 'saves_1710429865873.csv',\n",
       " 'saves_1710429985239.csv',\n",
       " 'saves_1710430130919.csv',\n",
       " 'saves_1710430150347.csv',\n",
       " 'saves_1710430307672.csv',\n",
       " 'saves_1710430871920.csv',\n",
       " 'saves_1710431208782.csv',\n",
       " 'saves_1710433005888.csv',\n",
       " 'saves_1710433038829.csv',\n",
       " 'saves_1710433067539.csv',\n",
       " 'saves_1710433104086.csv',\n",
       " 'saves_1710433145786.csv',\n",
       " 'saves_1710433231572.csv',\n",
       " 'saves_1710433284422.csv',\n",
       " 'saves_1710433317750.csv',\n",
       " 'saves_1710433333342.csv',\n",
       " 'saves_1710433396034.csv',\n",
       " 'saves_1710433430620.csv',\n",
       " 'saves_1710433540895.csv',\n",
       " 'saves_1710433601737.csv',\n",
       " 'saves_1710433642142.csv',\n",
       " 'saves_1710433666142.csv',\n",
       " 'saves_1710433698580.csv',\n",
       " 'saves_1710433876094.csv',\n",
       " 'saves_1710436421269.csv',\n",
       " 'saves_1710436501194.csv',\n",
       " 'saves_1710437276237.csv',\n",
       " 'saves_1710437338617.csv',\n",
       " 'saves_1710438201420.csv',\n",
       " 'saves_1710438247972.csv',\n",
       " 'saves_1710438662400.csv',\n",
       " 'saves_1710458484854.csv',\n",
       " 'saves_1710460159779.csv',\n",
       " 'saves_1710460431557.csv',\n",
       " 'saves_1710460489035.csv',\n",
       " 'saves_1710460527350.csv',\n",
       " 'saves_1710460797202.csv',\n",
       " 'saves_1710461106074.csv',\n",
       " 'saves_1710461235633.csv',\n",
       " 'saves_1710461445303.csv',\n",
       " 'saves_1710461573699.csv',\n",
       " 'saves_1710461636197.csv',\n",
       " 'saves_1710461668696.csv',\n",
       " 'saves_1710461805766.csv',\n",
       " 'saves_1710461846417.csv',\n",
       " 'saves_1710462184669.csv',\n",
       " 'saves_1710462214916.csv',\n",
       " 'saves_1710462268702.csv',\n",
       " 'saves_1710462308549.csv',\n",
       " 'saves_1710462377849.csv',\n",
       " 'saves_1710462417953.csv',\n",
       " 'saves_1710462449787.csv',\n",
       " 'saves_1710462459892.csv',\n",
       " 'saves_1710462483574.csv',\n",
       " 'saves_1710462501309.csv',\n",
       " 'saves_1710462510060.csv',\n",
       " 'saves_1710462527831.csv']"
      ]
     },
     "execution_count": 174,
     "metadata": {},
     "output_type": "execute_result"
    }
   ],
   "source": [
    "savefiles = [file for file in os.listdir(SAVE_PATH) if file != \"pareto.csv\"] \n",
    "savefiles"
   ]
  },
  {
   "cell_type": "markdown",
   "metadata": {},
   "source": [
    "### VISUALIZATION"
   ]
  },
  {
   "cell_type": "code",
   "execution_count": 175,
   "metadata": {},
   "outputs": [
    {
     "data": {
      "text/html": [
       "<div>\n",
       "<style scoped>\n",
       "    .dataframe tbody tr th:only-of-type {\n",
       "        vertical-align: middle;\n",
       "    }\n",
       "\n",
       "    .dataframe tbody tr th {\n",
       "        vertical-align: top;\n",
       "    }\n",
       "\n",
       "    .dataframe thead th {\n",
       "        text-align: right;\n",
       "    }\n",
       "</style>\n",
       "<table border=\"1\" class=\"dataframe\">\n",
       "  <thead>\n",
       "    <tr style=\"text-align: right;\">\n",
       "      <th></th>\n",
       "      <th>utilA</th>\n",
       "      <th>utilB</th>\n",
       "      <th>utilSum</th>\n",
       "      <th>contract</th>\n",
       "      <th>pareto</th>\n",
       "    </tr>\n",
       "  </thead>\n",
       "  <tbody>\n",
       "    <tr>\n",
       "      <th>0</th>\n",
       "      <td>2140</td>\n",
       "      <td>8176</td>\n",
       "      <td>10316</td>\n",
       "      <td>[4,67,193,48,10,176,83,129,8,84,122,73,174,135...</td>\n",
       "      <td>True</td>\n",
       "    </tr>\n",
       "    <tr>\n",
       "      <th>1</th>\n",
       "      <td>2106</td>\n",
       "      <td>8211</td>\n",
       "      <td>10317</td>\n",
       "      <td>[4,67,193,48,10,176,83,129,8,84,122,73,174,135...</td>\n",
       "      <td>True</td>\n",
       "    </tr>\n",
       "    <tr>\n",
       "      <th>2</th>\n",
       "      <td>2155</td>\n",
       "      <td>8163</td>\n",
       "      <td>10318</td>\n",
       "      <td>[4,67,193,48,10,176,83,129,8,84,122,73,174,135...</td>\n",
       "      <td>True</td>\n",
       "    </tr>\n",
       "    <tr>\n",
       "      <th>3</th>\n",
       "      <td>2163</td>\n",
       "      <td>8155</td>\n",
       "      <td>10318</td>\n",
       "      <td>[4,67,193,48,10,176,83,129,8,84,122,73,174,135...</td>\n",
       "      <td>True</td>\n",
       "    </tr>\n",
       "    <tr>\n",
       "      <th>4</th>\n",
       "      <td>2126</td>\n",
       "      <td>8192</td>\n",
       "      <td>10318</td>\n",
       "      <td>[4,67,193,48,10,176,83,129,8,84,122,73,174,135...</td>\n",
       "      <td>True</td>\n",
       "    </tr>\n",
       "    <tr>\n",
       "      <th>...</th>\n",
       "      <td>...</td>\n",
       "      <td>...</td>\n",
       "      <td>...</td>\n",
       "      <td>...</td>\n",
       "      <td>...</td>\n",
       "    </tr>\n",
       "    <tr>\n",
       "      <th>142</th>\n",
       "      <td>9533</td>\n",
       "      <td>6559</td>\n",
       "      <td>16092</td>\n",
       "      <td>[73,174,23,136,75,18,171,57,3,130,163,122,12,1...</td>\n",
       "      <td>True</td>\n",
       "    </tr>\n",
       "    <tr>\n",
       "      <th>143</th>\n",
       "      <td>9633</td>\n",
       "      <td>6558</td>\n",
       "      <td>16191</td>\n",
       "      <td>[73,174,23,136,75,18,171,57,3,130,163,122,12,1...</td>\n",
       "      <td>True</td>\n",
       "    </tr>\n",
       "    <tr>\n",
       "      <th>144</th>\n",
       "      <td>9656</td>\n",
       "      <td>6555</td>\n",
       "      <td>16211</td>\n",
       "      <td>[73,174,23,136,75,18,171,57,3,130,163,122,12,1...</td>\n",
       "      <td>True</td>\n",
       "    </tr>\n",
       "    <tr>\n",
       "      <th>145</th>\n",
       "      <td>9790</td>\n",
       "      <td>6553</td>\n",
       "      <td>16343</td>\n",
       "      <td>[73,174,23,136,75,18,171,57,3,130,163,122,12,1...</td>\n",
       "      <td>True</td>\n",
       "    </tr>\n",
       "    <tr>\n",
       "      <th>146</th>\n",
       "      <td>9853</td>\n",
       "      <td>6552</td>\n",
       "      <td>16405</td>\n",
       "      <td>[73,174,23,136,75,18,171,57,3,130,163,122,12,1...</td>\n",
       "      <td>True</td>\n",
       "    </tr>\n",
       "  </tbody>\n",
       "</table>\n",
       "<p>147 rows × 5 columns</p>\n",
       "</div>"
      ],
      "text/plain": [
       "     utilA  utilB  utilSum                                           contract  \\\n",
       "0     2140   8176    10316  [4,67,193,48,10,176,83,129,8,84,122,73,174,135...   \n",
       "1     2106   8211    10317  [4,67,193,48,10,176,83,129,8,84,122,73,174,135...   \n",
       "2     2155   8163    10318  [4,67,193,48,10,176,83,129,8,84,122,73,174,135...   \n",
       "3     2163   8155    10318  [4,67,193,48,10,176,83,129,8,84,122,73,174,135...   \n",
       "4     2126   8192    10318  [4,67,193,48,10,176,83,129,8,84,122,73,174,135...   \n",
       "..     ...    ...      ...                                                ...   \n",
       "142   9533   6559    16092  [73,174,23,136,75,18,171,57,3,130,163,122,12,1...   \n",
       "143   9633   6558    16191  [73,174,23,136,75,18,171,57,3,130,163,122,12,1...   \n",
       "144   9656   6555    16211  [73,174,23,136,75,18,171,57,3,130,163,122,12,1...   \n",
       "145   9790   6553    16343  [73,174,23,136,75,18,171,57,3,130,163,122,12,1...   \n",
       "146   9853   6552    16405  [73,174,23,136,75,18,171,57,3,130,163,122,12,1...   \n",
       "\n",
       "     pareto  \n",
       "0      True  \n",
       "1      True  \n",
       "2      True  \n",
       "3      True  \n",
       "4      True  \n",
       "..      ...  \n",
       "142    True  \n",
       "143    True  \n",
       "144    True  \n",
       "145    True  \n",
       "146    True  \n",
       "\n",
       "[147 rows x 5 columns]"
      ]
     },
     "execution_count": 175,
     "metadata": {},
     "output_type": "execute_result"
    }
   ],
   "source": [
    "pareto = pd.read_csv(SAVE_PATH+'pareto.csv', sep=';')\n",
    "pareto"
   ]
  },
  {
   "cell_type": "code",
   "execution_count": 176,
   "metadata": {},
   "outputs": [],
   "source": [
    "for savefile in savefiles:\n",
    "    contracts = pd.read_csv(SAVE_PATH + savefile, sep=';')\n",
    "    if \"pareto\" not in contracts.columns:\n",
    "        contracts[\"pareto\"] = get_pareto(contracts[[\"utilA\",\"utilB\"]])\n",
    "        contracts = contracts.sort_values(by=\"utilSum\", ascending=False).drop_duplicates()\n",
    "        contracts.to_csv(SAVE_PATH+savefile, sep=';', index=False)\n",
    "    pareto = pd.concat([pareto, contracts[contracts[\"pareto\"]]])\n",
    "pareto = pareto.sort_values(by=\"utilSum\", ascending=False).drop_duplicates()\n",
    "pareto[\"pareto\"] = get_pareto(pareto[[\"utilA\",\"utilB\"]])\n",
    "pareto = pareto[pareto[\"pareto\"]].sort_values(by=\"utilSum\", ascending=True)\n",
    "pareto.to_csv(SAVE_PATH+'pareto.csv', sep=';', index=False)\n",
    "pareto"
   ]
  },
  {
   "cell_type": "code",
   "execution_count": null,
   "metadata": {},
   "outputs": [
    {
     "data": {
      "text/plain": [
       "(1090.75, 10270.25, 6419.2, 9340.8)"
      ]
     },
     "execution_count": 168,
     "metadata": {},
     "output_type": "execute_result"
    },
    {
     "data": {
      "image/png": "[encoded data removed]",
      "text/plain": [
       "<Figure size 1000x300 with 1 Axes>"
      ]
     },
     "metadata": {},
     "output_type": "display_data"
    }
   ],
   "source": [
    "pareto = pareto.sort_values(by=\"utilA\", ascending=True)\n",
    "best_util = pareto.sort_values(by=\"utilSum\").iloc[0]\n",
    "plt.figure(figsize=(10,3))\n",
    "plt.title(f\"Pareto frontier ({len(pareto)} contracts, best: {best_util['utilSum']})\")\n",
    "plt.plot(pareto[\"utilA\"], pareto[\"utilB\"], color='gray', linestyle='-', alpha=0.5)\n",
    "plt.scatter(pareto[\"utilA\"], pareto[\"utilB\"], s=50, marker=\"+\")\n",
    "plt.xlabel(\"Utility A\")\n",
    "plt.ylabel(\"Utility B\")\n",
    "plt.axis(\"equal\")"
   ]
  },
  {
   "cell_type": "code",
   "execution_count": null,
   "metadata": {},
   "outputs": [
    {
     "data": {
      "text/plain": [
       "(147, 5)"
      ]
     },
     "execution_count": 169,
     "metadata": {},
     "output_type": "execute_result"
    }
   ],
   "source": [
    "pareto.shape"
   ]
  }
 ],
 "metadata": {
  "kernelspec": {
   "display_name": "Python 3",
   "language": "python",
   "name": "python3"
  },
  "language_info": {
   "codemirror_mode": {
    "name": "ipython",
    "version": 3
   },
   "file_extension": ".py",
   "mimetype": "text/x-python",
   "name": "python",
   "nbconvert_exporter": "python",
   "pygments_lexer": "ipython3",
   "version": "3.12.0"
  }
 },
 "nbformat": 4,
 "nbformat_minor": 2
}
