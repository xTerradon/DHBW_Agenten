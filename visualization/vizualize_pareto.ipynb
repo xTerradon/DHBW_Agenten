{
 "cells": [
  {
   "cell_type": "markdown",
   "metadata": {},
   "source": [
    "### IMPORTS"
   ]
  },
  {
   "cell_type": "code",
   "execution_count": 104,
   "metadata": {},
   "outputs": [
    {
     "data": {
      "text/plain": [
       "'c:\\\\Users\\\\V61XNRQ\\\\AppData\\\\Local\\\\Programs\\\\Python\\\\Python311\\\\python.exe'"
      ]
     },
     "execution_count": 104,
     "metadata": {},
     "output_type": "execute_result"
    }
   ],
   "source": [
    "import sys\n",
    "import os\n",
    "sys.executable"
   ]
  },
  {
   "cell_type": "code",
   "execution_count": 105,
   "metadata": {},
   "outputs": [],
   "source": [
    "import pandas as pd\n",
    "import matplotlib.pyplot as plt\n",
    "import seaborn as sns\n",
    "import numpy as np"
   ]
  },
  {
   "cell_type": "code",
   "execution_count": 106,
   "metadata": {},
   "outputs": [],
   "source": [
    "SAVE_PATH = \"../saves/\""
   ]
  },
  {
   "cell_type": "code",
   "execution_count": 107,
   "metadata": {},
   "outputs": [],
   "source": [
    "def get_pareto(arr):\n",
    "    # Convert the array to a numpy array\n",
    "    arr_np = np.array(arr)\n",
    "\n",
    "    # Initialize a boolean mask to keep track of pareto-efficient elements\n",
    "    is_pareto_efficient = np.ones(arr_np.shape[0], dtype=bool)\n",
    "\n",
    "    for i in range(arr_np.shape[0]):\n",
    "        if is_pareto_efficient[i]:\n",
    "            for j in range(arr_np.shape[0]):\n",
    "                if j != i and is_pareto_efficient[j]:\n",
    "                    # Check if arr[i] dominates arr[j] in all dimensions\n",
    "                    if np.all(arr_np[i] <= arr_np[j]) and np.any(arr_np[i] < arr_np[j]):\n",
    "                        is_pareto_efficient[j] = False\n",
    "\n",
    "    # Return the pareto-efficient elements\n",
    "    return is_pareto_efficient\n",
    "    "
   ]
  },
  {
   "cell_type": "code",
   "execution_count": 108,
   "metadata": {},
   "outputs": [
    {
     "data": {
      "text/plain": [
       "['saves_1710424156961.csv',\n",
       " 'saves_1710424454746.csv',\n",
       " 'saves_1710424515049.csv',\n",
       " 'saves_1710424637019.csv',\n",
       " 'saves_1710424916129.csv',\n",
       " 'saves_1710429089587.csv',\n",
       " 'saves_1710429514728.csv',\n",
       " 'saves_1710429727788.csv',\n",
       " 'saves_1710429865873.csv',\n",
       " 'saves_1710429985239.csv',\n",
       " 'saves_1710430130919.csv',\n",
       " 'saves_1710430150347.csv',\n",
       " 'saves_1710430307672.csv',\n",
       " 'saves_1710430871920.csv',\n",
       " 'saves_1710431208782.csv',\n",
       " 'saves_1710433005888.csv',\n",
       " 'saves_1710433038829.csv',\n",
       " 'saves_1710433067539.csv',\n",
       " 'saves_1710433104086.csv',\n",
       " 'saves_1710433145786.csv',\n",
       " 'saves_1710433231572.csv',\n",
       " 'saves_1710433284422.csv',\n",
       " 'saves_1710433317750.csv',\n",
       " 'saves_1710433333342.csv',\n",
       " 'saves_1710433396034.csv',\n",
       " 'saves_1710433430620.csv',\n",
       " 'saves_1710433540895.csv',\n",
       " 'saves_1710433601737.csv',\n",
       " 'saves_1710433642142.csv',\n",
       " 'saves_1710433666142.csv',\n",
       " 'saves_1710433698580.csv',\n",
       " 'saves_1710433876094.csv']"
      ]
     },
     "execution_count": 108,
     "metadata": {},
     "output_type": "execute_result"
    }
   ],
   "source": [
    "savefiles = [file for file in os.listdir(SAVE_PATH) if file != \"pareto.csv\"] \n",
    "savefiles"
   ]
  },
  {
   "cell_type": "markdown",
   "metadata": {},
   "source": [
    "### VISUALIZATION"
   ]
  },
  {
   "cell_type": "code",
   "execution_count": 109,
   "metadata": {},
   "outputs": [
    {
     "data": {
      "text/html": [
       "<div>\n",
       "<style scoped>\n",
       "    .dataframe tbody tr th:only-of-type {\n",
       "        vertical-align: middle;\n",
       "    }\n",
       "\n",
       "    .dataframe tbody tr th {\n",
       "        vertical-align: top;\n",
       "    }\n",
       "\n",
       "    .dataframe thead th {\n",
       "        text-align: right;\n",
       "    }\n",
       "</style>\n",
       "<table border=\"1\" class=\"dataframe\">\n",
       "  <thead>\n",
       "    <tr style=\"text-align: right;\">\n",
       "      <th></th>\n",
       "      <th>utilA</th>\n",
       "      <th>utilB</th>\n",
       "      <th>utilSum</th>\n",
       "      <th>contract</th>\n",
       "      <th>pareto</th>\n",
       "    </tr>\n",
       "  </thead>\n",
       "  <tbody>\n",
       "    <tr>\n",
       "      <th>0</th>\n",
       "      <td>2243</td>\n",
       "      <td>8253</td>\n",
       "      <td>10496</td>\n",
       "      <td>[4,67,193,48,10,1,91,129,8,84,122,73,174,135,2...</td>\n",
       "      <td>True</td>\n",
       "    </tr>\n",
       "    <tr>\n",
       "      <th>1</th>\n",
       "      <td>2266</td>\n",
       "      <td>8242</td>\n",
       "      <td>10508</td>\n",
       "      <td>[4,67,193,48,10,1,91,129,8,84,122,73,174,135,2...</td>\n",
       "      <td>True</td>\n",
       "    </tr>\n",
       "    <tr>\n",
       "      <th>2</th>\n",
       "      <td>2261</td>\n",
       "      <td>8252</td>\n",
       "      <td>10513</td>\n",
       "      <td>[4,67,193,48,10,1,91,129,8,84,122,73,174,135,2...</td>\n",
       "      <td>True</td>\n",
       "    </tr>\n",
       "    <tr>\n",
       "      <th>3</th>\n",
       "      <td>2273</td>\n",
       "      <td>8240</td>\n",
       "      <td>10513</td>\n",
       "      <td>[4,67,193,48,10,1,91,129,8,84,122,73,174,135,2...</td>\n",
       "      <td>True</td>\n",
       "    </tr>\n",
       "    <tr>\n",
       "      <th>4</th>\n",
       "      <td>2233</td>\n",
       "      <td>8283</td>\n",
       "      <td>10516</td>\n",
       "      <td>[136,67,193,48,10,1,91,129,8,84,122,73,174,135...</td>\n",
       "      <td>True</td>\n",
       "    </tr>\n",
       "    <tr>\n",
       "      <th>...</th>\n",
       "      <td>...</td>\n",
       "      <td>...</td>\n",
       "      <td>...</td>\n",
       "      <td>...</td>\n",
       "      <td>...</td>\n",
       "    </tr>\n",
       "    <tr>\n",
       "      <th>66</th>\n",
       "      <td>6924</td>\n",
       "      <td>7901</td>\n",
       "      <td>14825</td>\n",
       "      <td>[198,174,190,32,189,87,6,61,38,163,199,49,12,1...</td>\n",
       "      <td>True</td>\n",
       "    </tr>\n",
       "    <tr>\n",
       "      <th>67</th>\n",
       "      <td>6938</td>\n",
       "      <td>7900</td>\n",
       "      <td>14838</td>\n",
       "      <td>[198,174,190,32,189,87,6,61,38,163,199,49,12,1...</td>\n",
       "      <td>True</td>\n",
       "    </tr>\n",
       "    <tr>\n",
       "      <th>68</th>\n",
       "      <td>6995</td>\n",
       "      <td>7899</td>\n",
       "      <td>14894</td>\n",
       "      <td>[198,174,190,32,189,87,6,61,38,163,199,49,12,1...</td>\n",
       "      <td>True</td>\n",
       "    </tr>\n",
       "    <tr>\n",
       "      <th>69</th>\n",
       "      <td>7018</td>\n",
       "      <td>7894</td>\n",
       "      <td>14912</td>\n",
       "      <td>[198,174,190,32,189,87,6,61,38,163,199,49,12,1...</td>\n",
       "      <td>True</td>\n",
       "    </tr>\n",
       "    <tr>\n",
       "      <th>70</th>\n",
       "      <td>7021</td>\n",
       "      <td>7893</td>\n",
       "      <td>14914</td>\n",
       "      <td>[198,174,190,32,189,87,6,61,38,163,199,49,12,1...</td>\n",
       "      <td>True</td>\n",
       "    </tr>\n",
       "  </tbody>\n",
       "</table>\n",
       "<p>71 rows × 5 columns</p>\n",
       "</div>"
      ],
      "text/plain": [
       "    utilA  utilB  utilSum                                           contract  \\\n",
       "0    2243   8253    10496  [4,67,193,48,10,1,91,129,8,84,122,73,174,135,2...   \n",
       "1    2266   8242    10508  [4,67,193,48,10,1,91,129,8,84,122,73,174,135,2...   \n",
       "2    2261   8252    10513  [4,67,193,48,10,1,91,129,8,84,122,73,174,135,2...   \n",
       "3    2273   8240    10513  [4,67,193,48,10,1,91,129,8,84,122,73,174,135,2...   \n",
       "4    2233   8283    10516  [136,67,193,48,10,1,91,129,8,84,122,73,174,135...   \n",
       "..    ...    ...      ...                                                ...   \n",
       "66   6924   7901    14825  [198,174,190,32,189,87,6,61,38,163,199,49,12,1...   \n",
       "67   6938   7900    14838  [198,174,190,32,189,87,6,61,38,163,199,49,12,1...   \n",
       "68   6995   7899    14894  [198,174,190,32,189,87,6,61,38,163,199,49,12,1...   \n",
       "69   7018   7894    14912  [198,174,190,32,189,87,6,61,38,163,199,49,12,1...   \n",
       "70   7021   7893    14914  [198,174,190,32,189,87,6,61,38,163,199,49,12,1...   \n",
       "\n",
       "    pareto  \n",
       "0     True  \n",
       "1     True  \n",
       "2     True  \n",
       "3     True  \n",
       "4     True  \n",
       "..     ...  \n",
       "66    True  \n",
       "67    True  \n",
       "68    True  \n",
       "69    True  \n",
       "70    True  \n",
       "\n",
       "[71 rows x 5 columns]"
      ]
     },
     "execution_count": 109,
     "metadata": {},
     "output_type": "execute_result"
    }
   ],
   "source": [
    "pareto = pd.read_csv(SAVE_PATH+'pareto.csv', sep=';')\n",
    "pareto"
   ]
  },
  {
   "cell_type": "code",
   "execution_count": 110,
   "metadata": {},
   "outputs": [
    {
     "data": {
      "text/html": [
       "<div>\n",
       "<style scoped>\n",
       "    .dataframe tbody tr th:only-of-type {\n",
       "        vertical-align: middle;\n",
       "    }\n",
       "\n",
       "    .dataframe tbody tr th {\n",
       "        vertical-align: top;\n",
       "    }\n",
       "\n",
       "    .dataframe thead th {\n",
       "        text-align: right;\n",
       "    }\n",
       "</style>\n",
       "<table border=\"1\" class=\"dataframe\">\n",
       "  <thead>\n",
       "    <tr style=\"text-align: right;\">\n",
       "      <th></th>\n",
       "      <th>utilA</th>\n",
       "      <th>utilB</th>\n",
       "      <th>utilSum</th>\n",
       "      <th>contract</th>\n",
       "      <th>pareto</th>\n",
       "    </tr>\n",
       "  </thead>\n",
       "  <tbody>\n",
       "    <tr>\n",
       "      <th>99998</th>\n",
       "      <td>2243</td>\n",
       "      <td>8253</td>\n",
       "      <td>10496</td>\n",
       "      <td>[4,67,193,48,10,1,91,129,8,84,122,73,174,135,2...</td>\n",
       "      <td>True</td>\n",
       "    </tr>\n",
       "    <tr>\n",
       "      <th>1471</th>\n",
       "      <td>2231</td>\n",
       "      <td>8265</td>\n",
       "      <td>10496</td>\n",
       "      <td>[4,67,193,48,10,1,91,129,8,84,122,73,174,135,2...</td>\n",
       "      <td>True</td>\n",
       "    </tr>\n",
       "    <tr>\n",
       "      <th>0</th>\n",
       "      <td>2243</td>\n",
       "      <td>8253</td>\n",
       "      <td>10496</td>\n",
       "      <td>[4,67,193,48,10,1,91,129,8,84,122,73,174,135,2...</td>\n",
       "      <td>True</td>\n",
       "    </tr>\n",
       "    <tr>\n",
       "      <th>1124</th>\n",
       "      <td>2242</td>\n",
       "      <td>8259</td>\n",
       "      <td>10501</td>\n",
       "      <td>[4,67,193,48,10,1,91,129,8,84,122,73,174,135,2...</td>\n",
       "      <td>True</td>\n",
       "    </tr>\n",
       "    <tr>\n",
       "      <th>2206</th>\n",
       "      <td>2253</td>\n",
       "      <td>8251</td>\n",
       "      <td>10504</td>\n",
       "      <td>[4,67,193,48,10,1,91,129,8,84,122,73,174,135,2...</td>\n",
       "      <td>True</td>\n",
       "    </tr>\n",
       "    <tr>\n",
       "      <th>...</th>\n",
       "      <td>...</td>\n",
       "      <td>...</td>\n",
       "      <td>...</td>\n",
       "      <td>...</td>\n",
       "      <td>...</td>\n",
       "    </tr>\n",
       "    <tr>\n",
       "      <th>223</th>\n",
       "      <td>7832</td>\n",
       "      <td>7737</td>\n",
       "      <td>15569</td>\n",
       "      <td>[198,174,23,32,132,87,6,88,38,163,199,78,12,18...</td>\n",
       "      <td>True</td>\n",
       "    </tr>\n",
       "    <tr>\n",
       "      <th>206</th>\n",
       "      <td>7950</td>\n",
       "      <td>7682</td>\n",
       "      <td>15632</td>\n",
       "      <td>[198,174,23,69,182,87,6,88,38,163,199,78,12,18...</td>\n",
       "      <td>True</td>\n",
       "    </tr>\n",
       "    <tr>\n",
       "      <th>198</th>\n",
       "      <td>8026</td>\n",
       "      <td>7638</td>\n",
       "      <td>15664</td>\n",
       "      <td>[198,174,23,32,182,87,6,88,38,163,75,86,12,185...</td>\n",
       "      <td>True</td>\n",
       "    </tr>\n",
       "    <tr>\n",
       "      <th>195</th>\n",
       "      <td>7945</td>\n",
       "      <td>7724</td>\n",
       "      <td>15669</td>\n",
       "      <td>[198,174,23,32,132,87,6,88,38,163,199,78,12,18...</td>\n",
       "      <td>True</td>\n",
       "    </tr>\n",
       "    <tr>\n",
       "      <th>129</th>\n",
       "      <td>8128</td>\n",
       "      <td>7634</td>\n",
       "      <td>15762</td>\n",
       "      <td>[198,174,23,32,182,87,6,88,38,163,75,86,12,185...</td>\n",
       "      <td>True</td>\n",
       "    </tr>\n",
       "  </tbody>\n",
       "</table>\n",
       "<p>150 rows × 5 columns</p>\n",
       "</div>"
      ],
      "text/plain": [
       "      utilA utilB utilSum                                           contract  \\\n",
       "99998  2243  8253   10496  [4,67,193,48,10,1,91,129,8,84,122,73,174,135,2...   \n",
       "1471   2231  8265   10496  [4,67,193,48,10,1,91,129,8,84,122,73,174,135,2...   \n",
       "0      2243  8253   10496  [4,67,193,48,10,1,91,129,8,84,122,73,174,135,2...   \n",
       "1124   2242  8259   10501  [4,67,193,48,10,1,91,129,8,84,122,73,174,135,2...   \n",
       "2206   2253  8251   10504  [4,67,193,48,10,1,91,129,8,84,122,73,174,135,2...   \n",
       "...     ...   ...     ...                                                ...   \n",
       "223    7832  7737   15569  [198,174,23,32,132,87,6,88,38,163,199,78,12,18...   \n",
       "206    7950  7682   15632  [198,174,23,69,182,87,6,88,38,163,199,78,12,18...   \n",
       "198    8026  7638   15664  [198,174,23,32,182,87,6,88,38,163,75,86,12,185...   \n",
       "195    7945  7724   15669  [198,174,23,32,132,87,6,88,38,163,199,78,12,18...   \n",
       "129    8128  7634   15762  [198,174,23,32,182,87,6,88,38,163,75,86,12,185...   \n",
       "\n",
       "       pareto  \n",
       "99998    True  \n",
       "1471     True  \n",
       "0        True  \n",
       "1124     True  \n",
       "2206     True  \n",
       "...       ...  \n",
       "223      True  \n",
       "206      True  \n",
       "198      True  \n",
       "195      True  \n",
       "129      True  \n",
       "\n",
       "[150 rows x 5 columns]"
      ]
     },
     "execution_count": 110,
     "metadata": {},
     "output_type": "execute_result"
    }
   ],
   "source": [
    "for savefile in savefiles:\n",
    "    contracts = pd.read_csv(SAVE_PATH + savefile, sep=';')\n",
    "    if \"pareto\" not in contracts.columns:\n",
    "        contracts[\"pareto\"] = get_pareto(contracts[[\"utilA\",\"utilB\"]])\n",
    "        contracts = contracts.sort_values(by=\"utilSum\", ascending=False).drop_duplicates()\n",
    "        contracts.to_csv(SAVE_PATH+savefile, sep=';', index=False)\n",
    "    pareto = pd.concat([pareto, contracts[contracts[\"pareto\"]]])\n",
    "pareto = pareto.sort_values(by=\"utilSum\", ascending=False).drop_duplicates()\n",
    "pareto[\"pareto\"] = get_pareto(pareto[[\"utilA\",\"utilB\"]])\n",
    "pareto = pareto[pareto[\"pareto\"]].sort_values(by=\"utilSum\", ascending=True)\n",
    "pareto.to_csv(SAVE_PATH+'pareto.csv', sep=';', index=False)\n",
    "pareto"
   ]
  },
  {
   "cell_type": "code",
   "execution_count": 111,
   "metadata": {},
   "outputs": [
    {
     "data": {
      "text/plain": [
       "<matplotlib.collections.PathCollection at 0x1cf43c49fd0>"
      ]
     },
     "execution_count": 111,
     "metadata": {},
     "output_type": "execute_result"
    },
    {
     "data": {
      "image/png": "[encoded data removed]",
      "text/plain": [
       "<Figure size 640x480 with 1 Axes>"
      ]
     },
     "metadata": {},
     "output_type": "display_data"
    }
   ],
   "source": [
    "pareto = pareto.sort_values(by=\"utilA\", ascending=True)\n",
    "plt.title(\"Pareto frontier\")\n",
    "plt.plot(pareto[\"utilA\"], pareto[\"utilB\"], color='blue', linestyle=':', linewidth=2)\n",
    "plt.scatter(pareto[\"utilA\"], pareto[\"utilB\"], color='blue')"
   ]
  },
  {
   "cell_type": "code",
   "execution_count": 112,
   "metadata": {},
   "outputs": [
    {
     "data": {
      "text/plain": [
       "(150, 5)"
      ]
     },
     "execution_count": 112,
     "metadata": {},
     "output_type": "execute_result"
    }
   ],
   "source": [
    "pareto.shape"
   ]
  }
 ],
 "metadata": {
  "kernelspec": {
   "display_name": "Python 3",
   "language": "python",
   "name": "python3"
  },
  "language_info": {
   "codemirror_mode": {
    "name": "ipython",
    "version": 3
   },
   "file_extension": ".py",
   "mimetype": "text/x-python",
   "name": "python",
   "nbconvert_exporter": "python",
   "pygments_lexer": "ipython3",
   "version": "3.11.3"
  }
 },
 "nbformat": 4,
 "nbformat_minor": 2
}
