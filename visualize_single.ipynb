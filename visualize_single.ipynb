{
 "cells": [
  {
   "cell_type": "markdown",
   "metadata": {},
   "source": [
    "### IMPORTS"
   ]
  },
  {
   "cell_type": "code",
   "execution_count": 165,
   "metadata": {},
   "outputs": [
    {
     "data": {
      "text/plain": [
       "'c:\\\\Users\\\\luisb\\\\AppData\\\\Local\\\\Programs\\\\Python\\\\Python312\\\\python.exe'"
      ]
     },
     "execution_count": 165,
     "metadata": {},
     "output_type": "execute_result"
    }
   ],
   "source": [
    "import sys\n",
    "import os\n",
    "sys.executable"
   ]
  },
  {
   "cell_type": "code",
   "execution_count": 166,
   "metadata": {},
   "outputs": [],
   "source": [
    "import pandas as pd\n",
    "import matplotlib.pyplot as plt\n",
    "import seaborn as sns\n",
    "import numpy as np"
   ]
  },
  {
   "cell_type": "code",
   "execution_count": 167,
   "metadata": {},
   "outputs": [],
   "source": [
    "def get_pareto(arr):\n",
    "    # Convert the array to a numpy array\n",
    "    arr_np = np.array(arr)\n",
    "\n",
    "    # Initialize a boolean mask to keep track of pareto-efficient elements\n",
    "    is_pareto_efficient = np.ones(arr_np.shape[0], dtype=bool)\n",
    "\n",
    "    for i in range(arr_np.shape[0]):\n",
    "        if is_pareto_efficient[i]:\n",
    "            for j in range(arr_np.shape[0]):\n",
    "                if j != i and is_pareto_efficient[j]:\n",
    "                    # Check if arr[i] dominates arr[j] in all dimensions\n",
    "                    if np.all(arr_np[i] <= arr_np[j]) and np.any(arr_np[i] < arr_np[j]):\n",
    "                        is_pareto_efficient[j] = False\n",
    "\n",
    "    # Return the pareto-efficient elements\n",
    "    return is_pareto_efficient\n",
    "    "
   ]
  },
  {
   "cell_type": "markdown",
   "metadata": {},
   "source": [
    "### Visualization"
   ]
  },
  {
   "cell_type": "code",
   "execution_count": 168,
   "metadata": {},
   "outputs": [
    {
     "name": "stdout",
     "output_type": "stream",
     "text": [
      "['pareto.csv', 'saves_1710424156961.csv', 'saves_1710424454746.csv', 'saves_1710424515049.csv', 'saves_1710424637019.csv', 'saves_1710424916129.csv']\n"
     ]
    },
    {
     "data": {
      "text/plain": [
       "'Visualizing data from: saves_1710424916129.csv'"
      ]
     },
     "execution_count": 168,
     "metadata": {},
     "output_type": "execute_result"
    }
   ],
   "source": [
    "print(os.listdir(\"saves\"))\n",
    "savefile = os.listdir(\"saves\")[-1]\n",
    "\"Visualizing data from: \" + savefile"
   ]
  },
  {
   "cell_type": "code",
   "execution_count": 169,
   "metadata": {},
   "outputs": [
    {
     "name": "stdout",
     "output_type": "stream",
     "text": [
      "(99999, 5)\n"
     ]
    },
    {
     "data": {
      "text/html": [
       "<div>\n",
       "<style scoped>\n",
       "    .dataframe tbody tr th:only-of-type {\n",
       "        vertical-align: middle;\n",
       "    }\n",
       "\n",
       "    .dataframe tbody tr th {\n",
       "        vertical-align: top;\n",
       "    }\n",
       "\n",
       "    .dataframe thead th {\n",
       "        text-align: right;\n",
       "    }\n",
       "</style>\n",
       "<table border=\"1\" class=\"dataframe\">\n",
       "  <thead>\n",
       "    <tr style=\"text-align: right;\">\n",
       "      <th></th>\n",
       "      <th>utilA</th>\n",
       "      <th>utilB</th>\n",
       "      <th>utilSum</th>\n",
       "      <th>contract</th>\n",
       "      <th>pareto</th>\n",
       "    </tr>\n",
       "  </thead>\n",
       "  <tbody>\n",
       "    <tr>\n",
       "      <th>0</th>\n",
       "      <td>10414</td>\n",
       "      <td>9719</td>\n",
       "      <td>20133</td>\n",
       "      <td>[0,1,2,3,4,5,6,7,8,9,10,11,12,13,14,15,16,17,1...</td>\n",
       "      <td>False</td>\n",
       "    </tr>\n",
       "    <tr>\n",
       "      <th>1</th>\n",
       "      <td>10403</td>\n",
       "      <td>9704</td>\n",
       "      <td>20107</td>\n",
       "      <td>[0,1,2,3,4,5,6,7,8,9,10,11,12,13,14,15,16,17,1...</td>\n",
       "      <td>False</td>\n",
       "    </tr>\n",
       "    <tr>\n",
       "      <th>2</th>\n",
       "      <td>10410</td>\n",
       "      <td>9660</td>\n",
       "      <td>20070</td>\n",
       "      <td>[0,1,2,3,4,5,6,7,8,9,10,11,12,13,14,15,16,17,1...</td>\n",
       "      <td>False</td>\n",
       "    </tr>\n",
       "    <tr>\n",
       "      <th>3</th>\n",
       "      <td>10360</td>\n",
       "      <td>9705</td>\n",
       "      <td>20065</td>\n",
       "      <td>[0,1,2,3,4,5,6,7,8,9,10,11,12,13,14,15,16,17,1...</td>\n",
       "      <td>False</td>\n",
       "    </tr>\n",
       "    <tr>\n",
       "      <th>4</th>\n",
       "      <td>10356</td>\n",
       "      <td>9681</td>\n",
       "      <td>20037</td>\n",
       "      <td>[0,1,2,3,4,5,6,7,8,9,10,11,12,13,14,15,16,17,1...</td>\n",
       "      <td>False</td>\n",
       "    </tr>\n",
       "  </tbody>\n",
       "</table>\n",
       "</div>"
      ],
      "text/plain": [
       "   utilA  utilB  utilSum                                           contract  \\\n",
       "0  10414   9719    20133  [0,1,2,3,4,5,6,7,8,9,10,11,12,13,14,15,16,17,1...   \n",
       "1  10403   9704    20107  [0,1,2,3,4,5,6,7,8,9,10,11,12,13,14,15,16,17,1...   \n",
       "2  10410   9660    20070  [0,1,2,3,4,5,6,7,8,9,10,11,12,13,14,15,16,17,1...   \n",
       "3  10360   9705    20065  [0,1,2,3,4,5,6,7,8,9,10,11,12,13,14,15,16,17,1...   \n",
       "4  10356   9681    20037  [0,1,2,3,4,5,6,7,8,9,10,11,12,13,14,15,16,17,1...   \n",
       "\n",
       "   pareto  \n",
       "0   False  \n",
       "1   False  \n",
       "2   False  \n",
       "3   False  \n",
       "4   False  "
      ]
     },
     "execution_count": 169,
     "metadata": {},
     "output_type": "execute_result"
    }
   ],
   "source": [
    "# Read CSV\n",
    "contracts = pd.read_csv('saves/'+savefile, sep=';')\n",
    "print(contracts.shape)\n",
    "contracts.head()"
   ]
  },
  {
   "cell_type": "code",
   "execution_count": 170,
   "metadata": {},
   "outputs": [
    {
     "data": {
      "image/png": "[encoded data removed]",
      "text/plain": [
       "<Figure size 600x600 with 3 Axes>"
      ]
     },
     "metadata": {},
     "output_type": "display_data"
    }
   ],
   "source": [
    "if \"pareto\" in contracts.columns:\n",
    "    sns.jointplot(data=contracts, x=\"utilA\", y=\"utilB\", kind='scatter', hue=\"pareto\", marker=\"+\")\n",
    "else:\n",
    "    sns.jointplot(data=contracts, x=\"utilA\", y=\"utilB\", kind='scatter', marker=\"+\")"
   ]
  },
  {
   "cell_type": "code",
   "execution_count": 171,
   "metadata": {},
   "outputs": [
    {
     "data": {
      "text/html": [
       "<div>\n",
       "<style scoped>\n",
       "    .dataframe tbody tr th:only-of-type {\n",
       "        vertical-align: middle;\n",
       "    }\n",
       "\n",
       "    .dataframe tbody tr th {\n",
       "        vertical-align: top;\n",
       "    }\n",
       "\n",
       "    .dataframe thead th {\n",
       "        text-align: right;\n",
       "    }\n",
       "</style>\n",
       "<table border=\"1\" class=\"dataframe\">\n",
       "  <thead>\n",
       "    <tr style=\"text-align: right;\">\n",
       "      <th></th>\n",
       "      <th>utilA</th>\n",
       "      <th>utilB</th>\n",
       "      <th>utilSum</th>\n",
       "      <th>contract</th>\n",
       "      <th>pareto</th>\n",
       "    </tr>\n",
       "  </thead>\n",
       "  <tbody>\n",
       "    <tr>\n",
       "      <th>0</th>\n",
       "      <td>10414</td>\n",
       "      <td>9719</td>\n",
       "      <td>20133</td>\n",
       "      <td>[0,1,2,3,4,5,6,7,8,9,10,11,12,13,14,15,16,17,1...</td>\n",
       "      <td>False</td>\n",
       "    </tr>\n",
       "    <tr>\n",
       "      <th>1</th>\n",
       "      <td>10403</td>\n",
       "      <td>9704</td>\n",
       "      <td>20107</td>\n",
       "      <td>[0,1,2,3,4,5,6,7,8,9,10,11,12,13,14,15,16,17,1...</td>\n",
       "      <td>False</td>\n",
       "    </tr>\n",
       "    <tr>\n",
       "      <th>2</th>\n",
       "      <td>10410</td>\n",
       "      <td>9660</td>\n",
       "      <td>20070</td>\n",
       "      <td>[0,1,2,3,4,5,6,7,8,9,10,11,12,13,14,15,16,17,1...</td>\n",
       "      <td>False</td>\n",
       "    </tr>\n",
       "    <tr>\n",
       "      <th>3</th>\n",
       "      <td>10360</td>\n",
       "      <td>9705</td>\n",
       "      <td>20065</td>\n",
       "      <td>[0,1,2,3,4,5,6,7,8,9,10,11,12,13,14,15,16,17,1...</td>\n",
       "      <td>False</td>\n",
       "    </tr>\n",
       "    <tr>\n",
       "      <th>4</th>\n",
       "      <td>10356</td>\n",
       "      <td>9681</td>\n",
       "      <td>20037</td>\n",
       "      <td>[0,1,2,3,4,5,6,7,8,9,10,11,12,13,14,15,16,17,1...</td>\n",
       "      <td>False</td>\n",
       "    </tr>\n",
       "    <tr>\n",
       "      <th>...</th>\n",
       "      <td>...</td>\n",
       "      <td>...</td>\n",
       "      <td>...</td>\n",
       "      <td>...</td>\n",
       "      <td>...</td>\n",
       "    </tr>\n",
       "    <tr>\n",
       "      <th>99994</th>\n",
       "      <td>2261</td>\n",
       "      <td>8252</td>\n",
       "      <td>10513</td>\n",
       "      <td>[4,67,193,48,10,1,91,129,8,84,122,73,174,135,2...</td>\n",
       "      <td>True</td>\n",
       "    </tr>\n",
       "    <tr>\n",
       "      <th>99995</th>\n",
       "      <td>2273</td>\n",
       "      <td>8240</td>\n",
       "      <td>10513</td>\n",
       "      <td>[4,67,193,48,10,1,91,129,8,84,122,73,174,135,2...</td>\n",
       "      <td>True</td>\n",
       "    </tr>\n",
       "    <tr>\n",
       "      <th>99996</th>\n",
       "      <td>2266</td>\n",
       "      <td>8242</td>\n",
       "      <td>10508</td>\n",
       "      <td>[4,67,193,48,10,1,91,129,8,84,122,73,174,135,2...</td>\n",
       "      <td>True</td>\n",
       "    </tr>\n",
       "    <tr>\n",
       "      <th>99997</th>\n",
       "      <td>2253</td>\n",
       "      <td>8253</td>\n",
       "      <td>10506</td>\n",
       "      <td>[4,67,193,48,10,1,91,129,8,84,122,73,174,135,2...</td>\n",
       "      <td>False</td>\n",
       "    </tr>\n",
       "    <tr>\n",
       "      <th>99998</th>\n",
       "      <td>2243</td>\n",
       "      <td>8253</td>\n",
       "      <td>10496</td>\n",
       "      <td>[4,67,193,48,10,1,91,129,8,84,122,73,174,135,2...</td>\n",
       "      <td>True</td>\n",
       "    </tr>\n",
       "  </tbody>\n",
       "</table>\n",
       "<p>99999 rows × 5 columns</p>\n",
       "</div>"
      ],
      "text/plain": [
       "       utilA  utilB  utilSum  \\\n",
       "0      10414   9719    20133   \n",
       "1      10403   9704    20107   \n",
       "2      10410   9660    20070   \n",
       "3      10360   9705    20065   \n",
       "4      10356   9681    20037   \n",
       "...      ...    ...      ...   \n",
       "99994   2261   8252    10513   \n",
       "99995   2273   8240    10513   \n",
       "99996   2266   8242    10508   \n",
       "99997   2253   8253    10506   \n",
       "99998   2243   8253    10496   \n",
       "\n",
       "                                                contract  pareto  \n",
       "0      [0,1,2,3,4,5,6,7,8,9,10,11,12,13,14,15,16,17,1...   False  \n",
       "1      [0,1,2,3,4,5,6,7,8,9,10,11,12,13,14,15,16,17,1...   False  \n",
       "2      [0,1,2,3,4,5,6,7,8,9,10,11,12,13,14,15,16,17,1...   False  \n",
       "3      [0,1,2,3,4,5,6,7,8,9,10,11,12,13,14,15,16,17,1...   False  \n",
       "4      [0,1,2,3,4,5,6,7,8,9,10,11,12,13,14,15,16,17,1...   False  \n",
       "...                                                  ...     ...  \n",
       "99994  [4,67,193,48,10,1,91,129,8,84,122,73,174,135,2...    True  \n",
       "99995  [4,67,193,48,10,1,91,129,8,84,122,73,174,135,2...    True  \n",
       "99996  [4,67,193,48,10,1,91,129,8,84,122,73,174,135,2...    True  \n",
       "99997  [4,67,193,48,10,1,91,129,8,84,122,73,174,135,2...   False  \n",
       "99998  [4,67,193,48,10,1,91,129,8,84,122,73,174,135,2...    True  \n",
       "\n",
       "[99999 rows x 5 columns]"
      ]
     },
     "execution_count": 171,
     "metadata": {},
     "output_type": "execute_result"
    }
   ],
   "source": [
    "# Determine pareto-efficient contracts if necessary\n",
    "if \"pareto\" not in contracts.columns:\n",
    "    contracts[\"pareto\"] = get_pareto(contracts[[\"utilA\",\"utilB\"]])\n",
    "    contracts = contracts.sort_values(by=\"utilSum\", ascending=False).drop_duplicates()\n",
    "    contracts.to_csv('saves/'+savefile, sep=';', index=False)\n",
    "contracts"
   ]
  }
 ],
 "metadata": {
  "kernelspec": {
   "display_name": "Python 3",
   "language": "python",
   "name": "python3"
  },
  "language_info": {
   "codemirror_mode": {
    "name": "ipython",
    "version": 3
   },
   "file_extension": ".py",
   "mimetype": "text/x-python",
   "name": "python",
   "nbconvert_exporter": "python",
   "pygments_lexer": "ipython3",
   "version": "3.12.0"
  }
 },
 "nbformat": 4,
 "nbformat_minor": 2
}
